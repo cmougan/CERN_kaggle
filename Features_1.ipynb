{
 "cells": [
  {
   "cell_type": "code",
   "execution_count": 2,
   "metadata": {
    "ExecuteTime": {
     "end_time": "2020-10-26T14:24:30.373840Z",
     "start_time": "2020-10-26T14:24:30.362317Z"
    }
   },
   "outputs": [
    {
     "data": {
      "application/javascript": [
       "utils.load_extension(\"collapsible_headings/main\")\n",
       "utils.load_extension(\"autosavetime/main\")\n",
       "utils.load_extension(\"execute_time/ExecuteTime\")\n"
      ],
      "text/plain": [
       "<IPython.core.display.Javascript object>"
      ]
     },
     "metadata": {},
     "output_type": "display_data"
    }
   ],
   "source": [
    "%%javascript\n",
    "utils.load_extension(\"collapsible_headings/main\")\n",
    "utils.load_extension(\"autosavetime/main\")\n",
    "utils.load_extension(\"execute_time/ExecuteTime\")"
   ]
  },
  {
   "cell_type": "code",
   "execution_count": 3,
   "metadata": {
    "ExecuteTime": {
     "end_time": "2020-11-01T15:10:42.663445Z",
     "start_time": "2020-11-01T15:10:39.829965Z"
    }
   },
   "outputs": [],
   "source": [
    "import pandas as pd\n",
    "pd.set_option('display.max_columns', 500)\n",
    "from catboost import CatBoostClassifier\n",
    "import numpy as np\n",
    "import matplotlib.pyplot as plt\n",
    "from cern_utils import plot_feature_importance\n",
    "from sklearn.metrics import roc_auc_score,auc\n",
    "from xgboost import XGBClassifier\n",
    "\n",
    "from sklearn.ensemble import RandomForestClassifier\n",
    "from sklearn.model_selection import train_test_split\n",
    "from sklearn.ensemble import VotingClassifier\n",
    "from sklearn.neural_network import MLPClassifier\n",
    "from sklearn.neighbors import KNeighborsClassifier\n",
    "plt.style.use('seaborn')\n",
    "\n",
    "import math\n",
    "\n",
    "import random \n",
    "random.seed(0)\n",
    "\n",
    "from path_utils import return_impurity,pie_plot_filtered"
   ]
  },
  {
   "cell_type": "code",
   "execution_count": null,
   "metadata": {},
   "outputs": [],
   "source": []
  },
  {
   "cell_type": "code",
   "execution_count": 4,
   "metadata": {
    "ExecuteTime": {
     "end_time": "2020-11-01T15:10:43.657934Z",
     "start_time": "2020-11-01T15:10:42.665988Z"
    }
   },
   "outputs": [],
   "source": [
    "train = pd.read_csv(\"train.csv\", index_col=\"Id\")\n",
    "test = pd.read_csv(\"test.csv\", index_col=\"Id\")\n",
    "train = train.drop(columns=\"BUTTER\")\n",
    "test = test.drop(columns=\"BUTTER\")"
   ]
  },
  {
   "cell_type": "markdown",
   "metadata": {},
   "source": [
    "## Feature Engineering"
   ]
  },
  {
   "cell_type": "code",
   "execution_count": 5,
   "metadata": {
    "ExecuteTime": {
     "end_time": "2020-11-01T15:10:43.669191Z",
     "start_time": "2020-11-01T15:10:43.662196Z"
    }
   },
   "outputs": [],
   "source": [
    "train['train']=1\n",
    "test['train']=0\n"
   ]
  },
  {
   "cell_type": "code",
   "execution_count": 6,
   "metadata": {
    "ExecuteTime": {
     "end_time": "2020-11-01T15:10:43.727858Z",
     "start_time": "2020-11-01T15:10:43.680482Z"
    }
   },
   "outputs": [],
   "source": [
    "df = train.append(test)"
   ]
  },
  {
   "cell_type": "code",
   "execution_count": 7,
   "metadata": {
    "ExecuteTime": {
     "end_time": "2020-11-01T15:10:43.741160Z",
     "start_time": "2020-11-01T15:10:43.735379Z"
    }
   },
   "outputs": [],
   "source": [
    "df.columns = df.columns.str.replace(' ', '')"
   ]
  },
  {
   "cell_type": "code",
   "execution_count": 8,
   "metadata": {
    "ExecuteTime": {
     "end_time": "2020-11-01T15:10:43.788793Z",
     "start_time": "2020-11-01T15:10:43.758025Z"
    },
    "scrolled": false
   },
   "outputs": [
    {
     "data": {
      "text/html": [
       "<div>\n",
       "<style scoped>\n",
       "    .dataframe tbody tr th:only-of-type {\n",
       "        vertical-align: middle;\n",
       "    }\n",
       "\n",
       "    .dataframe tbody tr th {\n",
       "        vertical-align: top;\n",
       "    }\n",
       "\n",
       "    .dataframe thead th {\n",
       "        text-align: right;\n",
       "    }\n",
       "</style>\n",
       "<table border=\"1\" class=\"dataframe\">\n",
       "  <thead>\n",
       "    <tr style=\"text-align: right;\">\n",
       "      <th></th>\n",
       "      <th>B_OWNPV_CHI2</th>\n",
       "      <th>B_IPCHI2_OWNPV</th>\n",
       "      <th>B_FDCHI2_OWNPV</th>\n",
       "      <th>B_DIRA_OWNPV</th>\n",
       "      <th>B_PT</th>\n",
       "      <th>Kst_892_0_IP_OWNPV</th>\n",
       "      <th>Kst_892_0_cosThetaH</th>\n",
       "      <th>Kplus_IP_OWNPV</th>\n",
       "      <th>Kplus_P</th>\n",
       "      <th>piminus_IP_OWNPV</th>\n",
       "      <th>piminus_P</th>\n",
       "      <th>gamma_PT</th>\n",
       "      <th>piminus_ETA</th>\n",
       "      <th>Kplus_ETA</th>\n",
       "      <th>signal</th>\n",
       "      <th>train</th>\n",
       "    </tr>\n",
       "    <tr>\n",
       "      <th>Id</th>\n",
       "      <th></th>\n",
       "      <th></th>\n",
       "      <th></th>\n",
       "      <th></th>\n",
       "      <th></th>\n",
       "      <th></th>\n",
       "      <th></th>\n",
       "      <th></th>\n",
       "      <th></th>\n",
       "      <th></th>\n",
       "      <th></th>\n",
       "      <th></th>\n",
       "      <th></th>\n",
       "      <th></th>\n",
       "      <th></th>\n",
       "      <th></th>\n",
       "    </tr>\n",
       "  </thead>\n",
       "  <tbody>\n",
       "    <tr>\n",
       "      <th>0</th>\n",
       "      <td>28.878847</td>\n",
       "      <td>2.662533</td>\n",
       "      <td>2924.690991</td>\n",
       "      <td>0.999997</td>\n",
       "      <td>19085.568945</td>\n",
       "      <td>0.569198</td>\n",
       "      <td>-0.575502</td>\n",
       "      <td>0.581565</td>\n",
       "      <td>66850.893711</td>\n",
       "      <td>0.637969</td>\n",
       "      <td>14298.486178</td>\n",
       "      <td>7940.694301</td>\n",
       "      <td>2.628526</td>\n",
       "      <td>2.680116</td>\n",
       "      <td>1.0</td>\n",
       "      <td>1</td>\n",
       "    </tr>\n",
       "    <tr>\n",
       "      <th>1</th>\n",
       "      <td>34.233566</td>\n",
       "      <td>0.092746</td>\n",
       "      <td>346.948714</td>\n",
       "      <td>0.999997</td>\n",
       "      <td>6631.244546</td>\n",
       "      <td>0.248707</td>\n",
       "      <td>-0.615941</td>\n",
       "      <td>0.277898</td>\n",
       "      <td>39274.475071</td>\n",
       "      <td>0.148815</td>\n",
       "      <td>11553.163934</td>\n",
       "      <td>3904.681337</td>\n",
       "      <td>3.292504</td>\n",
       "      <td>3.085754</td>\n",
       "      <td>1.0</td>\n",
       "      <td>1</td>\n",
       "    </tr>\n",
       "    <tr>\n",
       "      <th>2</th>\n",
       "      <td>36.113632</td>\n",
       "      <td>2.442423</td>\n",
       "      <td>238.553023</td>\n",
       "      <td>0.999986</td>\n",
       "      <td>7740.918989</td>\n",
       "      <td>0.222347</td>\n",
       "      <td>0.249383</td>\n",
       "      <td>0.216576</td>\n",
       "      <td>27757.153899</td>\n",
       "      <td>0.249840</td>\n",
       "      <td>24081.196003</td>\n",
       "      <td>4738.891687</td>\n",
       "      <td>3.433676</td>\n",
       "      <td>3.121906</td>\n",
       "      <td>1.0</td>\n",
       "      <td>1</td>\n",
       "    </tr>\n",
       "    <tr>\n",
       "      <th>3</th>\n",
       "      <td>14.286133</td>\n",
       "      <td>6.337556</td>\n",
       "      <td>227.375132</td>\n",
       "      <td>0.999806</td>\n",
       "      <td>6740.281614</td>\n",
       "      <td>0.347316</td>\n",
       "      <td>0.591884</td>\n",
       "      <td>0.306927</td>\n",
       "      <td>10593.207077</td>\n",
       "      <td>0.400748</td>\n",
       "      <td>11343.521945</td>\n",
       "      <td>3308.943750</td>\n",
       "      <td>2.291867</td>\n",
       "      <td>2.200712</td>\n",
       "      <td>0.0</td>\n",
       "      <td>1</td>\n",
       "    </tr>\n",
       "    <tr>\n",
       "      <th>4</th>\n",
       "      <td>60.474274</td>\n",
       "      <td>7.632751</td>\n",
       "      <td>106.730650</td>\n",
       "      <td>0.999905</td>\n",
       "      <td>5556.388794</td>\n",
       "      <td>0.204273</td>\n",
       "      <td>0.655850</td>\n",
       "      <td>0.196600</td>\n",
       "      <td>11801.249543</td>\n",
       "      <td>0.223101</td>\n",
       "      <td>25940.693317</td>\n",
       "      <td>4026.326871</td>\n",
       "      <td>3.290073</td>\n",
       "      <td>3.281829</td>\n",
       "      <td>0.0</td>\n",
       "      <td>1</td>\n",
       "    </tr>\n",
       "  </tbody>\n",
       "</table>\n",
       "</div>"
      ],
      "text/plain": [
       "    B_OWNPV_CHI2  B_IPCHI2_OWNPV  B_FDCHI2_OWNPV  B_DIRA_OWNPV          B_PT  \\\n",
       "Id                                                                             \n",
       "0      28.878847        2.662533     2924.690991      0.999997  19085.568945   \n",
       "1      34.233566        0.092746      346.948714      0.999997   6631.244546   \n",
       "2      36.113632        2.442423      238.553023      0.999986   7740.918989   \n",
       "3      14.286133        6.337556      227.375132      0.999806   6740.281614   \n",
       "4      60.474274        7.632751      106.730650      0.999905   5556.388794   \n",
       "\n",
       "    Kst_892_0_IP_OWNPV  Kst_892_0_cosThetaH  Kplus_IP_OWNPV       Kplus_P  \\\n",
       "Id                                                                          \n",
       "0             0.569198            -0.575502        0.581565  66850.893711   \n",
       "1             0.248707            -0.615941        0.277898  39274.475071   \n",
       "2             0.222347             0.249383        0.216576  27757.153899   \n",
       "3             0.347316             0.591884        0.306927  10593.207077   \n",
       "4             0.204273             0.655850        0.196600  11801.249543   \n",
       "\n",
       "    piminus_IP_OWNPV     piminus_P     gamma_PT  piminus_ETA  Kplus_ETA  \\\n",
       "Id                                                                        \n",
       "0           0.637969  14298.486178  7940.694301     2.628526   2.680116   \n",
       "1           0.148815  11553.163934  3904.681337     3.292504   3.085754   \n",
       "2           0.249840  24081.196003  4738.891687     3.433676   3.121906   \n",
       "3           0.400748  11343.521945  3308.943750     2.291867   2.200712   \n",
       "4           0.223101  25940.693317  4026.326871     3.290073   3.281829   \n",
       "\n",
       "    signal  train  \n",
       "Id                 \n",
       "0      1.0      1  \n",
       "1      1.0      1  \n",
       "2      1.0      1  \n",
       "3      0.0      1  \n",
       "4      0.0      1  "
      ]
     },
     "execution_count": 8,
     "metadata": {},
     "output_type": "execute_result"
    }
   ],
   "source": [
    "df.head()"
   ]
  },
  {
   "cell_type": "code",
   "execution_count": 9,
   "metadata": {
    "ExecuteTime": {
     "end_time": "2020-11-01T15:10:43.814206Z",
     "start_time": "2020-11-01T15:10:43.791177Z"
    }
   },
   "outputs": [],
   "source": [
    "df['random'] = np.random.random(df.shape[0])"
   ]
  },
  {
   "cell_type": "markdown",
   "metadata": {},
   "source": [
    "### Features"
   ]
  },
  {
   "cell_type": "code",
   "execution_count": 11,
   "metadata": {
    "ExecuteTime": {
     "end_time": "2020-11-01T15:10:47.611068Z",
     "start_time": "2020-11-01T15:10:47.578389Z"
    }
   },
   "outputs": [],
   "source": [
    "# Did not work\n",
    "df['Kst_892_0_cosThetaH_arc'] = np.arccos(df['Kst_892_0_cosThetaH'])\n",
    "df['Kst_892_0_cosThetaH_arc_sin'] = np.sin(df.Kst_892_0_cosThetaH_arc)\n",
    "\n",
    "df['Kplu_pXKst_892costheta'] = df['Kplus_P'] * df['Kst_892_0_cosThetaH']\n",
    "\n",
    "\n",
    "df['momentum_by_shortest_dist'] = df['Kplus_P']/df['Kplus_IP_OWNPV']\n",
    "\n",
    "df['momentum_sum'] = df['B_PT'] + df['Kplus_P'] + df['gamma_PT']"
   ]
  },
  {
   "cell_type": "code",
   "execution_count": 12,
   "metadata": {
    "ExecuteTime": {
     "end_time": "2020-11-01T15:10:48.176959Z",
     "start_time": "2020-11-01T15:10:48.169798Z"
    }
   },
   "outputs": [],
   "source": [
    "# Worked individually\n",
    "df['Kplu_p_div_Kst_892costheta'] = df['Kplus_P'] / df['Kst_892_0_cosThetaH']"
   ]
  },
  {
   "cell_type": "code",
   "execution_count": 13,
   "metadata": {
    "ExecuteTime": {
     "end_time": "2020-11-01T15:10:48.473481Z",
     "start_time": "2020-11-01T15:10:48.462664Z"
    }
   },
   "outputs": [],
   "source": [
    "# ETA (estimated time of arrival) inversions -- worked\n",
    "df['Kplus_ETA_inv'] = 1/df['Kplus_ETA']\n",
    "df['piminus_ETA_inv'] = 1/df['piminus_ETA']\n"
   ]
  },
  {
   "cell_type": "code",
   "execution_count": 14,
   "metadata": {
    "ExecuteTime": {
     "end_time": "2020-11-01T15:10:48.833778Z",
     "start_time": "2020-11-01T15:10:48.706796Z"
    }
   },
   "outputs": [],
   "source": [
    "# Momentum\n",
    "\n",
    "df['total_mom_2'] = df['B_PT']**2 + df['gamma_PT']**2 + df['Kplus_P']**2\n",
    "df['total_mom_sum'] = df['B_PT'] + df['gamma_PT']+ df['Kplus_P']\n",
    "\n",
    "# All mom ratios worked together\n",
    "df[\"mom_rat_1\"] = df[\"B_PT\"] / df[\"Kplus_P\"]\n",
    "df[\"mom_rat_2\"] = df[\"B_PT\"] / df[\"gamma_PT\"]\n",
    "\n",
    "\n",
    "df[\"mom_rat_3\"] = df[\"gamma_PT\"] / df[\"B_PT\"]\n",
    "df[\"mom_rat_4\"] = df[\"gamma_PT\"] / df[\"Kplus_P\"]\n",
    "\n",
    "df[\"mom_rat_5\"] = df[\"Kplus_P\"] / df[\"B_PT\"]\n",
    "df[\"mom_rat_6\"] = df[\"Kplus_P\"] / df[\"gamma_PT\"]\n",
    "\n",
    "df['ThetaH'] = np.arccos(df['Kst_892_0_cosThetaH'])\n",
    "\n",
    "\n",
    "df['Kplus_P_x'] = df['Kplus_P'] * np.sin(df['ThetaH'])\n",
    "df['Kplus_P_y'] = df['Kplus_P'] * np.cos(df['ThetaH'])\n",
    "\n",
    "df['mom_consev1'] = df[\"gamma_PT\"]**2 + df[\"Kplus_P\"]**2 - df[\"B_PT\"]**2\n",
    "df['mom_consev1_1'] = ((df[\"gamma_PT\"] + df[\"Kplus_P\"]))**2 - df[\"B_PT\"]**2"
   ]
  },
  {
   "cell_type": "code",
   "execution_count": 15,
   "metadata": {
    "ExecuteTime": {
     "end_time": "2020-11-01T15:10:48.961601Z",
     "start_time": "2020-11-01T15:10:48.926282Z"
    }
   },
   "outputs": [],
   "source": [
    "# B meson ratios\n",
    "df['mesB_ratio_1'] = df['B_FDCHI2_OWNPV']/df['B_IPCHI2_OWNPV']\n",
    "df['mesB_ratio_2'] = df['B_FDCHI2_OWNPV']/df['B_PT']\n",
    "\n",
    "df['mesB_ratio_3'] = df['B_IPCHI2_OWNPV']/df['B_PT']\n",
    "df['mesB_ratio_4'] = df['B_IPCHI2_OWNPV']/df['B_PT']\n",
    "\n",
    "df['mesB_ratio_5'] = df['B_PT']/df['B_IPCHI2_OWNPV']\n",
    "df['mesB_ratio_6'] = df['B_PT']/df['B_FDCHI2_OWNPV']\n"
   ]
  },
  {
   "cell_type": "code",
   "execution_count": 16,
   "metadata": {
    "ExecuteTime": {
     "end_time": "2020-11-01T15:10:49.653893Z",
     "start_time": "2020-11-01T15:10:49.527067Z"
    }
   },
   "outputs": [],
   "source": [
    "# Neither Improved neither worst\n",
    "df[\"kst_thetaH\"] = np.arccos(df.Kst_892_0_cosThetaH)# * 180 / np.pi\n",
    "df[\"kst_thetaH_sin\"] = np.sin(df[\"kst_thetaH\"])\n",
    "df[\"kst_thetaH_cos\"] = np.cos(df[\"kst_thetaH\"])\n",
    "df[\"kst_thetaH_sin_cos\"] = np.sin(df[\"kst_thetaH\"]) - np.cos(df[\"kst_thetaH\"])\n",
    "df[\"kst_thetaH_tan\"] = np.tan(df[\"kst_thetaH\"])\n",
    "df[\"kst_thetaH_exp\"] = np.exp(df[\"kst_thetaH\"])\n",
    "df[\"kst_thetaH_exp_1\"] = np.exp(-df[\"kst_thetaH\"])\n",
    "\n",
    "\n",
    "df[\"B_DIRA_OWNPV_angle\"] = np.arccos(df[\"B_DIRA_OWNPV\"])# * 180 / np.pi\n",
    "df[\"B_DIRA_OWNPV__cos\"] = np.cos(df[\"B_DIRA_OWNPV_angle\"])\n",
    "df[\"B_DIRA_OWNPV__sin\"] = np.sin(df[\"B_DIRA_OWNPV_angle\"])\n",
    "df[\"B_DIRA_OWNPV__tan\"] = np.tan(df[\"B_DIRA_OWNPV_angle\"])\n",
    "df[\"B_DIRA_OWNPV__sin_cos\"] = np.sin(df[\"B_DIRA_OWNPV_angle\"]) - np.cos(\n",
    "    df[\"B_DIRA_OWNPV_angle\"]\n",
    ")\n",
    "df[\"B_DIRA_OWNPV_exp\"] = np.exp(df[\"B_DIRA_OWNPV_angle\"])\n",
    "df[\"B_DIRA_OWNPV_exp_1\"] = np.exp(-df[\"B_DIRA_OWNPV_angle\"])\n",
    "\n"
   ]
  },
  {
   "cell_type": "code",
   "execution_count": 17,
   "metadata": {
    "ExecuteTime": {
     "end_time": "2020-11-01T15:10:50.013418Z",
     "start_time": "2020-11-01T15:10:49.761511Z"
    }
   },
   "outputs": [],
   "source": [
    "# Momentum multiplication\n",
    "df['mom1_exp'] = df[\"mom_rat_1\"] * df[\"B_DIRA_OWNPV_exp\"] \n",
    "df['mom2_exp'] = df[\"mom_rat_2\"] * df[\"B_DIRA_OWNPV_exp\"] \n",
    "df['mom3_exp'] = df[\"mom_rat_3\"] * df[\"B_DIRA_OWNPV_exp\"] \n",
    "df['mom4_exp'] = df[\"mom_rat_4\"] * df[\"B_DIRA_OWNPV_exp\"] \n",
    "df['mom5_exp'] = df[\"mom_rat_5\"] * df[\"B_DIRA_OWNPV_exp\"] \n",
    "df['mom6_exp'] = df[\"mom_rat_6\"] * df[\"B_DIRA_OWNPV_exp\"] \n",
    "df['mom7_exp'] = df[\"B_PT\"] * df[\"B_DIRA_OWNPV_exp\"] \n",
    "df['mom8_exp'] = df[\"Kplus_P\"] * df[\"B_DIRA_OWNPV_exp\"] \n",
    "df['mom9_exp'] = df[\"gamma_PT\"] * df[\"B_DIRA_OWNPV_exp\"] \n",
    "\n",
    "\n",
    "\n",
    "df['mom11_exp'] = df[\"mom_rat_1\"] * df[\"kst_thetaH\"] \n",
    "df['mom22_exp'] = df[\"mom_rat_2\"] * df[\"kst_thetaH\"] \n",
    "df['mom33_exp'] = df[\"mom_rat_3\"] * df[\"kst_thetaH\"] \n",
    "df['mom44_exp'] = df[\"mom_rat_4\"] * df[\"kst_thetaH\"] \n",
    "df['mom55_exp'] = df[\"mom_rat_5\"] * df[\"kst_thetaH\"] \n",
    "df['mom66_exp'] = df[\"mom_rat_6\"] * df[\"kst_thetaH\"] \n",
    "df['mom77_exp'] = df[\"B_PT\"] * df[\"kst_thetaH\"] \n",
    "df['mom88_exp'] = df[\"Kplus_P\"] * df[\"kst_thetaH\"] \n",
    "df['mom99_exp'] = df[\"gamma_PT\"] * df[\"kst_thetaH\"] \n",
    "\n",
    "\n",
    "\n",
    "df['Kplus_ETA_2'] = df['Kplus_ETA']**2\n",
    "df['Kplus_ETA_exp'] = np.exp(df['Kplus_ETA'])\n",
    "df['Kplus_ETA_theta'] = df['Kplus_ETA'] * df[\"kst_thetaH\"]\n",
    "df['Kplus_ETA_div_theta'] = df['Kplus_ETA'] / df[\"kst_thetaH\"]\n",
    "df['Kplus_ETA_theta_sin'] = df['Kplus_ETA'] * df[\"kst_thetaH_sin\"]\n",
    "df['Kplus_ETA_theta_tan'] = df['Kplus_ETA'] * df[\"kst_thetaH_tan\"]\n",
    "\n",
    "df['piminus_ETA_2'] = df['piminus_ETA']**2\n",
    "df['piminus_ETA_exp'] = np.exp(df['piminus_ETA'])\n",
    "df['piminus_ETA_theta'] = df['piminus_ETA'] * df[\"kst_thetaH\"]\n",
    "df['piminus_ETA_div_theta'] = df['piminus_ETA'] / df[\"kst_thetaH\"]\n",
    "df['piminus_ETA_theta_sin'] = df['piminus_ETA'] * df[\"kst_thetaH_sin\"]\n",
    "df['piminus_ETA_theta_tan'] = df['piminus_ETA'] * df[\"kst_thetaH_tan\"]"
   ]
  },
  {
   "cell_type": "code",
   "execution_count": 18,
   "metadata": {
    "ExecuteTime": {
     "end_time": "2020-11-01T15:10:50.119994Z",
     "start_time": "2020-11-01T15:10:50.111370Z"
    }
   },
   "outputs": [],
   "source": [
    "# Improves\n",
    "df['Kplus_by_eta'] = df['Kplus_P'] / df['Kplus_ETA']"
   ]
  },
  {
   "cell_type": "code",
   "execution_count": 19,
   "metadata": {
    "ExecuteTime": {
     "end_time": "2020-11-01T15:10:50.735360Z",
     "start_time": "2020-11-01T15:10:50.716734Z"
    }
   },
   "outputs": [],
   "source": [
    "df['Kplus_piminus_by_eta'] = df['Kplus_P'] / df['piminus_ETA']"
   ]
  },
  {
   "cell_type": "code",
   "execution_count": 20,
   "metadata": {
    "ExecuteTime": {
     "end_time": "2020-11-01T15:10:51.198554Z",
     "start_time": "2020-11-01T15:10:51.162608Z"
    }
   },
   "outputs": [],
   "source": [
    "df['ETA_add'] = df['Kplus_ETA'] + df['piminus_ETA']\n",
    "df['ETA_rest'] = df['Kplus_ETA'] - df['piminus_ETA']\n",
    "df['ETA_mult'] = df['Kplus_ETA'] * df['piminus_ETA']\n",
    "df['ETA_inv'] = df['Kplus_ETA'] / df['piminus_ETA']\n",
    "df['ETA_inv1'] = df['piminus_ETA']/df['Kplus_ETA']\n"
   ]
  },
  {
   "cell_type": "code",
   "execution_count": 21,
   "metadata": {
    "ExecuteTime": {
     "end_time": "2020-11-01T15:10:51.463187Z",
     "start_time": "2020-11-01T15:10:51.456044Z"
    }
   },
   "outputs": [],
   "source": [
    "df['Kplus_ETA_inv'] = df['Kplus_ETA']\n",
    "df['piminus_ETA_inv'] = df['piminus_ETA']"
   ]
  },
  {
   "cell_type": "code",
   "execution_count": 22,
   "metadata": {
    "ExecuteTime": {
     "end_time": "2020-11-01T15:10:51.730203Z",
     "start_time": "2020-11-01T15:10:51.703239Z"
    }
   },
   "outputs": [],
   "source": [
    "df['ETA_add_inv'] = df['Kplus_ETA_inv'] + df['piminus_ETA_inv']\n",
    "df['ETA_rest_inv'] = df['Kplus_ETA_inv'] - df['piminus_ETA_inv']\n",
    "df['ETA_mult_inv'] = df['Kplus_ETA_inv'] * df['piminus_ETA_inv']\n",
    "df['ETA_inv_inv'] = df['Kplus_ETA_inv'] / df['piminus_ETA_inv']\n",
    "df['ETA_inv1_inv'] = df['piminus_ETA_inv']/df['Kplus_ETA_inv']\n"
   ]
  },
  {
   "cell_type": "code",
   "execution_count": 23,
   "metadata": {
    "ExecuteTime": {
     "end_time": "2020-11-01T15:10:52.054500Z",
     "start_time": "2020-11-01T15:10:52.046800Z"
    }
   },
   "outputs": [
    {
     "data": {
      "text/plain": [
       "(354438, 100)"
      ]
     },
     "execution_count": 23,
     "metadata": {},
     "output_type": "execute_result"
    }
   ],
   "source": [
    "df.shape"
   ]
  },
  {
   "cell_type": "markdown",
   "metadata": {},
   "source": [
    "## Splits"
   ]
  },
  {
   "cell_type": "code",
   "execution_count": 31,
   "metadata": {
    "ExecuteTime": {
     "end_time": "2020-11-01T15:12:30.417270Z",
     "start_time": "2020-11-01T15:12:29.280560Z"
    }
   },
   "outputs": [],
   "source": [
    "train = df[df['train']==1].drop(columns='train')\n",
    "test = df[df['train']==0].drop(columns='train')"
   ]
  },
  {
   "cell_type": "code",
   "execution_count": 32,
   "metadata": {
    "ExecuteTime": {
     "end_time": "2020-11-01T15:12:31.783815Z",
     "start_time": "2020-11-01T15:12:31.293604Z"
    }
   },
   "outputs": [],
   "source": [
    "X_tr, X_te, y_tr, y_te = train_test_split(\n",
    "    train.drop(columns=\"signal\"),\n",
    "    train.signal,\n",
    "    stratify=train.signal,\n",
    "    random_state=0,   train_size=0.99\n",
    ")"
   ]
  },
  {
   "cell_type": "markdown",
   "metadata": {},
   "source": [
    "## Catboost"
   ]
  },
  {
   "cell_type": "code",
   "execution_count": 34,
   "metadata": {
    "ExecuteTime": {
     "end_time": "2020-11-01T15:14:04.225121Z",
     "start_time": "2020-11-01T15:12:35.887016Z"
    }
   },
   "outputs": [
    {
     "data": {
      "text/plain": [
       "<catboost.core.CatBoostClassifier at 0x7fc43eee8fd0>"
      ]
     },
     "execution_count": 34,
     "metadata": {},
     "output_type": "execute_result"
    }
   ],
   "source": [
    "cb = CatBoostClassifier(verbose=0, eval_metric=\"AUC\",# iterations=200,\n",
    "                        random_seed=0)\n",
    "cb.fit(X_tr, y_tr)"
   ]
  },
  {
   "cell_type": "code",
   "execution_count": 35,
   "metadata": {
    "ExecuteTime": {
     "end_time": "2020-11-01T15:14:04.587383Z",
     "start_time": "2020-11-01T15:14:04.230404Z"
    },
    "scrolled": true
   },
   "outputs": [
    {
     "name": "stdout",
     "output_type": "stream",
     "text": [
      "train 0.9053296000774367\n",
      "test 0.8760225431630007\n"
     ]
    }
   ],
   "source": [
    "print(\"train\", roc_auc_score(y_tr.values,cb.predict_proba(X_tr)[:,1]))\n",
    "print(\"test\", roc_auc_score( y_te,cb.predict_proba(X_te)[:,1]))"
   ]
  },
  {
   "cell_type": "code",
   "execution_count": 36,
   "metadata": {
    "ExecuteTime": {
     "end_time": "2020-11-01T15:14:04.879891Z",
     "start_time": "2020-11-01T15:14:04.591744Z"
    },
    "scrolled": false
   },
   "outputs": [
    {
     "name": "stdout",
     "output_type": "stream",
     "text": [
      "98 features, reduction of 0.00%\n"
     ]
    },
    {
     "data": {
      "image/png": "[encoded data removed]",
      "text/plain": [
       "<Figure size 1296x432 with 1 Axes>"
      ]
     },
     "metadata": {},
     "output_type": "display_data"
    }
   ],
   "source": [
    "plot_feature_importance(X_tr.columns,cb.get_feature_importance(),columns_ploted=25)"
   ]
  },
  {
   "cell_type": "markdown",
   "metadata": {},
   "source": [
    "## Tree"
   ]
  },
  {
   "cell_type": "code",
   "execution_count": 37,
   "metadata": {
    "ExecuteTime": {
     "end_time": "2020-11-01T15:14:44.989801Z",
     "start_time": "2020-11-01T15:14:44.986509Z"
    }
   },
   "outputs": [],
   "source": [
    "from sklearn.tree import DecisionTreeClassifier,plot_tree"
   ]
  },
  {
   "cell_type": "code",
   "execution_count": 38,
   "metadata": {
    "ExecuteTime": {
     "end_time": "2020-11-01T15:15:28.810471Z",
     "start_time": "2020-11-01T15:14:45.257515Z"
    }
   },
   "outputs": [
    {
     "data": {
      "text/plain": [
       "DecisionTreeClassifier(ccp_alpha=0.0, class_weight=None, criterion='gini',\n",
       "                       max_depth=None, max_features=None, max_leaf_nodes=None,\n",
       "                       min_impurity_decrease=0.0, min_impurity_split=None,\n",
       "                       min_samples_leaf=1, min_samples_split=2,\n",
       "                       min_weight_fraction_leaf=0.0, presort='deprecated',\n",
       "                       random_state=None, splitter='best')"
      ]
     },
     "execution_count": 38,
     "metadata": {},
     "output_type": "execute_result"
    }
   ],
   "source": [
    "dt = DecisionTreeClassifier()\n",
    "dt.fit(X_tr,y_tr)"
   ]
  },
  {
   "cell_type": "code",
   "execution_count": 44,
   "metadata": {
    "ExecuteTime": {
     "end_time": "2020-11-01T15:16:33.697493Z",
     "start_time": "2020-11-01T15:16:33.667927Z"
    },
    "scrolled": false
   },
   "outputs": [
    {
     "data": {
      "text/html": [
       "<div>\n",
       "<style scoped>\n",
       "    .dataframe tbody tr th:only-of-type {\n",
       "        vertical-align: middle;\n",
       "    }\n",
       "\n",
       "    .dataframe tbody tr th {\n",
       "        vertical-align: top;\n",
       "    }\n",
       "\n",
       "    .dataframe thead th {\n",
       "        text-align: right;\n",
       "    }\n",
       "</style>\n",
       "<table border=\"1\" class=\"dataframe\">\n",
       "  <thead>\n",
       "    <tr style=\"text-align: right;\">\n",
       "      <th></th>\n",
       "      <th>feature</th>\n",
       "      <th>impurity</th>\n",
       "      <th>samples</th>\n",
       "      <th>imp_child</th>\n",
       "      <th>samples_child</th>\n",
       "      <th>impurity_gain</th>\n",
       "      <th>samples_gain</th>\n",
       "    </tr>\n",
       "  </thead>\n",
       "  <tbody>\n",
       "    <tr>\n",
       "      <th>0</th>\n",
       "      <td>mesB_ratio_1</td>\n",
       "      <td>0.444892</td>\n",
       "      <td>210535.0</td>\n",
       "      <td>0.323718</td>\n",
       "      <td>107122.0</td>\n",
       "      <td>28.018184</td>\n",
       "      <td>0.491191</td>\n",
       "    </tr>\n",
       "    <tr>\n",
       "      <th>1</th>\n",
       "      <td>Kplus_P_x</td>\n",
       "      <td>0.323718</td>\n",
       "      <td>107122.0</td>\n",
       "      <td>0.397721</td>\n",
       "      <td>65413.0</td>\n",
       "      <td>4.113870</td>\n",
       "      <td>0.198110</td>\n",
       "    </tr>\n",
       "    <tr>\n",
       "      <th>2</th>\n",
       "      <td>mesB_ratio_1</td>\n",
       "      <td>0.397721</td>\n",
       "      <td>65413.0</td>\n",
       "      <td>0.455305</td>\n",
       "      <td>39454.0</td>\n",
       "      <td>3.824797</td>\n",
       "      <td>0.123300</td>\n",
       "    </tr>\n",
       "    <tr>\n",
       "      <th>3</th>\n",
       "      <td>kst_thetaH_sin</td>\n",
       "      <td>0.455305</td>\n",
       "      <td>39454.0</td>\n",
       "      <td>0.476841</td>\n",
       "      <td>28237.0</td>\n",
       "      <td>2.136955</td>\n",
       "      <td>0.053279</td>\n",
       "    </tr>\n",
       "    <tr>\n",
       "      <th>4</th>\n",
       "      <td>Kplus_piminus_by_eta</td>\n",
       "      <td>0.476841</td>\n",
       "      <td>28237.0</td>\n",
       "      <td>0.411325</td>\n",
       "      <td>8292.0</td>\n",
       "      <td>4.775388</td>\n",
       "      <td>0.094735</td>\n",
       "    </tr>\n",
       "    <tr>\n",
       "      <th>5</th>\n",
       "      <td>piminus_ETA_2</td>\n",
       "      <td>0.411325</td>\n",
       "      <td>8292.0</td>\n",
       "      <td>0.386666</td>\n",
       "      <td>7154.0</td>\n",
       "      <td>0.306126</td>\n",
       "      <td>0.005405</td>\n",
       "    </tr>\n",
       "    <tr>\n",
       "      <th>6</th>\n",
       "      <td>B_DIRA_OWNPV__sin_cos</td>\n",
       "      <td>0.386666</td>\n",
       "      <td>7154.0</td>\n",
       "      <td>0.344694</td>\n",
       "      <td>4518.0</td>\n",
       "      <td>0.574194</td>\n",
       "      <td>0.012520</td>\n",
       "    </tr>\n",
       "    <tr>\n",
       "      <th>7</th>\n",
       "      <td>mesB_ratio_1</td>\n",
       "      <td>0.344694</td>\n",
       "      <td>4518.0</td>\n",
       "      <td>0.389240</td>\n",
       "      <td>2471.0</td>\n",
       "      <td>0.282858</td>\n",
       "      <td>0.009723</td>\n",
       "    </tr>\n",
       "    <tr>\n",
       "      <th>8</th>\n",
       "      <td>Kplus_ETA_theta</td>\n",
       "      <td>0.389240</td>\n",
       "      <td>2471.0</td>\n",
       "      <td>0.319768</td>\n",
       "      <td>1036.0</td>\n",
       "      <td>0.299490</td>\n",
       "      <td>0.006816</td>\n",
       "    </tr>\n",
       "    <tr>\n",
       "      <th>9</th>\n",
       "      <td>Kplus_piminus_by_eta</td>\n",
       "      <td>0.319768</td>\n",
       "      <td>1036.0</td>\n",
       "      <td>0.375778</td>\n",
       "      <td>642.0</td>\n",
       "      <td>0.042763</td>\n",
       "      <td>0.001871</td>\n",
       "    </tr>\n",
       "    <tr>\n",
       "      <th>10</th>\n",
       "      <td>mom3_exp</td>\n",
       "      <td>0.375778</td>\n",
       "      <td>642.0</td>\n",
       "      <td>0.338934</td>\n",
       "      <td>518.0</td>\n",
       "      <td>0.031197</td>\n",
       "      <td>0.000589</td>\n",
       "    </tr>\n",
       "    <tr>\n",
       "      <th>11</th>\n",
       "      <td>Kplus_ETA_inv</td>\n",
       "      <td>0.338934</td>\n",
       "      <td>518.0</td>\n",
       "      <td>0.255000</td>\n",
       "      <td>320.0</td>\n",
       "      <td>0.044633</td>\n",
       "      <td>0.000940</td>\n",
       "    </tr>\n",
       "    <tr>\n",
       "      <th>12</th>\n",
       "      <td>Kplus_piminus_by_eta</td>\n",
       "      <td>0.255000</td>\n",
       "      <td>320.0</td>\n",
       "      <td>0.184592</td>\n",
       "      <td>243.0</td>\n",
       "      <td>0.017453</td>\n",
       "      <td>0.000366</td>\n",
       "    </tr>\n",
       "    <tr>\n",
       "      <th>13</th>\n",
       "      <td>B_DIRA_OWNPV__tan</td>\n",
       "      <td>0.184592</td>\n",
       "      <td>243.0</td>\n",
       "      <td>0.362812</td>\n",
       "      <td>42.0</td>\n",
       "      <td>0.014068</td>\n",
       "      <td>0.000955</td>\n",
       "    </tr>\n",
       "    <tr>\n",
       "      <th>14</th>\n",
       "      <td>mom_consev1_1</td>\n",
       "      <td>0.362812</td>\n",
       "      <td>42.0</td>\n",
       "      <td>0.459184</td>\n",
       "      <td>28.0</td>\n",
       "      <td>0.001131</td>\n",
       "      <td>0.000066</td>\n",
       "    </tr>\n",
       "    <tr>\n",
       "      <th>15</th>\n",
       "      <td>B_DIRA_OWNPV__tan</td>\n",
       "      <td>0.459184</td>\n",
       "      <td>28.0</td>\n",
       "      <td>0.351240</td>\n",
       "      <td>22.0</td>\n",
       "      <td>0.002437</td>\n",
       "      <td>0.000028</td>\n",
       "    </tr>\n",
       "    <tr>\n",
       "      <th>16</th>\n",
       "      <td>piminus_ETA_exp</td>\n",
       "      <td>0.351240</td>\n",
       "      <td>22.0</td>\n",
       "      <td>0.495868</td>\n",
       "      <td>11.0</td>\n",
       "      <td>0.001080</td>\n",
       "      <td>0.000052</td>\n",
       "    </tr>\n",
       "    <tr>\n",
       "      <th>17</th>\n",
       "      <td>piminus_ETA_2</td>\n",
       "      <td>0.495868</td>\n",
       "      <td>11.0</td>\n",
       "      <td>0.000000</td>\n",
       "      <td>4.0</td>\n",
       "      <td>0.002591</td>\n",
       "      <td>0.000033</td>\n",
       "    </tr>\n",
       "    <tr>\n",
       "      <th>18</th>\n",
       "      <td>ETA_inv_inv</td>\n",
       "      <td>0.000000</td>\n",
       "      <td>4.0</td>\n",
       "      <td>NaN</td>\n",
       "      <td>NaN</td>\n",
       "      <td>NaN</td>\n",
       "      <td>NaN</td>\n",
       "    </tr>\n",
       "  </tbody>\n",
       "</table>\n",
       "</div>"
      ],
      "text/plain": [
       "                  feature  impurity   samples  imp_child  samples_child  \\\n",
       "0            mesB_ratio_1  0.444892  210535.0   0.323718       107122.0   \n",
       "1               Kplus_P_x  0.323718  107122.0   0.397721        65413.0   \n",
       "2            mesB_ratio_1  0.397721   65413.0   0.455305        39454.0   \n",
       "3          kst_thetaH_sin  0.455305   39454.0   0.476841        28237.0   \n",
       "4    Kplus_piminus_by_eta  0.476841   28237.0   0.411325         8292.0   \n",
       "5           piminus_ETA_2  0.411325    8292.0   0.386666         7154.0   \n",
       "6   B_DIRA_OWNPV__sin_cos  0.386666    7154.0   0.344694         4518.0   \n",
       "7            mesB_ratio_1  0.344694    4518.0   0.389240         2471.0   \n",
       "8         Kplus_ETA_theta  0.389240    2471.0   0.319768         1036.0   \n",
       "9    Kplus_piminus_by_eta  0.319768    1036.0   0.375778          642.0   \n",
       "10               mom3_exp  0.375778     642.0   0.338934          518.0   \n",
       "11          Kplus_ETA_inv  0.338934     518.0   0.255000          320.0   \n",
       "12   Kplus_piminus_by_eta  0.255000     320.0   0.184592          243.0   \n",
       "13      B_DIRA_OWNPV__tan  0.184592     243.0   0.362812           42.0   \n",
       "14          mom_consev1_1  0.362812      42.0   0.459184           28.0   \n",
       "15      B_DIRA_OWNPV__tan  0.459184      28.0   0.351240           22.0   \n",
       "16        piminus_ETA_exp  0.351240      22.0   0.495868           11.0   \n",
       "17          piminus_ETA_2  0.495868      11.0   0.000000            4.0   \n",
       "18            ETA_inv_inv  0.000000       4.0        NaN            NaN   \n",
       "\n",
       "    impurity_gain  samples_gain  \n",
       "0       28.018184      0.491191  \n",
       "1        4.113870      0.198110  \n",
       "2        3.824797      0.123300  \n",
       "3        2.136955      0.053279  \n",
       "4        4.775388      0.094735  \n",
       "5        0.306126      0.005405  \n",
       "6        0.574194      0.012520  \n",
       "7        0.282858      0.009723  \n",
       "8        0.299490      0.006816  \n",
       "9        0.042763      0.001871  \n",
       "10       0.031197      0.000589  \n",
       "11       0.044633      0.000940  \n",
       "12       0.017453      0.000366  \n",
       "13       0.014068      0.000955  \n",
       "14       0.001131      0.000066  \n",
       "15       0.002437      0.000028  \n",
       "16       0.001080      0.000052  \n",
       "17       0.002591      0.000033  \n",
       "18            NaN           NaN  "
      ]
     },
     "execution_count": 44,
     "metadata": {},
     "output_type": "execute_result"
    }
   ],
   "source": [
    "return_impurity(dt, X_tr[X_tr.index == random.choice(X_tr.index)])"
   ]
  },
  {
   "cell_type": "code",
   "execution_count": 45,
   "metadata": {
    "ExecuteTime": {
     "end_time": "2020-11-01T15:16:35.102745Z",
     "start_time": "2020-11-01T15:16:35.073900Z"
    }
   },
   "outputs": [
    {
     "data": {
      "text/html": [
       "<div>\n",
       "<style scoped>\n",
       "    .dataframe tbody tr th:only-of-type {\n",
       "        vertical-align: middle;\n",
       "    }\n",
       "\n",
       "    .dataframe tbody tr th {\n",
       "        vertical-align: top;\n",
       "    }\n",
       "\n",
       "    .dataframe thead th {\n",
       "        text-align: right;\n",
       "    }\n",
       "</style>\n",
       "<table border=\"1\" class=\"dataframe\">\n",
       "  <thead>\n",
       "    <tr style=\"text-align: right;\">\n",
       "      <th></th>\n",
       "      <th>feature</th>\n",
       "      <th>impurity</th>\n",
       "      <th>samples</th>\n",
       "      <th>imp_child</th>\n",
       "      <th>samples_child</th>\n",
       "      <th>impurity_gain</th>\n",
       "      <th>samples_gain</th>\n",
       "    </tr>\n",
       "  </thead>\n",
       "  <tbody>\n",
       "    <tr>\n",
       "      <th>10</th>\n",
       "      <td>mesB_ratio_1</td>\n",
       "      <td>1.285871</td>\n",
       "      <td>278584.0</td>\n",
       "      <td>1.268233</td>\n",
       "      <td>147849.0</td>\n",
       "      <td>32.102160</td>\n",
       "      <td>0.620966</td>\n",
       "    </tr>\n",
       "    <tr>\n",
       "      <th>6</th>\n",
       "      <td>Kplus_P_x</td>\n",
       "      <td>0.621238</td>\n",
       "      <td>107232.0</td>\n",
       "      <td>0.675499</td>\n",
       "      <td>65521.0</td>\n",
       "      <td>4.115165</td>\n",
       "      <td>0.198119</td>\n",
       "    </tr>\n",
       "    <tr>\n",
       "      <th>7</th>\n",
       "      <td>Kplus_piminus_by_eta</td>\n",
       "      <td>0.476841</td>\n",
       "      <td>28237.0</td>\n",
       "      <td>0.411325</td>\n",
       "      <td>8292.0</td>\n",
       "      <td>4.775388</td>\n",
       "      <td>0.094735</td>\n",
       "    </tr>\n",
       "    <tr>\n",
       "      <th>9</th>\n",
       "      <td>kst_thetaH_sin</td>\n",
       "      <td>0.455305</td>\n",
       "      <td>39454.0</td>\n",
       "      <td>0.476841</td>\n",
       "      <td>28237.0</td>\n",
       "      <td>2.136955</td>\n",
       "      <td>0.053279</td>\n",
       "    </tr>\n",
       "    <tr>\n",
       "      <th>1</th>\n",
       "      <td>B_DIRA_OWNPV__sin_cos</td>\n",
       "      <td>0.386666</td>\n",
       "      <td>7154.0</td>\n",
       "      <td>0.443258</td>\n",
       "      <td>2636.0</td>\n",
       "      <td>0.758913</td>\n",
       "      <td>0.021460</td>\n",
       "    </tr>\n",
       "    <tr>\n",
       "      <th>15</th>\n",
       "      <td>piminus_ETA_2</td>\n",
       "      <td>0.909250</td>\n",
       "      <td>8944.0</td>\n",
       "      <td>0.869677</td>\n",
       "      <td>7588.0</td>\n",
       "      <td>0.360759</td>\n",
       "      <td>0.006441</td>\n",
       "    </tr>\n",
       "    <tr>\n",
       "      <th>3</th>\n",
       "      <td>B_OWNPV_CHI2</td>\n",
       "      <td>0.489211</td>\n",
       "      <td>1273.0</td>\n",
       "      <td>0.499986</td>\n",
       "      <td>768.0</td>\n",
       "      <td>0.113414</td>\n",
       "      <td>0.002399</td>\n",
       "    </tr>\n",
       "    <tr>\n",
       "      <th>0</th>\n",
       "      <td>B_DIRA_OWNPV</td>\n",
       "      <td>0.483011</td>\n",
       "      <td>434.0</td>\n",
       "      <td>0.399755</td>\n",
       "      <td>134.0</td>\n",
       "      <td>0.074125</td>\n",
       "      <td>0.001425</td>\n",
       "    </tr>\n",
       "    <tr>\n",
       "      <th>13</th>\n",
       "      <td>mom_consev1_1</td>\n",
       "      <td>0.499986</td>\n",
       "      <td>768.0</td>\n",
       "      <td>0.497925</td>\n",
       "      <td>652.0</td>\n",
       "      <td>0.028186</td>\n",
       "      <td>0.000551</td>\n",
       "    </tr>\n",
       "    <tr>\n",
       "      <th>14</th>\n",
       "      <td>piminus_ETA</td>\n",
       "      <td>0.277778</td>\n",
       "      <td>108.0</td>\n",
       "      <td>0.492188</td>\n",
       "      <td>16.0</td>\n",
       "      <td>0.010509</td>\n",
       "      <td>0.000437</td>\n",
       "    </tr>\n",
       "    <tr>\n",
       "      <th>8</th>\n",
       "      <td>gamma_PT</td>\n",
       "      <td>0.347648</td>\n",
       "      <td>125.0</td>\n",
       "      <td>0.297521</td>\n",
       "      <td>110.0</td>\n",
       "      <td>0.005096</td>\n",
       "      <td>0.000071</td>\n",
       "    </tr>\n",
       "    <tr>\n",
       "      <th>11</th>\n",
       "      <td>mesB_ratio_3</td>\n",
       "      <td>0.426036</td>\n",
       "      <td>13.0</td>\n",
       "      <td>0.000000</td>\n",
       "      <td>2.0</td>\n",
       "      <td>0.002631</td>\n",
       "      <td>0.000052</td>\n",
       "    </tr>\n",
       "    <tr>\n",
       "      <th>12</th>\n",
       "      <td>mom77_exp</td>\n",
       "      <td>0.399755</td>\n",
       "      <td>134.0</td>\n",
       "      <td>0.367065</td>\n",
       "      <td>128.0</td>\n",
       "      <td>0.003127</td>\n",
       "      <td>0.000028</td>\n",
       "    </tr>\n",
       "    <tr>\n",
       "      <th>2</th>\n",
       "      <td>B_IPCHI2_OWNPV</td>\n",
       "      <td>0.367065</td>\n",
       "      <td>128.0</td>\n",
       "      <td>0.347648</td>\n",
       "      <td>125.0</td>\n",
       "      <td>0.001676</td>\n",
       "      <td>0.000014</td>\n",
       "    </tr>\n",
       "    <tr>\n",
       "      <th>5</th>\n",
       "      <td>Kplus_ETA_theta_sin</td>\n",
       "      <td>0.492188</td>\n",
       "      <td>16.0</td>\n",
       "      <td>0.426036</td>\n",
       "      <td>13.0</td>\n",
       "      <td>0.001110</td>\n",
       "      <td>0.000014</td>\n",
       "    </tr>\n",
       "    <tr>\n",
       "      <th>4</th>\n",
       "      <td>ETA_inv_inv</td>\n",
       "      <td>0.000000</td>\n",
       "      <td>2.0</td>\n",
       "      <td>0.000000</td>\n",
       "      <td>0.0</td>\n",
       "      <td>0.000000</td>\n",
       "      <td>0.000000</td>\n",
       "    </tr>\n",
       "  </tbody>\n",
       "</table>\n",
       "</div>"
      ],
      "text/plain": [
       "                  feature  impurity   samples  imp_child  samples_child  \\\n",
       "10           mesB_ratio_1  1.285871  278584.0   1.268233       147849.0   \n",
       "6               Kplus_P_x  0.621238  107232.0   0.675499        65521.0   \n",
       "7    Kplus_piminus_by_eta  0.476841   28237.0   0.411325         8292.0   \n",
       "9          kst_thetaH_sin  0.455305   39454.0   0.476841        28237.0   \n",
       "1   B_DIRA_OWNPV__sin_cos  0.386666    7154.0   0.443258         2636.0   \n",
       "15          piminus_ETA_2  0.909250    8944.0   0.869677         7588.0   \n",
       "3            B_OWNPV_CHI2  0.489211    1273.0   0.499986          768.0   \n",
       "0            B_DIRA_OWNPV  0.483011     434.0   0.399755          134.0   \n",
       "13          mom_consev1_1  0.499986     768.0   0.497925          652.0   \n",
       "14            piminus_ETA  0.277778     108.0   0.492188           16.0   \n",
       "8                gamma_PT  0.347648     125.0   0.297521          110.0   \n",
       "11           mesB_ratio_3  0.426036      13.0   0.000000            2.0   \n",
       "12              mom77_exp  0.399755     134.0   0.367065          128.0   \n",
       "2          B_IPCHI2_OWNPV  0.367065     128.0   0.347648          125.0   \n",
       "5     Kplus_ETA_theta_sin  0.492188      16.0   0.426036           13.0   \n",
       "4             ETA_inv_inv  0.000000       2.0   0.000000            0.0   \n",
       "\n",
       "    impurity_gain  samples_gain  \n",
       "10      32.102160      0.620966  \n",
       "6        4.115165      0.198119  \n",
       "7        4.775388      0.094735  \n",
       "9        2.136955      0.053279  \n",
       "1        0.758913      0.021460  \n",
       "15       0.360759      0.006441  \n",
       "3        0.113414      0.002399  \n",
       "0        0.074125      0.001425  \n",
       "13       0.028186      0.000551  \n",
       "14       0.010509      0.000437  \n",
       "8        0.005096      0.000071  \n",
       "11       0.002631      0.000052  \n",
       "12       0.003127      0.000028  \n",
       "2        0.001676      0.000014  \n",
       "5        0.001110      0.000014  \n",
       "4        0.000000      0.000000  "
      ]
     },
     "execution_count": 45,
     "metadata": {},
     "output_type": "execute_result"
    }
   ],
   "source": [
    "res_g = (\n",
    "    return_impurity(dt, X_tr[X_tr.index == random.choice(X_tr.index)])\n",
    "    .groupby(\"feature\", as_index=False)\n",
    "    .sum()\n",
    ")\n",
    "res_g.sort_values('samples_gain',ascending=False)"
   ]
  },
  {
   "cell_type": "code",
   "execution_count": 46,
   "metadata": {
    "ExecuteTime": {
     "end_time": "2020-11-01T15:16:35.771650Z",
     "start_time": "2020-11-01T15:16:35.499610Z"
    },
    "scrolled": false
   },
   "outputs": [
    {
     "data": {
      "image/png": "[encoded data removed]",
      "text/plain": [
       "<Figure size 1152x576 with 1 Axes>"
      ]
     },
     "metadata": {},
     "output_type": "display_data"
    }
   ],
   "source": [
    "\n",
    "pie_plot_filtered(res_g, \"samples_gain\", title=\"Impurity Gain\")"
   ]
  },
  {
   "cell_type": "code",
   "execution_count": 109,
   "metadata": {
    "ExecuteTime": {
     "end_time": "2020-10-31T12:09:20.196035Z",
     "start_time": "2020-10-31T12:09:20.184738Z"
    }
   },
   "outputs": [
    {
     "ename": "NameError",
     "evalue": "name 'kk' is not defined",
     "output_type": "error",
     "traceback": [
      "\u001b[0;31m---------------------------------------------------------------------------\u001b[0m",
      "\u001b[0;31mNameError\u001b[0m                                 Traceback (most recent call last)",
      "\u001b[0;32m<ipython-input-109-4d8db305b713>\u001b[0m in \u001b[0;36m<module>\u001b[0;34m\u001b[0m\n\u001b[0;32m----> 1\u001b[0;31m \u001b[0mkk\u001b[0m\u001b[0;34m\u001b[0m\u001b[0;34m\u001b[0m\u001b[0m\n\u001b[0m",
      "\u001b[0;31mNameError\u001b[0m: name 'kk' is not defined"
     ]
    }
   ],
   "source": [
    "kk"
   ]
  },
  {
   "cell_type": "code",
   "execution_count": null,
   "metadata": {
    "ExecuteTime": {
     "end_time": "2020-10-30T12:07:29.077532Z",
     "start_time": "2020-10-30T12:07:04.630Z"
    }
   },
   "outputs": [],
   "source": [
    "plt.figure()\n",
    "plot_tree(dt,feature_names=X_tr.columns);\n",
    "plt.savefig('tree1.eps',format='eps')\n",
    "plt.show()"
   ]
  },
  {
   "cell_type": "code",
   "execution_count": null,
   "metadata": {},
   "outputs": [],
   "source": [
    "from sklearn.tree import DecisionTreeClassifier,plot_tree\n",
    "\n",
    "dt = DecisionTreeClassifier(max_depth=4)\n",
    "dt.fit(X_tr,y_tr)\n",
    "\n",
    "plt.figure()\n",
    "plot_tree(dt,feature_names=X_tr.columns);\n",
    "plt.savefig('tree1.eps',format='eps')\n",
    "plt.show()"
   ]
  },
  {
   "cell_type": "markdown",
   "metadata": {},
   "source": [
    "## Xgb"
   ]
  },
  {
   "cell_type": "code",
   "execution_count": 9,
   "metadata": {
    "ExecuteTime": {
     "end_time": "2020-10-24T10:22:34.560417Z",
     "start_time": "2020-10-24T10:22:17.548664Z"
    }
   },
   "outputs": [
    {
     "data": {
      "text/plain": [
       "XGBClassifier(base_score=0.5, booster='gbtree', colsample_bylevel=1,\n",
       "              colsample_bynode=1, colsample_bytree=1, gamma=0, gpu_id=-1,\n",
       "              importance_type='gain', interaction_constraints='',\n",
       "              learning_rate=0.300000012, max_delta_step=0, max_depth=6,\n",
       "              min_child_weight=1, missing=nan, monotone_constraints='()',\n",
       "              n_estimators=100, n_jobs=0, num_parallel_tree=1,\n",
       "              objective='binary:logistic', random_state=0, reg_alpha=0,\n",
       "              reg_lambda=1, scale_pos_weight=1, subsample=1,\n",
       "              tree_method='exact', validate_parameters=1, verbosity=None)"
      ]
     },
     "execution_count": 9,
     "metadata": {},
     "output_type": "execute_result"
    }
   ],
   "source": [
    "xgb = XGBClassifier()\n",
    "xgb.fit(X_tr, y_tr)"
   ]
  },
  {
   "cell_type": "code",
   "execution_count": 10,
   "metadata": {
    "ExecuteTime": {
     "end_time": "2020-10-24T10:22:35.154328Z",
     "start_time": "2020-10-24T10:22:34.564293Z"
    }
   },
   "outputs": [
    {
     "name": "stdout",
     "output_type": "stream",
     "text": [
      "train 0.9040068124561615\n",
      "test 0.8589757476528211\n"
     ]
    }
   ],
   "source": [
    "print(\"train\", roc_auc_score(y_tr.values,xgb.predict_proba(X_tr)[:,1]))\n",
    "print(\"test\", roc_auc_score( y_te,xgb.predict_proba(X_te)[:,1]))"
   ]
  },
  {
   "cell_type": "markdown",
   "metadata": {},
   "source": [
    "## Random Forest"
   ]
  },
  {
   "cell_type": "code",
   "execution_count": 22,
   "metadata": {
    "ExecuteTime": {
     "end_time": "2020-10-24T10:34:23.589193Z",
     "start_time": "2020-10-24T10:33:58.650315Z"
    }
   },
   "outputs": [
    {
     "data": {
      "text/plain": [
       "RandomForestClassifier(bootstrap=True, ccp_alpha=0.0, class_weight=None,\n",
       "                       criterion='gini', max_depth=None, max_features='auto',\n",
       "                       max_leaf_nodes=None, max_samples=None,\n",
       "                       min_impurity_decrease=0.0, min_impurity_split=None,\n",
       "                       min_samples_leaf=10, min_samples_split=2,\n",
       "                       min_weight_fraction_leaf=0.0, n_estimators=50,\n",
       "                       n_jobs=None, oob_score=False, random_state=None,\n",
       "                       verbose=0, warm_start=False)"
      ]
     },
     "execution_count": 22,
     "metadata": {},
     "output_type": "execute_result"
    }
   ],
   "source": [
    "rf = RandomForestClassifier(n_estimators=50,min_samples_leaf=10)\n",
    "rf.fit(X_tr,y_tr)"
   ]
  },
  {
   "cell_type": "code",
   "execution_count": 23,
   "metadata": {
    "ExecuteTime": {
     "end_time": "2020-10-24T10:34:27.494863Z",
     "start_time": "2020-10-24T10:34:25.363510Z"
    },
    "scrolled": true
   },
   "outputs": [
    {
     "name": "stdout",
     "output_type": "stream",
     "text": [
      "train 0.9494586020732473\n",
      "test 0.8351622265789387\n"
     ]
    }
   ],
   "source": [
    "print(\"train\", roc_auc_score(y_tr.values,rf.predict_proba(X_tr)[:,1]))\n",
    "print(\"test\", roc_auc_score( y_te,rf.predict_proba(X_te)[:,1]))"
   ]
  },
  {
   "cell_type": "markdown",
   "metadata": {},
   "source": [
    "## Voting Classifier"
   ]
  },
  {
   "cell_type": "raw",
   "metadata": {
    "ExecuteTime": {
     "end_time": "2020-10-23T21:55:02.972655Z",
     "start_time": "2020-10-23T21:55:02.968550Z"
    }
   },
   "source": [
    "vc = VotingClassifier(estimators=[(\"cb\", cb), (\"xgb\", xgb), (\"rf\", rf)], voting=\"soft\")\n",
    "\n",
    "vc.fit(X_tr, y_tr)\n",
    "\n",
    "print(\"train\", roc_auc_score(y_tr.values, vc.predict_proba(X_tr)[:, 1]))\n",
    "print(\"test\", roc_auc_score(y_te, vc.predict_proba(X_te)[:, 1]))"
   ]
  },
  {
   "cell_type": "code",
   "execution_count": null,
   "metadata": {},
   "outputs": [],
   "source": []
  },
  {
   "cell_type": "markdown",
   "metadata": {},
   "source": [
    "## Own Ensemble"
   ]
  },
  {
   "cell_type": "raw",
   "metadata": {
    "ExecuteTime": {
     "end_time": "2020-10-24T10:30:17.653556Z",
     "start_time": "2020-10-24T10:23:12.763324Z"
    }
   },
   "source": [
    "mlp = MLPClassifier(random_state=1, max_iter=300).fit(X_tr, y_tr)\n",
    "\n",
    "print(\"train\", roc_auc_score(y_tr.values,mlp.predict_proba(X_tr)[:,1]))\n",
    "print(\"test\", roc_auc_score( y_te,mlp.predict_proba(X_te)[:,1]))\n",
    "\n",
    "# test 0.78"
   ]
  },
  {
   "cell_type": "markdown",
   "metadata": {},
   "source": [
    "## KNN"
   ]
  },
  {
   "cell_type": "code",
   "execution_count": 16,
   "metadata": {
    "ExecuteTime": {
     "end_time": "2020-10-25T09:50:48.202453Z",
     "start_time": "2020-10-25T09:50:47.233808Z"
    }
   },
   "outputs": [
    {
     "data": {
      "text/plain": [
       "KNeighborsClassifier(algorithm='auto', leaf_size=30, metric='minkowski',\n",
       "                     metric_params=None, n_jobs=None, n_neighbors=10, p=2,\n",
       "                     weights='uniform')"
      ]
     },
     "execution_count": 16,
     "metadata": {},
     "output_type": "execute_result"
    }
   ],
   "source": [
    "knn = KNeighborsClassifier(n_neighbors=10)\n",
    "\n",
    "knn.fit(X_tr, y_tr)\n"
   ]
  },
  {
   "cell_type": "code",
   "execution_count": 17,
   "metadata": {
    "ExecuteTime": {
     "end_time": "2020-10-25T09:51:30.917678Z",
     "start_time": "2020-10-25T09:50:48.205573Z"
    }
   },
   "outputs": [
    {
     "name": "stdout",
     "output_type": "stream",
     "text": [
      "train 0.8311094479804438\n",
      "test 0.746261194549087\n"
     ]
    }
   ],
   "source": [
    "print(\"train\", roc_auc_score(y_tr.values, knn.predict_proba(X_tr)[:, 1]))\n",
    "print(\"test\", roc_auc_score(y_te, knn.predict_proba(X_te)[:, 1]))"
   ]
  },
  {
   "cell_type": "markdown",
   "metadata": {},
   "source": [
    "## Submission"
   ]
  },
  {
   "cell_type": "code",
   "execution_count": 47,
   "metadata": {
    "ExecuteTime": {
     "end_time": "2020-11-01T15:16:42.239445Z",
     "start_time": "2020-11-01T15:16:42.071781Z"
    }
   },
   "outputs": [],
   "source": [
    "test['Predicted'] = cb.predict_proba(test)[:,1]"
   ]
  },
  {
   "cell_type": "code",
   "execution_count": 48,
   "metadata": {
    "ExecuteTime": {
     "end_time": "2020-11-01T15:16:43.044539Z",
     "start_time": "2020-11-01T15:16:42.483549Z"
    }
   },
   "outputs": [],
   "source": [
    "test[['Predicted']].to_csv('submissions/cb_feat1.csv')"
   ]
  },
  {
   "cell_type": "code",
   "execution_count": null,
   "metadata": {},
   "outputs": [],
   "source": []
  }
 ],
 "metadata": {
  "kernelspec": {
   "display_name": "Python 3",
   "language": "python",
   "name": "python3"
  },
  "language_info": {
   "codemirror_mode": {
    "name": "ipython",
    "version": 3
   },
   "file_extension": ".py",
   "mimetype": "text/x-python",
   "name": "python",
   "nbconvert_exporter": "python",
   "pygments_lexer": "ipython3",
   "version": "3.7.6"
  }
 },
 "nbformat": 4,
 "nbformat_minor": 4
}
