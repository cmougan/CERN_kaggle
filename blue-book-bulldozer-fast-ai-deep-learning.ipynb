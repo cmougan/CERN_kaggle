{
 "cells": [
  {
   "cell_type": "markdown",
   "metadata": {},
   "source": [
    "# Motivation\n",
    "Tree-based models like Random Forest and XGBoost has become very poplular to address tabular(structured) data problems and gained a lot of tractions in Kaggle competitions. It has its very deserving reasons. A lot of the notebooks for this competition is inspired by fast.ai ML course. This notebook will also try to use fast.ai, but another approach: **Deep Learning**. \n",
    "This is a bit against industry consensous that Deep Learning is more for unstructured data like image, audio or NLP, and usually won't be very good at handling tabular data. Yet, the introduction of embedding for the categorical data changed this perspective and we'll try to use fast.ai's tabular model to tackle this competition and see how well a Deep Learning approach can do. "
   ]
  },
  {
   "cell_type": "code",
   "execution_count": 1,
   "metadata": {
    "_cell_guid": "79c7e3d0-c299-4dcb-8224-4455121ee9b0",
    "_uuid": "d629ff2d2480ee46fbb7e2d37f6b5fab8052498a"
   },
   "outputs": [],
   "source": [
    "%reload_ext autoreload\n",
    "%autoreload 2"
   ]
  },
  {
   "cell_type": "code",
   "execution_count": 2,
   "metadata": {},
   "outputs": [],
   "source": [
    "from fastai import *\n",
    "from fastai.tabular import *\n",
    "from fastai.data.transforms import Normalize\n",
    "import pandas as pd\n",
    "import numpy as np"
   ]
  },
  {
   "cell_type": "markdown",
   "metadata": {},
   "source": [
    "# Load Data\n",
    "After imported the necessary fast.ai modules, mainly 'fastai.tabular'. Let's load the data in. "
   ]
  },
  {
   "cell_type": "code",
   "execution_count": 3,
   "metadata": {},
   "outputs": [],
   "source": [
    "# read in the dataset. Since the Test.csv and Valid.csv doesn't have label, it will be used to create our own validation set. \n",
    "train_df = pd.read_csv('train_fai.csv', low_memory=False).drop(columns=['Id','BUTTER'])\n",
    "valid_df = pd.read_csv('validation_fai.csv', low_memory=False).drop(columns=['Id','BUTTER'])"
   ]
  },
  {
   "cell_type": "code",
   "execution_count": 4,
   "metadata": {},
   "outputs": [
    {
     "data": {
      "text/html": [
       "<div>\n",
       "<style scoped>\n",
       "    .dataframe tbody tr th:only-of-type {\n",
       "        vertical-align: middle;\n",
       "    }\n",
       "\n",
       "    .dataframe tbody tr th {\n",
       "        vertical-align: top;\n",
       "    }\n",
       "\n",
       "    .dataframe thead th {\n",
       "        text-align: right;\n",
       "    }\n",
       "</style>\n",
       "<table border=\"1\" class=\"dataframe\">\n",
       "  <thead>\n",
       "    <tr style=\"text-align: right;\">\n",
       "      <th></th>\n",
       "      <th>B_OWNPV_CHI2</th>\n",
       "      <th>B_IPCHI2_OWNPV</th>\n",
       "      <th>B_FDCHI2_OWNPV</th>\n",
       "      <th>B_DIRA_OWNPV</th>\n",
       "      <th>B_PT</th>\n",
       "      <th>Kst_892_0_IP_OWNPV</th>\n",
       "      <th>Kst_892_0_cosThetaH</th>\n",
       "      <th>Kplus_IP_OWNPV</th>\n",
       "      <th>Kplus_P</th>\n",
       "      <th>piminus_IP_OWNPV</th>\n",
       "      <th>piminus_P</th>\n",
       "      <th>gamma_PT</th>\n",
       "      <th>piminus_ETA</th>\n",
       "      <th>Kplus_ETA</th>\n",
       "      <th>signal</th>\n",
       "    </tr>\n",
       "  </thead>\n",
       "  <tbody>\n",
       "    <tr>\n",
       "      <th>0</th>\n",
       "      <td>28.878847</td>\n",
       "      <td>2.662533</td>\n",
       "      <td>2924.690991</td>\n",
       "      <td>0.999997</td>\n",
       "      <td>19085.568945</td>\n",
       "      <td>0.569198</td>\n",
       "      <td>-0.575502</td>\n",
       "      <td>0.581565</td>\n",
       "      <td>66850.893711</td>\n",
       "      <td>0.637969</td>\n",
       "      <td>14298.486178</td>\n",
       "      <td>7940.694301</td>\n",
       "      <td>2.628526</td>\n",
       "      <td>2.680116</td>\n",
       "      <td>1.0</td>\n",
       "    </tr>\n",
       "    <tr>\n",
       "      <th>1</th>\n",
       "      <td>34.233566</td>\n",
       "      <td>0.092746</td>\n",
       "      <td>346.948714</td>\n",
       "      <td>0.999997</td>\n",
       "      <td>6631.244546</td>\n",
       "      <td>0.248707</td>\n",
       "      <td>-0.615941</td>\n",
       "      <td>0.277898</td>\n",
       "      <td>39274.475071</td>\n",
       "      <td>0.148815</td>\n",
       "      <td>11553.163934</td>\n",
       "      <td>3904.681337</td>\n",
       "      <td>3.292504</td>\n",
       "      <td>3.085754</td>\n",
       "      <td>1.0</td>\n",
       "    </tr>\n",
       "    <tr>\n",
       "      <th>2</th>\n",
       "      <td>36.113632</td>\n",
       "      <td>2.442423</td>\n",
       "      <td>238.553023</td>\n",
       "      <td>0.999986</td>\n",
       "      <td>7740.918989</td>\n",
       "      <td>0.222347</td>\n",
       "      <td>0.249383</td>\n",
       "      <td>0.216576</td>\n",
       "      <td>27757.153899</td>\n",
       "      <td>0.249840</td>\n",
       "      <td>24081.196003</td>\n",
       "      <td>4738.891687</td>\n",
       "      <td>3.433676</td>\n",
       "      <td>3.121906</td>\n",
       "      <td>1.0</td>\n",
       "    </tr>\n",
       "    <tr>\n",
       "      <th>3</th>\n",
       "      <td>14.286133</td>\n",
       "      <td>6.337556</td>\n",
       "      <td>227.375132</td>\n",
       "      <td>0.999806</td>\n",
       "      <td>6740.281614</td>\n",
       "      <td>0.347316</td>\n",
       "      <td>0.591884</td>\n",
       "      <td>0.306927</td>\n",
       "      <td>10593.207077</td>\n",
       "      <td>0.400748</td>\n",
       "      <td>11343.521945</td>\n",
       "      <td>3308.943750</td>\n",
       "      <td>2.291867</td>\n",
       "      <td>2.200712</td>\n",
       "      <td>0.0</td>\n",
       "    </tr>\n",
       "    <tr>\n",
       "      <th>4</th>\n",
       "      <td>60.474274</td>\n",
       "      <td>7.632751</td>\n",
       "      <td>106.730650</td>\n",
       "      <td>0.999905</td>\n",
       "      <td>5556.388794</td>\n",
       "      <td>0.204273</td>\n",
       "      <td>0.655850</td>\n",
       "      <td>0.196600</td>\n",
       "      <td>11801.249543</td>\n",
       "      <td>0.223101</td>\n",
       "      <td>25940.693317</td>\n",
       "      <td>4026.326871</td>\n",
       "      <td>3.290073</td>\n",
       "      <td>3.281829</td>\n",
       "      <td>0.0</td>\n",
       "    </tr>\n",
       "  </tbody>\n",
       "</table>\n",
       "</div>"
      ],
      "text/plain": [
       "   B_OWNPV_CHI2  B_IPCHI2_OWNPV  B_FDCHI2_OWNPV  B_DIRA_OWNPV          B_PT  \\\n",
       "0     28.878847        2.662533     2924.690991      0.999997  19085.568945   \n",
       "1     34.233566        0.092746      346.948714      0.999997   6631.244546   \n",
       "2     36.113632        2.442423      238.553023      0.999986   7740.918989   \n",
       "3     14.286133        6.337556      227.375132      0.999806   6740.281614   \n",
       "4     60.474274        7.632751      106.730650      0.999905   5556.388794   \n",
       "\n",
       "   Kst_892_0_IP_OWNPV  Kst_892_0_cosThetaH  Kplus_IP_OWNPV       Kplus_P  \\\n",
       "0            0.569198            -0.575502        0.581565  66850.893711   \n",
       "1            0.248707            -0.615941        0.277898  39274.475071   \n",
       "2            0.222347             0.249383        0.216576  27757.153899   \n",
       "3            0.347316             0.591884        0.306927  10593.207077   \n",
       "4            0.204273             0.655850        0.196600  11801.249543   \n",
       "\n",
       "   piminus_IP_OWNPV     piminus_P     gamma_PT  piminus_ETA  Kplus_ETA  signal  \n",
       "0          0.637969  14298.486178  7940.694301     2.628526   2.680116     1.0  \n",
       "1          0.148815  11553.163934  3904.681337     3.292504   3.085754     1.0  \n",
       "2          0.249840  24081.196003  4738.891687     3.433676   3.121906     1.0  \n",
       "3          0.400748  11343.521945  3308.943750     2.291867   2.200712     0.0  \n",
       "4          0.223101  25940.693317  4026.326871     3.290073   3.281829     0.0  "
      ]
     },
     "execution_count": 4,
     "metadata": {},
     "output_type": "execute_result"
    }
   ],
   "source": [
    "train_df.head()"
   ]
  },
  {
   "cell_type": "code",
   "execution_count": 5,
   "metadata": {},
   "outputs": [
    {
     "data": {
      "text/plain": [
       "(170352, 42310)"
      ]
     },
     "execution_count": 5,
     "metadata": {},
     "output_type": "execute_result"
    }
   ],
   "source": [
    "len(train_df),len(valid_df)"
   ]
  },
  {
   "cell_type": "markdown",
   "metadata": {},
   "source": [
    "# Data Pre-processing\n",
    "The competition's evaluation methods uses RMSLE (root mean squared log error). So if we take the log of our prediction, we can just use the good old RMSE as our loss function. It's just easier this way."
   ]
  },
  {
   "cell_type": "code",
   "execution_count": 6,
   "metadata": {
    "scrolled": true
   },
   "outputs": [],
   "source": [
    "# Defining pre-processing we want for our fast.ai DataBunch\n",
    "procs=[Normalize]"
   ]
  },
  {
   "cell_type": "code",
   "execution_count": null,
   "metadata": {},
   "outputs": [],
   "source": []
  },
  {
   "cell_type": "markdown",
   "metadata": {},
   "source": [
    "Namely, we'll fix the missing values, categorify all categorical columns, then normalize. Plain and simple. "
   ]
  },
  {
   "cell_type": "markdown",
   "metadata": {},
   "source": [
    "# Building the Model\n"
   ]
  },
  {
   "cell_type": "code",
   "execution_count": 7,
   "metadata": {},
   "outputs": [
    {
     "data": {
      "text/plain": [
       "{float64: ['B_OWNPV_CHI2', 'B_IPCHI2_OWNPV', 'B_FDCHI2_OWNPV', 'B_DIRA_OWNPV', 'B_PT', 'Kst_892_0_IP_OWNPV', 'Kst_892_0_cosThetaH', 'Kplus_IP_OWNPV', 'Kplus_P', 'piminus_IP_OWNPV', 'piminus_P', 'gamma_PT', 'piminus_ETA', 'Kplus_ETA', 'signal']}"
      ]
     },
     "execution_count": 7,
     "metadata": {},
     "output_type": "execute_result"
    }
   ],
   "source": [
    "train_df.dtypes\n",
    "g = train_df.columns.to_series().groupby(train_df.dtypes).groups\n",
    "g"
   ]
  },
  {
   "cell_type": "markdown",
   "metadata": {},
   "source": [
    "Have a look at all the column types and see which are categorical and continuous. We'll use it to build the fast'ai DataBunch for training our learner. "
   ]
  },
  {
   "cell_type": "code",
   "execution_count": 8,
   "metadata": {},
   "outputs": [
    {
     "data": {
      "text/plain": [
       "Index(['B_OWNPV_CHI2', 'B_IPCHI2_OWNPV', 'B_FDCHI2_OWNPV', 'B_DIRA_OWNPV',\n",
       "       'B_PT', 'Kst_892_0_IP_OWNPV', 'Kst_892_0_cosThetaH', 'Kplus_IP_OWNPV',\n",
       "       'Kplus_P', 'piminus_IP_OWNPV', 'piminus_P', 'gamma_PT', 'piminus_ETA',\n",
       "       'Kplus_ETA', 'signal'],\n",
       "      dtype='object')"
      ]
     },
     "execution_count": 8,
     "metadata": {},
     "output_type": "execute_result"
    }
   ],
   "source": [
    "train_df.columns"
   ]
  },
  {
   "cell_type": "code",
   "execution_count": 9,
   "metadata": {},
   "outputs": [],
   "source": [
    "# prepare categorical and continous data columns for building Tabular DataBunch.\n",
    "cat_vars = []\n",
    "\n",
    "cont_vars = ['B_OWNPV_CHI2', 'B_IPCHI2_OWNPV', 'B_FDCHI2_OWNPV',\n",
    "       'B_DIRA_OWNPV', 'B_PT', 'Kst_892_0_IP_OWNPV', 'Kst_892_0_cosThetaH',\n",
    "       'Kplus_IP_OWNPV', 'Kplus_P', 'piminus_IP_OWNPV', 'piminus_P',\n",
    "       'gamma_PT', 'piminus_ETA', 'Kplus_ETA']"
   ]
  },
  {
   "cell_type": "code",
   "execution_count": 10,
   "metadata": {},
   "outputs": [
    {
     "data": {
      "text/html": [
       "<div>\n",
       "<style scoped>\n",
       "    .dataframe tbody tr th:only-of-type {\n",
       "        vertical-align: middle;\n",
       "    }\n",
       "\n",
       "    .dataframe tbody tr th {\n",
       "        vertical-align: top;\n",
       "    }\n",
       "\n",
       "    .dataframe thead th {\n",
       "        text-align: right;\n",
       "    }\n",
       "</style>\n",
       "<table border=\"1\" class=\"dataframe\">\n",
       "  <thead>\n",
       "    <tr style=\"text-align: right;\">\n",
       "      <th></th>\n",
       "      <th>B_OWNPV_CHI2</th>\n",
       "      <th>B_IPCHI2_OWNPV</th>\n",
       "      <th>B_FDCHI2_OWNPV</th>\n",
       "      <th>B_DIRA_OWNPV</th>\n",
       "      <th>B_PT</th>\n",
       "      <th>Kst_892_0_IP_OWNPV</th>\n",
       "      <th>Kst_892_0_cosThetaH</th>\n",
       "      <th>Kplus_IP_OWNPV</th>\n",
       "      <th>Kplus_P</th>\n",
       "      <th>piminus_IP_OWNPV</th>\n",
       "      <th>piminus_P</th>\n",
       "      <th>gamma_PT</th>\n",
       "      <th>piminus_ETA</th>\n",
       "      <th>Kplus_ETA</th>\n",
       "      <th>signal</th>\n",
       "    </tr>\n",
       "  </thead>\n",
       "  <tbody>\n",
       "    <tr>\n",
       "      <th>0</th>\n",
       "      <td>28.878847</td>\n",
       "      <td>2.662533</td>\n",
       "      <td>2924.690991</td>\n",
       "      <td>0.999997</td>\n",
       "      <td>19085.568945</td>\n",
       "      <td>0.569198</td>\n",
       "      <td>-0.575502</td>\n",
       "      <td>0.581565</td>\n",
       "      <td>66850.893711</td>\n",
       "      <td>0.637969</td>\n",
       "      <td>14298.486178</td>\n",
       "      <td>7940.694301</td>\n",
       "      <td>2.628526</td>\n",
       "      <td>2.680116</td>\n",
       "      <td>1.0</td>\n",
       "    </tr>\n",
       "    <tr>\n",
       "      <th>1</th>\n",
       "      <td>34.233566</td>\n",
       "      <td>0.092746</td>\n",
       "      <td>346.948714</td>\n",
       "      <td>0.999997</td>\n",
       "      <td>6631.244546</td>\n",
       "      <td>0.248707</td>\n",
       "      <td>-0.615941</td>\n",
       "      <td>0.277898</td>\n",
       "      <td>39274.475071</td>\n",
       "      <td>0.148815</td>\n",
       "      <td>11553.163934</td>\n",
       "      <td>3904.681337</td>\n",
       "      <td>3.292504</td>\n",
       "      <td>3.085754</td>\n",
       "      <td>1.0</td>\n",
       "    </tr>\n",
       "    <tr>\n",
       "      <th>2</th>\n",
       "      <td>36.113632</td>\n",
       "      <td>2.442423</td>\n",
       "      <td>238.553023</td>\n",
       "      <td>0.999986</td>\n",
       "      <td>7740.918989</td>\n",
       "      <td>0.222347</td>\n",
       "      <td>0.249383</td>\n",
       "      <td>0.216576</td>\n",
       "      <td>27757.153899</td>\n",
       "      <td>0.249840</td>\n",
       "      <td>24081.196003</td>\n",
       "      <td>4738.891687</td>\n",
       "      <td>3.433676</td>\n",
       "      <td>3.121906</td>\n",
       "      <td>1.0</td>\n",
       "    </tr>\n",
       "    <tr>\n",
       "      <th>3</th>\n",
       "      <td>14.286133</td>\n",
       "      <td>6.337556</td>\n",
       "      <td>227.375132</td>\n",
       "      <td>0.999806</td>\n",
       "      <td>6740.281614</td>\n",
       "      <td>0.347316</td>\n",
       "      <td>0.591884</td>\n",
       "      <td>0.306927</td>\n",
       "      <td>10593.207077</td>\n",
       "      <td>0.400748</td>\n",
       "      <td>11343.521945</td>\n",
       "      <td>3308.943750</td>\n",
       "      <td>2.291867</td>\n",
       "      <td>2.200712</td>\n",
       "      <td>0.0</td>\n",
       "    </tr>\n",
       "    <tr>\n",
       "      <th>4</th>\n",
       "      <td>60.474274</td>\n",
       "      <td>7.632751</td>\n",
       "      <td>106.730650</td>\n",
       "      <td>0.999905</td>\n",
       "      <td>5556.388794</td>\n",
       "      <td>0.204273</td>\n",
       "      <td>0.655850</td>\n",
       "      <td>0.196600</td>\n",
       "      <td>11801.249543</td>\n",
       "      <td>0.223101</td>\n",
       "      <td>25940.693317</td>\n",
       "      <td>4026.326871</td>\n",
       "      <td>3.290073</td>\n",
       "      <td>3.281829</td>\n",
       "      <td>0.0</td>\n",
       "    </tr>\n",
       "    <tr>\n",
       "      <th>...</th>\n",
       "      <td>...</td>\n",
       "      <td>...</td>\n",
       "      <td>...</td>\n",
       "      <td>...</td>\n",
       "      <td>...</td>\n",
       "      <td>...</td>\n",
       "      <td>...</td>\n",
       "      <td>...</td>\n",
       "      <td>...</td>\n",
       "      <td>...</td>\n",
       "      <td>...</td>\n",
       "      <td>...</td>\n",
       "      <td>...</td>\n",
       "      <td>...</td>\n",
       "      <td>...</td>\n",
       "    </tr>\n",
       "    <tr>\n",
       "      <th>170347</th>\n",
       "      <td>12.893907</td>\n",
       "      <td>0.151000</td>\n",
       "      <td>984.507893</td>\n",
       "      <td>1.000000</td>\n",
       "      <td>11121.462006</td>\n",
       "      <td>0.491973</td>\n",
       "      <td>-0.548488</td>\n",
       "      <td>0.541038</td>\n",
       "      <td>72639.491690</td>\n",
       "      <td>0.398007</td>\n",
       "      <td>22999.329625</td>\n",
       "      <td>3426.012947</td>\n",
       "      <td>3.220792</td>\n",
       "      <td>3.165776</td>\n",
       "      <td>0.0</td>\n",
       "    </tr>\n",
       "    <tr>\n",
       "      <th>170348</th>\n",
       "      <td>33.269855</td>\n",
       "      <td>0.422886</td>\n",
       "      <td>528.518223</td>\n",
       "      <td>0.999999</td>\n",
       "      <td>6547.421388</td>\n",
       "      <td>0.324063</td>\n",
       "      <td>-0.397384</td>\n",
       "      <td>0.286336</td>\n",
       "      <td>50331.007785</td>\n",
       "      <td>0.539486</td>\n",
       "      <td>8898.424053</td>\n",
       "      <td>3657.986285</td>\n",
       "      <td>3.077444</td>\n",
       "      <td>3.243626</td>\n",
       "      <td>1.0</td>\n",
       "    </tr>\n",
       "    <tr>\n",
       "      <th>170349</th>\n",
       "      <td>30.405409</td>\n",
       "      <td>6.838541</td>\n",
       "      <td>245.848798</td>\n",
       "      <td>0.999909</td>\n",
       "      <td>6634.286140</td>\n",
       "      <td>0.286608</td>\n",
       "      <td>0.522046</td>\n",
       "      <td>0.194381</td>\n",
       "      <td>32017.565715</td>\n",
       "      <td>0.446696</td>\n",
       "      <td>22491.555816</td>\n",
       "      <td>4975.574892</td>\n",
       "      <td>3.510440</td>\n",
       "      <td>3.603324</td>\n",
       "      <td>0.0</td>\n",
       "    </tr>\n",
       "    <tr>\n",
       "      <th>170350</th>\n",
       "      <td>8.028983</td>\n",
       "      <td>2.256855</td>\n",
       "      <td>377.706643</td>\n",
       "      <td>0.999878</td>\n",
       "      <td>5160.700365</td>\n",
       "      <td>0.626228</td>\n",
       "      <td>-0.176330</td>\n",
       "      <td>0.598550</td>\n",
       "      <td>16262.726940</td>\n",
       "      <td>0.705622</td>\n",
       "      <td>5497.144994</td>\n",
       "      <td>4276.250211</td>\n",
       "      <td>2.379503</td>\n",
       "      <td>2.772514</td>\n",
       "      <td>1.0</td>\n",
       "    </tr>\n",
       "    <tr>\n",
       "      <th>170351</th>\n",
       "      <td>59.286201</td>\n",
       "      <td>3.385165</td>\n",
       "      <td>675.095332</td>\n",
       "      <td>0.999828</td>\n",
       "      <td>9506.037618</td>\n",
       "      <td>0.278407</td>\n",
       "      <td>0.948246</td>\n",
       "      <td>0.231088</td>\n",
       "      <td>11309.374549</td>\n",
       "      <td>0.308349</td>\n",
       "      <td>20879.660445</td>\n",
       "      <td>3915.660229</td>\n",
       "      <td>2.323603</td>\n",
       "      <td>2.348653</td>\n",
       "      <td>0.0</td>\n",
       "    </tr>\n",
       "  </tbody>\n",
       "</table>\n",
       "<p>170352 rows × 15 columns</p>\n",
       "</div>"
      ],
      "text/plain": [
       "        B_OWNPV_CHI2  B_IPCHI2_OWNPV  B_FDCHI2_OWNPV  B_DIRA_OWNPV  \\\n",
       "0          28.878847        2.662533     2924.690991      0.999997   \n",
       "1          34.233566        0.092746      346.948714      0.999997   \n",
       "2          36.113632        2.442423      238.553023      0.999986   \n",
       "3          14.286133        6.337556      227.375132      0.999806   \n",
       "4          60.474274        7.632751      106.730650      0.999905   \n",
       "...              ...             ...             ...           ...   \n",
       "170347     12.893907        0.151000      984.507893      1.000000   \n",
       "170348     33.269855        0.422886      528.518223      0.999999   \n",
       "170349     30.405409        6.838541      245.848798      0.999909   \n",
       "170350      8.028983        2.256855      377.706643      0.999878   \n",
       "170351     59.286201        3.385165      675.095332      0.999828   \n",
       "\n",
       "                B_PT  Kst_892_0_IP_OWNPV  Kst_892_0_cosThetaH  Kplus_IP_OWNPV  \\\n",
       "0       19085.568945            0.569198            -0.575502        0.581565   \n",
       "1        6631.244546            0.248707            -0.615941        0.277898   \n",
       "2        7740.918989            0.222347             0.249383        0.216576   \n",
       "3        6740.281614            0.347316             0.591884        0.306927   \n",
       "4        5556.388794            0.204273             0.655850        0.196600   \n",
       "...              ...                 ...                  ...             ...   \n",
       "170347  11121.462006            0.491973            -0.548488        0.541038   \n",
       "170348   6547.421388            0.324063            -0.397384        0.286336   \n",
       "170349   6634.286140            0.286608             0.522046        0.194381   \n",
       "170350   5160.700365            0.626228            -0.176330        0.598550   \n",
       "170351   9506.037618            0.278407             0.948246        0.231088   \n",
       "\n",
       "             Kplus_P  piminus_IP_OWNPV     piminus_P     gamma_PT  \\\n",
       "0       66850.893711          0.637969  14298.486178  7940.694301   \n",
       "1       39274.475071          0.148815  11553.163934  3904.681337   \n",
       "2       27757.153899          0.249840  24081.196003  4738.891687   \n",
       "3       10593.207077          0.400748  11343.521945  3308.943750   \n",
       "4       11801.249543          0.223101  25940.693317  4026.326871   \n",
       "...              ...               ...           ...          ...   \n",
       "170347  72639.491690          0.398007  22999.329625  3426.012947   \n",
       "170348  50331.007785          0.539486   8898.424053  3657.986285   \n",
       "170349  32017.565715          0.446696  22491.555816  4975.574892   \n",
       "170350  16262.726940          0.705622   5497.144994  4276.250211   \n",
       "170351  11309.374549          0.308349  20879.660445  3915.660229   \n",
       "\n",
       "        piminus_ETA  Kplus_ETA  signal  \n",
       "0          2.628526   2.680116     1.0  \n",
       "1          3.292504   3.085754     1.0  \n",
       "2          3.433676   3.121906     1.0  \n",
       "3          2.291867   2.200712     0.0  \n",
       "4          3.290073   3.281829     0.0  \n",
       "...             ...        ...     ...  \n",
       "170347     3.220792   3.165776     0.0  \n",
       "170348     3.077444   3.243626     1.0  \n",
       "170349     3.510440   3.603324     0.0  \n",
       "170350     2.379503   2.772514     1.0  \n",
       "170351     2.323603   2.348653     0.0  \n",
       "\n",
       "[170352 rows x 15 columns]"
      ]
     },
     "execution_count": 10,
     "metadata": {},
     "output_type": "execute_result"
    }
   ],
   "source": [
    "train_df"
   ]
  },
  {
   "cell_type": "code",
   "execution_count": 11,
   "metadata": {},
   "outputs": [],
   "source": [
    "# rearrange training set before feed into the databunch\n",
    "dep_var = 'signal'\n",
    "df = train_df[cat_vars + cont_vars + [dep_var]].copy()"
   ]
  },
  {
   "cell_type": "markdown",
   "metadata": {},
   "source": [
    "Time to create our validation set. The most important step. Since this dataset is somewhat time series, we need to make sure validation set entries happens AFTER all entries in the training set, otherwise the model will be cheating and won't generalize well. "
   ]
  },
  {
   "cell_type": "code",
   "execution_count": 12,
   "metadata": {},
   "outputs": [],
   "source": [
    "from fastai.tabular.data import TabularDataLoaders"
   ]
  },
  {
   "cell_type": "code",
   "execution_count": 13,
   "metadata": {},
   "outputs": [],
   "source": [
    "# Use fast.ai datablock api to put our training data into the DataBunch, getting ready for training\n",
    "data = TabularDataLoaders.from_df(df,  cat_names=cat_vars, cont_names=cont_vars, procs=procs,y_names='signal')\n"
   ]
  },
  {
   "cell_type": "code",
   "execution_count": 14,
   "metadata": {},
   "outputs": [
    {
     "data": {
      "text/html": [
       "<table border=\"1\" class=\"dataframe\">\n",
       "  <thead>\n",
       "    <tr style=\"text-align: right;\">\n",
       "      <th></th>\n",
       "      <th>B_OWNPV_CHI2</th>\n",
       "      <th>B_IPCHI2_OWNPV</th>\n",
       "      <th>B_FDCHI2_OWNPV</th>\n",
       "      <th>B_DIRA_OWNPV</th>\n",
       "      <th>B_PT</th>\n",
       "      <th>Kst_892_0_IP_OWNPV</th>\n",
       "      <th>Kst_892_0_cosThetaH</th>\n",
       "      <th>Kplus_IP_OWNPV</th>\n",
       "      <th>Kplus_P</th>\n",
       "      <th>piminus_IP_OWNPV</th>\n",
       "      <th>piminus_P</th>\n",
       "      <th>gamma_PT</th>\n",
       "      <th>piminus_ETA</th>\n",
       "      <th>Kplus_ETA</th>\n",
       "      <th>signal</th>\n",
       "    </tr>\n",
       "  </thead>\n",
       "  <tbody>\n",
       "    <tr>\n",
       "      <th>0</th>\n",
       "      <td>51.995236</td>\n",
       "      <td>4.536544</td>\n",
       "      <td>227.362384</td>\n",
       "      <td>0.999955</td>\n",
       "      <td>7470.622076</td>\n",
       "      <td>0.261750</td>\n",
       "      <td>-0.135363</td>\n",
       "      <td>0.271361</td>\n",
       "      <td>64960.340843</td>\n",
       "      <td>0.300770</td>\n",
       "      <td>28086.437589</td>\n",
       "      <td>4510.429184</td>\n",
       "      <td>3.933022</td>\n",
       "      <td>4.168918</td>\n",
       "      <td>0.0</td>\n",
       "    </tr>\n",
       "    <tr>\n",
       "      <th>1</th>\n",
       "      <td>14.716708</td>\n",
       "      <td>4.041287</td>\n",
       "      <td>305.552841</td>\n",
       "      <td>0.999640</td>\n",
       "      <td>8040.760226</td>\n",
       "      <td>0.284416</td>\n",
       "      <td>0.963321</td>\n",
       "      <td>0.234621</td>\n",
       "      <td>12560.041526</td>\n",
       "      <td>0.309272</td>\n",
       "      <td>21362.095821</td>\n",
       "      <td>4475.803225</td>\n",
       "      <td>2.674244</td>\n",
       "      <td>2.735106</td>\n",
       "      <td>0.0</td>\n",
       "    </tr>\n",
       "    <tr>\n",
       "      <th>2</th>\n",
       "      <td>13.067174</td>\n",
       "      <td>2.175954</td>\n",
       "      <td>2202.285649</td>\n",
       "      <td>0.999994</td>\n",
       "      <td>5000.619747</td>\n",
       "      <td>1.020902</td>\n",
       "      <td>0.168225</td>\n",
       "      <td>1.284032</td>\n",
       "      <td>22554.572532</td>\n",
       "      <td>0.794177</td>\n",
       "      <td>25058.322271</td>\n",
       "      <td>3084.997013</td>\n",
       "      <td>3.234347</td>\n",
       "      <td>3.143624</td>\n",
       "      <td>0.0</td>\n",
       "    </tr>\n",
       "    <tr>\n",
       "      <th>3</th>\n",
       "      <td>34.836101</td>\n",
       "      <td>5.825780</td>\n",
       "      <td>269.906071</td>\n",
       "      <td>0.999966</td>\n",
       "      <td>4345.999782</td>\n",
       "      <td>0.243963</td>\n",
       "      <td>-0.335012</td>\n",
       "      <td>0.248214</td>\n",
       "      <td>46810.636893</td>\n",
       "      <td>0.378233</td>\n",
       "      <td>7568.501019</td>\n",
       "      <td>3785.708201</td>\n",
       "      <td>3.306180</td>\n",
       "      <td>3.944712</td>\n",
       "      <td>0.0</td>\n",
       "    </tr>\n",
       "    <tr>\n",
       "      <th>4</th>\n",
       "      <td>23.053198</td>\n",
       "      <td>0.220533</td>\n",
       "      <td>254.570546</td>\n",
       "      <td>0.999977</td>\n",
       "      <td>7222.524932</td>\n",
       "      <td>0.231138</td>\n",
       "      <td>0.595629</td>\n",
       "      <td>0.258591</td>\n",
       "      <td>14921.830990</td>\n",
       "      <td>0.227353</td>\n",
       "      <td>22410.328154</td>\n",
       "      <td>3357.786811</td>\n",
       "      <td>2.649248</td>\n",
       "      <td>2.516724</td>\n",
       "      <td>1.0</td>\n",
       "    </tr>\n",
       "    <tr>\n",
       "      <th>5</th>\n",
       "      <td>56.961617</td>\n",
       "      <td>1.071579</td>\n",
       "      <td>7396.173316</td>\n",
       "      <td>0.999991</td>\n",
       "      <td>10932.127912</td>\n",
       "      <td>0.956862</td>\n",
       "      <td>0.302077</td>\n",
       "      <td>1.125037</td>\n",
       "      <td>15972.121027</td>\n",
       "      <td>0.829219</td>\n",
       "      <td>20041.388650</td>\n",
       "      <td>7273.423291</td>\n",
       "      <td>2.716556</td>\n",
       "      <td>2.765273</td>\n",
       "      <td>1.0</td>\n",
       "    </tr>\n",
       "    <tr>\n",
       "      <th>6</th>\n",
       "      <td>52.504078</td>\n",
       "      <td>2.809500</td>\n",
       "      <td>424.516591</td>\n",
       "      <td>0.999986</td>\n",
       "      <td>11318.878908</td>\n",
       "      <td>0.240555</td>\n",
       "      <td>0.821447</td>\n",
       "      <td>0.178708</td>\n",
       "      <td>22659.734635</td>\n",
       "      <td>0.290096</td>\n",
       "      <td>29210.216846</td>\n",
       "      <td>4920.521947</td>\n",
       "      <td>2.626247</td>\n",
       "      <td>2.723290</td>\n",
       "      <td>0.0</td>\n",
       "    </tr>\n",
       "    <tr>\n",
       "      <th>7</th>\n",
       "      <td>49.335835</td>\n",
       "      <td>0.204402</td>\n",
       "      <td>312.984630</td>\n",
       "      <td>0.999998</td>\n",
       "      <td>6794.391658</td>\n",
       "      <td>0.289229</td>\n",
       "      <td>-0.020246</td>\n",
       "      <td>0.256601</td>\n",
       "      <td>22694.666279</td>\n",
       "      <td>0.463536</td>\n",
       "      <td>5017.078215</td>\n",
       "      <td>5633.497556</td>\n",
       "      <td>2.898160</td>\n",
       "      <td>3.138744</td>\n",
       "      <td>1.0</td>\n",
       "    </tr>\n",
       "    <tr>\n",
       "      <th>8</th>\n",
       "      <td>27.568237</td>\n",
       "      <td>5.246316</td>\n",
       "      <td>8109.486695</td>\n",
       "      <td>1.000000</td>\n",
       "      <td>23112.449267</td>\n",
       "      <td>0.963872</td>\n",
       "      <td>-0.207135</td>\n",
       "      <td>0.990731</td>\n",
       "      <td>75402.694862</td>\n",
       "      <td>1.063759</td>\n",
       "      <td>32684.861144</td>\n",
       "      <td>11296.381975</td>\n",
       "      <td>2.930873</td>\n",
       "      <td>2.882131</td>\n",
       "      <td>0.0</td>\n",
       "    </tr>\n",
       "    <tr>\n",
       "      <th>9</th>\n",
       "      <td>34.638153</td>\n",
       "      <td>3.022676</td>\n",
       "      <td>293.552399</td>\n",
       "      <td>0.999869</td>\n",
       "      <td>6891.697772</td>\n",
       "      <td>0.211486</td>\n",
       "      <td>-0.036645</td>\n",
       "      <td>0.198235</td>\n",
       "      <td>17151.726074</td>\n",
       "      <td>0.256143</td>\n",
       "      <td>7748.160506</td>\n",
       "      <td>3692.788503</td>\n",
       "      <td>2.208954</td>\n",
       "      <td>2.469869</td>\n",
       "      <td>1.0</td>\n",
       "    </tr>\n",
       "  </tbody>\n",
       "</table>"
      ],
      "text/plain": [
       "<IPython.core.display.HTML object>"
      ]
     },
     "metadata": {},
     "output_type": "display_data"
    }
   ],
   "source": [
    "data.show_batch()"
   ]
  },
  {
   "cell_type": "markdown",
   "metadata": {},
   "source": [
    "# Model"
   ]
  },
  {
   "cell_type": "markdown",
   "metadata": {},
   "source": [
    "Finally, it's time for some training. We will fire up a fast.ai 'tabular.learner' from the DataBunch we just created."
   ]
  },
  {
   "cell_type": "code",
   "execution_count": 17,
   "metadata": {},
   "outputs": [],
   "source": [
    "from fastai.tabular.learner import tabular_learner\n",
    "from fastai.tabular.data import *"
   ]
  },
  {
   "cell_type": "code",
   "execution_count": 18,
   "metadata": {},
   "outputs": [],
   "source": [
    "dls = TabularDataLoaders.from_df(df, '.', procs=procs, cat_names=cat_vars, cont_names=cont_vars, \n",
    "                                 y_names=\"signal\", bs=64)\n",
    "learn = tabular_learner(dls)"
   ]
  },
  {
   "cell_type": "code",
   "execution_count": 19,
   "metadata": {
    "scrolled": true
   },
   "outputs": [
    {
     "data": {
      "text/plain": [
       "TabularModel(\n",
       "  (embeds): ModuleList()\n",
       "  (emb_drop): Dropout(p=0.0, inplace=False)\n",
       "  (bn_cont): BatchNorm1d(14, eps=1e-05, momentum=0.1, affine=True, track_running_stats=True)\n",
       "  (layers): Sequential(\n",
       "    (0): LinBnDrop(\n",
       "      (0): BatchNorm1d(14, eps=1e-05, momentum=0.1, affine=True, track_running_stats=True)\n",
       "      (1): Linear(in_features=14, out_features=200, bias=False)\n",
       "      (2): ReLU(inplace=True)\n",
       "    )\n",
       "    (1): LinBnDrop(\n",
       "      (0): BatchNorm1d(200, eps=1e-05, momentum=0.1, affine=True, track_running_stats=True)\n",
       "      (1): Linear(in_features=200, out_features=100, bias=False)\n",
       "      (2): ReLU(inplace=True)\n",
       "    )\n",
       "    (2): LinBnDrop(\n",
       "      (0): Linear(in_features=100, out_features=1, bias=True)\n",
       "    )\n",
       "  )\n",
       ")"
      ]
     },
     "execution_count": 19,
     "metadata": {},
     "output_type": "execute_result"
    }
   ],
   "source": [
    "learn.model"
   ]
  },
  {
   "cell_type": "markdown",
   "metadata": {},
   "source": [
    "As can be seen from the above, we have embedding layers for categorical columns, then followed by a drop out layer. We have batch norm layer for the continuous columns, then we put all of them into two fully connected layers with 1000 and 500 nodes, with Relu, BatchNorm, and Dropout in between. Quite standard."
   ]
  },
  {
   "cell_type": "code",
   "execution_count": null,
   "metadata": {
    "scrolled": false
   },
   "outputs": [],
   "source": [
    "row, clas, probs = learn.predict(df.iloc[0])"
   ]
  },
  {
   "cell_type": "code",
   "execution_count": null,
   "metadata": {},
   "outputs": [],
   "source": [
    "clas, probs"
   ]
  },
  {
   "cell_type": "markdown",
   "metadata": {},
   "source": [
    "User fast.ai's *lr_find* function to find the proper learning rate, then do a 'fit one cycle' training. "
   ]
  },
  {
   "cell_type": "code",
   "execution_count": null,
   "metadata": {
    "scrolled": false
   },
   "outputs": [],
   "source": [
    "learn.model.fit_one_cycle(2, 1e-2, wd=0.2)"
   ]
  },
  {
   "cell_type": "code",
   "execution_count": null,
   "metadata": {},
   "outputs": [],
   "source": [
    "learn.fit_one_cycle(5, 3e-4, wd=0.2)"
   ]
  },
  {
   "cell_type": "code",
   "execution_count": null,
   "metadata": {},
   "outputs": [],
   "source": [
    "# learn.fit_one_cycle(5, 3e-4, wd=0.2)"
   ]
  },
  {
   "cell_type": "markdown",
   "metadata": {},
   "source": [
    "Best result reaches 0.227 RMSLE, I think it beats the #1 in Kaggle leaderboard. "
   ]
  },
  {
   "cell_type": "markdown",
   "metadata": {},
   "source": [
    "# Conlusion\n",
    "I think overall people still prefer XGBoost or Random Forest for tabular Kaggle competitions since it usually will yield the best scores. However, Deep Learning is also a viable approach, though lacking a bit on the explainability side. At least it could be used for ensamble purpose so it's worth exploring. "
   ]
  },
  {
   "cell_type": "code",
   "execution_count": null,
   "metadata": {},
   "outputs": [],
   "source": []
  }
 ],
 "metadata": {
  "kernelspec": {
   "display_name": "Python 3",
   "language": "python",
   "name": "python3"
  },
  "language_info": {
   "codemirror_mode": {
    "name": "ipython",
    "version": 3
   },
   "file_extension": ".py",
   "mimetype": "text/x-python",
   "name": "python",
   "nbconvert_exporter": "python",
   "pygments_lexer": "ipython3",
   "version": "3.7.6"
  }
 },
 "nbformat": 4,
 "nbformat_minor": 1
}
