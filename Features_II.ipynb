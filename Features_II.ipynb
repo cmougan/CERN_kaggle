{
 "cells": [
  {
   "cell_type": "markdown",
   "metadata": {},
   "source": [
    "#### Libraries & reading"
   ]
  },
  {
   "cell_type": "code",
   "execution_count": 1,
   "metadata": {
    "ExecuteTime": {
     "end_time": "2020-11-01T14:07:31.201317Z",
     "start_time": "2020-11-01T14:07:31.189840Z"
    }
   },
   "outputs": [
    {
     "data": {
      "application/javascript": [
       "utils.load_extension(\"collapsible_headings/main\")\n",
       "utils.load_extension(\"autosavetime/main\")\n",
       "utils.load_extension(\"execute_time/ExecuteTime\")\n"
      ],
      "text/plain": [
       "<IPython.core.display.Javascript object>"
      ]
     },
     "metadata": {},
     "output_type": "display_data"
    }
   ],
   "source": [
    "%%javascript\n",
    "utils.load_extension(\"collapsible_headings/main\")\n",
    "utils.load_extension(\"autosavetime/main\")\n",
    "utils.load_extension(\"execute_time/ExecuteTime\")"
   ]
  },
  {
   "cell_type": "code",
   "execution_count": 34,
   "metadata": {
    "ExecuteTime": {
     "end_time": "2020-11-01T14:58:01.763957Z",
     "start_time": "2020-11-01T14:58:01.747690Z"
    }
   },
   "outputs": [],
   "source": [
    "import pandas as pd\n",
    "pd.set_option('display.max_columns', 500)\n",
    "from catboost import CatBoostClassifier\n",
    "import numpy as np\n",
    "import matplotlib.pyplot as plt\n",
    "from cern_utils import plot_feature_importance\n",
    "from sklearn.metrics import roc_auc_score,auc\n",
    "from xgboost import XGBClassifier\n",
    "\n",
    "from sklearn.ensemble import RandomForestClassifier\n",
    "from sklearn.model_selection import train_test_split\n",
    "from sklearn.ensemble import VotingClassifier\n",
    "from sklearn.neural_network import MLPClassifier\n",
    "from sklearn.neighbors import KNeighborsClassifier\n",
    "plt.style.use('seaborn')\n",
    "\n",
    "import math\n",
    "\n",
    "import random \n",
    "random.seed(0)\n",
    "\n",
    "from path_utils import return_impurity,pie_plot_filtered"
   ]
  },
  {
   "cell_type": "code",
   "execution_count": null,
   "metadata": {},
   "outputs": [],
   "source": []
  },
  {
   "cell_type": "code",
   "execution_count": 35,
   "metadata": {
    "ExecuteTime": {
     "end_time": "2020-11-01T14:58:03.214530Z",
     "start_time": "2020-11-01T14:58:02.215562Z"
    }
   },
   "outputs": [],
   "source": [
    "train = pd.read_csv(\"train.csv\", index_col=\"Id\")\n",
    "test = pd.read_csv(\"test.csv\", index_col=\"Id\")\n",
    "train = train.drop(columns=\"BUTTER\")\n",
    "test = test.drop(columns=\"BUTTER\")"
   ]
  },
  {
   "cell_type": "markdown",
   "metadata": {},
   "source": [
    "## Feature Engineering"
   ]
  },
  {
   "cell_type": "code",
   "execution_count": 36,
   "metadata": {
    "ExecuteTime": {
     "end_time": "2020-11-01T14:58:03.225750Z",
     "start_time": "2020-11-01T14:58:03.216948Z"
    }
   },
   "outputs": [],
   "source": [
    "train['train']=1\n",
    "test['train']=0\n"
   ]
  },
  {
   "cell_type": "code",
   "execution_count": 37,
   "metadata": {
    "ExecuteTime": {
     "end_time": "2020-11-01T14:58:03.267401Z",
     "start_time": "2020-11-01T14:58:03.231741Z"
    }
   },
   "outputs": [],
   "source": [
    "df = train.append(test)"
   ]
  },
  {
   "cell_type": "code",
   "execution_count": 38,
   "metadata": {
    "ExecuteTime": {
     "end_time": "2020-11-01T14:58:03.275117Z",
     "start_time": "2020-11-01T14:58:03.269957Z"
    }
   },
   "outputs": [],
   "source": [
    "df.columns = df.columns.str.replace(' ', '')"
   ]
  },
  {
   "cell_type": "code",
   "execution_count": 39,
   "metadata": {
    "ExecuteTime": {
     "end_time": "2020-11-01T14:58:03.479568Z",
     "start_time": "2020-11-01T14:58:03.461840Z"
    },
    "scrolled": true
   },
   "outputs": [
    {
     "data": {
      "text/html": [
       "<div>\n",
       "<style scoped>\n",
       "    .dataframe tbody tr th:only-of-type {\n",
       "        vertical-align: middle;\n",
       "    }\n",
       "\n",
       "    .dataframe tbody tr th {\n",
       "        vertical-align: top;\n",
       "    }\n",
       "\n",
       "    .dataframe thead th {\n",
       "        text-align: right;\n",
       "    }\n",
       "</style>\n",
       "<table border=\"1\" class=\"dataframe\">\n",
       "  <thead>\n",
       "    <tr style=\"text-align: right;\">\n",
       "      <th></th>\n",
       "      <th>B_OWNPV_CHI2</th>\n",
       "      <th>B_IPCHI2_OWNPV</th>\n",
       "      <th>B_FDCHI2_OWNPV</th>\n",
       "      <th>B_DIRA_OWNPV</th>\n",
       "      <th>B_PT</th>\n",
       "      <th>Kst_892_0_IP_OWNPV</th>\n",
       "      <th>Kst_892_0_cosThetaH</th>\n",
       "      <th>Kplus_IP_OWNPV</th>\n",
       "      <th>Kplus_P</th>\n",
       "      <th>piminus_IP_OWNPV</th>\n",
       "      <th>piminus_P</th>\n",
       "      <th>gamma_PT</th>\n",
       "      <th>piminus_ETA</th>\n",
       "      <th>Kplus_ETA</th>\n",
       "      <th>signal</th>\n",
       "      <th>train</th>\n",
       "    </tr>\n",
       "    <tr>\n",
       "      <th>Id</th>\n",
       "      <th></th>\n",
       "      <th></th>\n",
       "      <th></th>\n",
       "      <th></th>\n",
       "      <th></th>\n",
       "      <th></th>\n",
       "      <th></th>\n",
       "      <th></th>\n",
       "      <th></th>\n",
       "      <th></th>\n",
       "      <th></th>\n",
       "      <th></th>\n",
       "      <th></th>\n",
       "      <th></th>\n",
       "      <th></th>\n",
       "      <th></th>\n",
       "    </tr>\n",
       "  </thead>\n",
       "  <tbody>\n",
       "    <tr>\n",
       "      <th>0</th>\n",
       "      <td>28.878847</td>\n",
       "      <td>2.662533</td>\n",
       "      <td>2924.690991</td>\n",
       "      <td>0.999997</td>\n",
       "      <td>19085.568945</td>\n",
       "      <td>0.569198</td>\n",
       "      <td>-0.575502</td>\n",
       "      <td>0.581565</td>\n",
       "      <td>66850.893711</td>\n",
       "      <td>0.637969</td>\n",
       "      <td>14298.486178</td>\n",
       "      <td>7940.694301</td>\n",
       "      <td>2.628526</td>\n",
       "      <td>2.680116</td>\n",
       "      <td>1.0</td>\n",
       "      <td>1</td>\n",
       "    </tr>\n",
       "    <tr>\n",
       "      <th>1</th>\n",
       "      <td>34.233566</td>\n",
       "      <td>0.092746</td>\n",
       "      <td>346.948714</td>\n",
       "      <td>0.999997</td>\n",
       "      <td>6631.244546</td>\n",
       "      <td>0.248707</td>\n",
       "      <td>-0.615941</td>\n",
       "      <td>0.277898</td>\n",
       "      <td>39274.475071</td>\n",
       "      <td>0.148815</td>\n",
       "      <td>11553.163934</td>\n",
       "      <td>3904.681337</td>\n",
       "      <td>3.292504</td>\n",
       "      <td>3.085754</td>\n",
       "      <td>1.0</td>\n",
       "      <td>1</td>\n",
       "    </tr>\n",
       "    <tr>\n",
       "      <th>2</th>\n",
       "      <td>36.113632</td>\n",
       "      <td>2.442423</td>\n",
       "      <td>238.553023</td>\n",
       "      <td>0.999986</td>\n",
       "      <td>7740.918989</td>\n",
       "      <td>0.222347</td>\n",
       "      <td>0.249383</td>\n",
       "      <td>0.216576</td>\n",
       "      <td>27757.153899</td>\n",
       "      <td>0.249840</td>\n",
       "      <td>24081.196003</td>\n",
       "      <td>4738.891687</td>\n",
       "      <td>3.433676</td>\n",
       "      <td>3.121906</td>\n",
       "      <td>1.0</td>\n",
       "      <td>1</td>\n",
       "    </tr>\n",
       "    <tr>\n",
       "      <th>3</th>\n",
       "      <td>14.286133</td>\n",
       "      <td>6.337556</td>\n",
       "      <td>227.375132</td>\n",
       "      <td>0.999806</td>\n",
       "      <td>6740.281614</td>\n",
       "      <td>0.347316</td>\n",
       "      <td>0.591884</td>\n",
       "      <td>0.306927</td>\n",
       "      <td>10593.207077</td>\n",
       "      <td>0.400748</td>\n",
       "      <td>11343.521945</td>\n",
       "      <td>3308.943750</td>\n",
       "      <td>2.291867</td>\n",
       "      <td>2.200712</td>\n",
       "      <td>0.0</td>\n",
       "      <td>1</td>\n",
       "    </tr>\n",
       "    <tr>\n",
       "      <th>4</th>\n",
       "      <td>60.474274</td>\n",
       "      <td>7.632751</td>\n",
       "      <td>106.730650</td>\n",
       "      <td>0.999905</td>\n",
       "      <td>5556.388794</td>\n",
       "      <td>0.204273</td>\n",
       "      <td>0.655850</td>\n",
       "      <td>0.196600</td>\n",
       "      <td>11801.249543</td>\n",
       "      <td>0.223101</td>\n",
       "      <td>25940.693317</td>\n",
       "      <td>4026.326871</td>\n",
       "      <td>3.290073</td>\n",
       "      <td>3.281829</td>\n",
       "      <td>0.0</td>\n",
       "      <td>1</td>\n",
       "    </tr>\n",
       "  </tbody>\n",
       "</table>\n",
       "</div>"
      ],
      "text/plain": [
       "    B_OWNPV_CHI2  B_IPCHI2_OWNPV  B_FDCHI2_OWNPV  B_DIRA_OWNPV          B_PT  \\\n",
       "Id                                                                             \n",
       "0      28.878847        2.662533     2924.690991      0.999997  19085.568945   \n",
       "1      34.233566        0.092746      346.948714      0.999997   6631.244546   \n",
       "2      36.113632        2.442423      238.553023      0.999986   7740.918989   \n",
       "3      14.286133        6.337556      227.375132      0.999806   6740.281614   \n",
       "4      60.474274        7.632751      106.730650      0.999905   5556.388794   \n",
       "\n",
       "    Kst_892_0_IP_OWNPV  Kst_892_0_cosThetaH  Kplus_IP_OWNPV       Kplus_P  \\\n",
       "Id                                                                          \n",
       "0             0.569198            -0.575502        0.581565  66850.893711   \n",
       "1             0.248707            -0.615941        0.277898  39274.475071   \n",
       "2             0.222347             0.249383        0.216576  27757.153899   \n",
       "3             0.347316             0.591884        0.306927  10593.207077   \n",
       "4             0.204273             0.655850        0.196600  11801.249543   \n",
       "\n",
       "    piminus_IP_OWNPV     piminus_P     gamma_PT  piminus_ETA  Kplus_ETA  \\\n",
       "Id                                                                        \n",
       "0           0.637969  14298.486178  7940.694301     2.628526   2.680116   \n",
       "1           0.148815  11553.163934  3904.681337     3.292504   3.085754   \n",
       "2           0.249840  24081.196003  4738.891687     3.433676   3.121906   \n",
       "3           0.400748  11343.521945  3308.943750     2.291867   2.200712   \n",
       "4           0.223101  25940.693317  4026.326871     3.290073   3.281829   \n",
       "\n",
       "    signal  train  \n",
       "Id                 \n",
       "0      1.0      1  \n",
       "1      1.0      1  \n",
       "2      1.0      1  \n",
       "3      0.0      1  \n",
       "4      0.0      1  "
      ]
     },
     "execution_count": 39,
     "metadata": {},
     "output_type": "execute_result"
    }
   ],
   "source": [
    "df.head()"
   ]
  },
  {
   "cell_type": "code",
   "execution_count": 40,
   "metadata": {
    "ExecuteTime": {
     "end_time": "2020-11-01T14:58:03.673362Z",
     "start_time": "2020-11-01T14:58:03.657199Z"
    }
   },
   "outputs": [],
   "source": [
    "df['random'] = np.random.random(df.shape[0])"
   ]
  },
  {
   "cell_type": "markdown",
   "metadata": {},
   "source": [
    "### Features"
   ]
  },
  {
   "cell_type": "code",
   "execution_count": 41,
   "metadata": {
    "ExecuteTime": {
     "end_time": "2020-11-01T14:58:04.107391Z",
     "start_time": "2020-11-01T14:58:04.088665Z"
    }
   },
   "outputs": [],
   "source": [
    "df['total_mom_2'] = df['B_PT']**2 + df['gamma_PT']**2 + df['Kplus_P']**2\n",
    "df['total_mom_sum'] = df['B_PT'] + df['gamma_PT']+ df['Kplus_P']"
   ]
  },
  {
   "cell_type": "code",
   "execution_count": 42,
   "metadata": {
    "ExecuteTime": {
     "end_time": "2020-11-01T14:58:04.359024Z",
     "start_time": "2020-11-01T14:58:04.323358Z"
    }
   },
   "outputs": [],
   "source": [
    "# All mom ratios worked together\n",
    "df[\"mom_rat_1\"] = df[\"B_PT\"] / df[\"Kplus_P\"]\n",
    "df[\"mom_rat_2\"] = df[\"B_PT\"] / df[\"gamma_PT\"]\n",
    "\n",
    "\n",
    "df[\"mom_rat_3\"] = df[\"gamma_PT\"] / df[\"B_PT\"]\n",
    "df[\"mom_rat_4\"] = df[\"gamma_PT\"] / df[\"Kplus_P\"]\n",
    "\n",
    "df[\"mom_rat_5\"] = df[\"Kplus_P\"] / df[\"B_PT\"]\n",
    "df[\"mom_rat_6\"] = df[\"Kplus_P\"] / df[\"gamma_PT\"]"
   ]
  },
  {
   "cell_type": "code",
   "execution_count": 43,
   "metadata": {
    "ExecuteTime": {
     "end_time": "2020-11-01T14:58:04.734509Z",
     "start_time": "2020-11-01T14:58:04.704924Z"
    }
   },
   "outputs": [],
   "source": [
    "df['ThetaH'] = np.arccos(df['Kst_892_0_cosThetaH'])\n",
    "\n",
    "\n",
    "df['Kplus_P_x'] = df['Kplus_P'] * np.sin(df['ThetaH'])\n",
    "df['Kplus_P_y'] = df['Kplus_P'] * np.cos(df['ThetaH'])"
   ]
  },
  {
   "cell_type": "code",
   "execution_count": 44,
   "metadata": {
    "ExecuteTime": {
     "end_time": "2020-11-01T14:58:05.017951Z",
     "start_time": "2020-11-01T14:58:04.997069Z"
    }
   },
   "outputs": [],
   "source": [
    "df['mom_consev1'] = df[\"gamma_PT\"]**2 + df[\"Kplus_P\"]**2 - df[\"B_PT\"]**2\n",
    "df['mom_consev1_1'] = ((df[\"gamma_PT\"] + df[\"Kplus_P\"]))**2 - df[\"B_PT\"]**2"
   ]
  },
  {
   "cell_type": "code",
   "execution_count": null,
   "metadata": {},
   "outputs": [],
   "source": []
  },
  {
   "cell_type": "markdown",
   "metadata": {},
   "source": [
    "## Splits"
   ]
  },
  {
   "cell_type": "code",
   "execution_count": 45,
   "metadata": {
    "ExecuteTime": {
     "end_time": "2020-11-01T14:58:05.755616Z",
     "start_time": "2020-11-01T14:58:05.489924Z"
    }
   },
   "outputs": [],
   "source": [
    "train = df[df['train']==1].drop(columns='train')\n",
    "test = df[df['train']==0].drop(columns='train')"
   ]
  },
  {
   "cell_type": "code",
   "execution_count": 46,
   "metadata": {
    "ExecuteTime": {
     "end_time": "2020-11-01T14:58:05.935733Z",
     "start_time": "2020-11-01T14:58:05.758453Z"
    }
   },
   "outputs": [],
   "source": [
    "X_tr, X_te, y_tr, y_te = train_test_split(\n",
    "    train.drop(columns=\"signal\"),\n",
    "    train.signal,\n",
    "    stratify=train.signal,\n",
    "    random_state=0,  # train_size=0.99\n",
    ")"
   ]
  },
  {
   "cell_type": "markdown",
   "metadata": {},
   "source": [
    "## Catboost"
   ]
  },
  {
   "cell_type": "code",
   "execution_count": 47,
   "metadata": {
    "ExecuteTime": {
     "end_time": "2020-11-01T14:58:13.795121Z",
     "start_time": "2020-11-01T14:58:07.006934Z"
    }
   },
   "outputs": [
    {
     "data": {
      "text/plain": [
       "<catboost.core.CatBoostClassifier at 0x7f81d7037450>"
      ]
     },
     "execution_count": 47,
     "metadata": {},
     "output_type": "execute_result"
    }
   ],
   "source": [
    "cb = CatBoostClassifier(verbose=0, eval_metric=\"AUC\", iterations=200,\n",
    "                        random_seed=0)\n",
    "cb.fit(X_tr, y_tr)"
   ]
  },
  {
   "cell_type": "code",
   "execution_count": 48,
   "metadata": {
    "ExecuteTime": {
     "end_time": "2020-11-01T14:58:15.401208Z",
     "start_time": "2020-11-01T14:58:15.246645Z"
    },
    "scrolled": true
   },
   "outputs": [
    {
     "name": "stdout",
     "output_type": "stream",
     "text": [
      "train 0.8959177211822856\n",
      "test 0.8704447635522761\n"
     ]
    }
   ],
   "source": [
    "print(\"train\", roc_auc_score(y_tr.values,cb.predict_proba(X_tr)[:,1]))\n",
    "print(\"test\", roc_auc_score( y_te,cb.predict_proba(X_te)[:,1]))"
   ]
  },
  {
   "cell_type": "code",
   "execution_count": 19,
   "metadata": {
    "ExecuteTime": {
     "end_time": "2020-11-01T14:08:48.682332Z",
     "start_time": "2020-11-01T14:08:48.473540Z"
    },
    "scrolled": false
   },
   "outputs": [
    {
     "name": "stdout",
     "output_type": "stream",
     "text": [
      "26 features, reduction of 0.00%\n"
     ]
    },
    {
     "data": {
      "image/png": "[encoded data removed]",
      "text/plain": [
       "<Figure size 1296x432 with 1 Axes>"
      ]
     },
     "metadata": {},
     "output_type": "display_data"
    }
   ],
   "source": [
    "plot_feature_importance(X_tr.columns,cb.get_feature_importance(),columns_ploted=20)"
   ]
  },
  {
   "cell_type": "markdown",
   "metadata": {},
   "source": [
    "## Tree"
   ]
  },
  {
   "cell_type": "code",
   "execution_count": 20,
   "metadata": {
    "ExecuteTime": {
     "end_time": "2020-11-01T14:08:48.689136Z",
     "start_time": "2020-11-01T14:08:48.685212Z"
    }
   },
   "outputs": [],
   "source": [
    "from sklearn.tree import DecisionTreeClassifier,plot_tree"
   ]
  },
  {
   "cell_type": "code",
   "execution_count": 21,
   "metadata": {
    "ExecuteTime": {
     "end_time": "2020-11-01T14:08:56.013252Z",
     "start_time": "2020-11-01T14:08:48.691876Z"
    }
   },
   "outputs": [
    {
     "data": {
      "text/plain": [
       "DecisionTreeClassifier(ccp_alpha=0.0, class_weight=None, criterion='gini',\n",
       "                       max_depth=None, max_features=None, max_leaf_nodes=None,\n",
       "                       min_impurity_decrease=0.0, min_impurity_split=None,\n",
       "                       min_samples_leaf=1, min_samples_split=2,\n",
       "                       min_weight_fraction_leaf=0.0, presort='deprecated',\n",
       "                       random_state=None, splitter='best')"
      ]
     },
     "execution_count": 21,
     "metadata": {},
     "output_type": "execute_result"
    }
   ],
   "source": [
    "dt = DecisionTreeClassifier()\n",
    "dt.fit(X_tr,y_tr)"
   ]
  },
  {
   "cell_type": "code",
   "execution_count": 22,
   "metadata": {
    "ExecuteTime": {
     "end_time": "2020-11-01T14:08:56.041647Z",
     "start_time": "2020-11-01T14:08:56.020986Z"
    },
    "scrolled": false
   },
   "outputs": [
    {
     "data": {
      "text/html": [
       "<div>\n",
       "<style scoped>\n",
       "    .dataframe tbody tr th:only-of-type {\n",
       "        vertical-align: middle;\n",
       "    }\n",
       "\n",
       "    .dataframe tbody tr th {\n",
       "        vertical-align: top;\n",
       "    }\n",
       "\n",
       "    .dataframe thead th {\n",
       "        text-align: right;\n",
       "    }\n",
       "</style>\n",
       "<table border=\"1\" class=\"dataframe\">\n",
       "  <thead>\n",
       "    <tr style=\"text-align: right;\">\n",
       "      <th></th>\n",
       "      <th>feature</th>\n",
       "      <th>impurity</th>\n",
       "      <th>samples</th>\n",
       "      <th>imp_child</th>\n",
       "      <th>samples_child</th>\n",
       "      <th>impurity_gain</th>\n",
       "      <th>samples_gain</th>\n",
       "    </tr>\n",
       "  </thead>\n",
       "  <tbody>\n",
       "    <tr>\n",
       "      <th>0</th>\n",
       "      <td>Kst_892_0_cosThetaH</td>\n",
       "      <td>0.444889</td>\n",
       "      <td>159496.0</td>\n",
       "      <td>0.480466</td>\n",
       "      <td>121606.0</td>\n",
       "      <td>7.856306</td>\n",
       "      <td>0.237561</td>\n",
       "    </tr>\n",
       "    <tr>\n",
       "      <th>1</th>\n",
       "      <td>Kst_892_0_IP_OWNPV</td>\n",
       "      <td>0.480466</td>\n",
       "      <td>121606.0</td>\n",
       "      <td>0.416789</td>\n",
       "      <td>63589.0</td>\n",
       "      <td>20.015783</td>\n",
       "      <td>0.363752</td>\n",
       "    </tr>\n",
       "    <tr>\n",
       "      <th>2</th>\n",
       "      <td>B_IPCHI2_OWNPV</td>\n",
       "      <td>0.416789</td>\n",
       "      <td>63589.0</td>\n",
       "      <td>0.471754</td>\n",
       "      <td>36667.0</td>\n",
       "      <td>5.771556</td>\n",
       "      <td>0.168794</td>\n",
       "    </tr>\n",
       "    <tr>\n",
       "      <th>3</th>\n",
       "      <td>mom_rat_3</td>\n",
       "      <td>0.471754</td>\n",
       "      <td>36667.0</td>\n",
       "      <td>0.429363</td>\n",
       "      <td>25456.0</td>\n",
       "      <td>3.992542</td>\n",
       "      <td>0.070290</td>\n",
       "    </tr>\n",
       "    <tr>\n",
       "      <th>4</th>\n",
       "      <td>B_FDCHI2_OWNPV</td>\n",
       "      <td>0.429363</td>\n",
       "      <td>25456.0</td>\n",
       "      <td>0.342925</td>\n",
       "      <td>9365.0</td>\n",
       "      <td>4.839228</td>\n",
       "      <td>0.100887</td>\n",
       "    </tr>\n",
       "    <tr>\n",
       "      <th>5</th>\n",
       "      <td>B_OWNPV_CHI2</td>\n",
       "      <td>0.342925</td>\n",
       "      <td>9365.0</td>\n",
       "      <td>0.276359</td>\n",
       "      <td>5960.0</td>\n",
       "      <td>0.980835</td>\n",
       "      <td>0.021348</td>\n",
       "    </tr>\n",
       "    <tr>\n",
       "      <th>6</th>\n",
       "      <td>B_FDCHI2_OWNPV</td>\n",
       "      <td>0.276359</td>\n",
       "      <td>5960.0</td>\n",
       "      <td>0.337409</td>\n",
       "      <td>3146.0</td>\n",
       "      <td>0.367163</td>\n",
       "      <td>0.017643</td>\n",
       "    </tr>\n",
       "    <tr>\n",
       "      <th>7</th>\n",
       "      <td>B_IPCHI2_OWNPV</td>\n",
       "      <td>0.337409</td>\n",
       "      <td>3146.0</td>\n",
       "      <td>0.265269</td>\n",
       "      <td>1531.0</td>\n",
       "      <td>0.410895</td>\n",
       "      <td>0.010126</td>\n",
       "    </tr>\n",
       "    <tr>\n",
       "      <th>8</th>\n",
       "      <td>mom_rat_3</td>\n",
       "      <td>0.265269</td>\n",
       "      <td>1531.0</td>\n",
       "      <td>0.203441</td>\n",
       "      <td>844.0</td>\n",
       "      <td>0.146977</td>\n",
       "      <td>0.004307</td>\n",
       "    </tr>\n",
       "    <tr>\n",
       "      <th>9</th>\n",
       "      <td>Kst_892_0_cosThetaH</td>\n",
       "      <td>0.203441</td>\n",
       "      <td>844.0</td>\n",
       "      <td>0.225352</td>\n",
       "      <td>734.0</td>\n",
       "      <td>0.003947</td>\n",
       "      <td>0.000690</td>\n",
       "    </tr>\n",
       "    <tr>\n",
       "      <th>10</th>\n",
       "      <td>mom_rat_1</td>\n",
       "      <td>0.225352</td>\n",
       "      <td>734.0</td>\n",
       "      <td>0.267968</td>\n",
       "      <td>458.0</td>\n",
       "      <td>0.026759</td>\n",
       "      <td>0.001730</td>\n",
       "    </tr>\n",
       "    <tr>\n",
       "      <th>11</th>\n",
       "      <td>Kplus_ETA</td>\n",
       "      <td>0.267968</td>\n",
       "      <td>458.0</td>\n",
       "      <td>0.199347</td>\n",
       "      <td>285.0</td>\n",
       "      <td>0.041327</td>\n",
       "      <td>0.001085</td>\n",
       "    </tr>\n",
       "    <tr>\n",
       "      <th>12</th>\n",
       "      <td>Kst_892_0_IP_OWNPV</td>\n",
       "      <td>0.199347</td>\n",
       "      <td>285.0</td>\n",
       "      <td>0.423440</td>\n",
       "      <td>23.0</td>\n",
       "      <td>0.029515</td>\n",
       "      <td>0.001643</td>\n",
       "    </tr>\n",
       "    <tr>\n",
       "      <th>13</th>\n",
       "      <td>B_IPCHI2_OWNPV</td>\n",
       "      <td>0.423440</td>\n",
       "      <td>23.0</td>\n",
       "      <td>0.486111</td>\n",
       "      <td>12.0</td>\n",
       "      <td>0.002449</td>\n",
       "      <td>0.000069</td>\n",
       "    </tr>\n",
       "    <tr>\n",
       "      <th>14</th>\n",
       "      <td>piminus_IP_OWNPV</td>\n",
       "      <td>0.486111</td>\n",
       "      <td>12.0</td>\n",
       "      <td>0.000000</td>\n",
       "      <td>3.0</td>\n",
       "      <td>0.003657</td>\n",
       "      <td>0.000056</td>\n",
       "    </tr>\n",
       "    <tr>\n",
       "      <th>15</th>\n",
       "      <td>Kplus_P_x</td>\n",
       "      <td>0.000000</td>\n",
       "      <td>3.0</td>\n",
       "      <td>NaN</td>\n",
       "      <td>NaN</td>\n",
       "      <td>NaN</td>\n",
       "      <td>NaN</td>\n",
       "    </tr>\n",
       "  </tbody>\n",
       "</table>\n",
       "</div>"
      ],
      "text/plain": [
       "                feature  impurity   samples  imp_child  samples_child  \\\n",
       "0   Kst_892_0_cosThetaH  0.444889  159496.0   0.480466       121606.0   \n",
       "1    Kst_892_0_IP_OWNPV  0.480466  121606.0   0.416789        63589.0   \n",
       "2        B_IPCHI2_OWNPV  0.416789   63589.0   0.471754        36667.0   \n",
       "3             mom_rat_3  0.471754   36667.0   0.429363        25456.0   \n",
       "4        B_FDCHI2_OWNPV  0.429363   25456.0   0.342925         9365.0   \n",
       "5          B_OWNPV_CHI2  0.342925    9365.0   0.276359         5960.0   \n",
       "6        B_FDCHI2_OWNPV  0.276359    5960.0   0.337409         3146.0   \n",
       "7        B_IPCHI2_OWNPV  0.337409    3146.0   0.265269         1531.0   \n",
       "8             mom_rat_3  0.265269    1531.0   0.203441          844.0   \n",
       "9   Kst_892_0_cosThetaH  0.203441     844.0   0.225352          734.0   \n",
       "10            mom_rat_1  0.225352     734.0   0.267968          458.0   \n",
       "11            Kplus_ETA  0.267968     458.0   0.199347          285.0   \n",
       "12   Kst_892_0_IP_OWNPV  0.199347     285.0   0.423440           23.0   \n",
       "13       B_IPCHI2_OWNPV  0.423440      23.0   0.486111           12.0   \n",
       "14     piminus_IP_OWNPV  0.486111      12.0   0.000000            3.0   \n",
       "15            Kplus_P_x  0.000000       3.0        NaN            NaN   \n",
       "\n",
       "    impurity_gain  samples_gain  \n",
       "0        7.856306      0.237561  \n",
       "1       20.015783      0.363752  \n",
       "2        5.771556      0.168794  \n",
       "3        3.992542      0.070290  \n",
       "4        4.839228      0.100887  \n",
       "5        0.980835      0.021348  \n",
       "6        0.367163      0.017643  \n",
       "7        0.410895      0.010126  \n",
       "8        0.146977      0.004307  \n",
       "9        0.003947      0.000690  \n",
       "10       0.026759      0.001730  \n",
       "11       0.041327      0.001085  \n",
       "12       0.029515      0.001643  \n",
       "13       0.002449      0.000069  \n",
       "14       0.003657      0.000056  \n",
       "15            NaN           NaN  "
      ]
     },
     "execution_count": 22,
     "metadata": {},
     "output_type": "execute_result"
    }
   ],
   "source": [
    "return_impurity(dt, X_tr[X_tr.index == random.choice(X_tr.index)])"
   ]
  },
  {
   "cell_type": "code",
   "execution_count": 23,
   "metadata": {
    "ExecuteTime": {
     "end_time": "2020-11-01T14:08:56.069284Z",
     "start_time": "2020-11-01T14:08:56.044436Z"
    }
   },
   "outputs": [
    {
     "data": {
      "text/html": [
       "<div>\n",
       "<style scoped>\n",
       "    .dataframe tbody tr th:only-of-type {\n",
       "        vertical-align: middle;\n",
       "    }\n",
       "\n",
       "    .dataframe tbody tr th {\n",
       "        vertical-align: top;\n",
       "    }\n",
       "\n",
       "    .dataframe thead th {\n",
       "        text-align: right;\n",
       "    }\n",
       "</style>\n",
       "<table border=\"1\" class=\"dataframe\">\n",
       "  <thead>\n",
       "    <tr style=\"text-align: right;\">\n",
       "      <th></th>\n",
       "      <th>feature</th>\n",
       "      <th>impurity</th>\n",
       "      <th>samples</th>\n",
       "      <th>imp_child</th>\n",
       "      <th>samples_child</th>\n",
       "      <th>impurity_gain</th>\n",
       "      <th>samples_gain</th>\n",
       "    </tr>\n",
       "  </thead>\n",
       "  <tbody>\n",
       "    <tr>\n",
       "      <th>6</th>\n",
       "      <td>Kst_892_0_IP_OWNPV</td>\n",
       "      <td>0.930255</td>\n",
       "      <td>122985.0</td>\n",
       "      <td>0.974543</td>\n",
       "      <td>58998.0</td>\n",
       "      <td>18.561321</td>\n",
       "      <td>0.401182</td>\n",
       "    </tr>\n",
       "    <tr>\n",
       "      <th>1</th>\n",
       "      <td>B_IPCHI2_OWNPV</td>\n",
       "      <td>1.446648</td>\n",
       "      <td>63610.0</td>\n",
       "      <td>1.076973</td>\n",
       "      <td>23798.0</td>\n",
       "      <td>13.043283</td>\n",
       "      <td>0.249611</td>\n",
       "    </tr>\n",
       "    <tr>\n",
       "      <th>7</th>\n",
       "      <td>Kst_892_0_cosThetaH</td>\n",
       "      <td>0.444889</td>\n",
       "      <td>159496.0</td>\n",
       "      <td>0.480466</td>\n",
       "      <td>121606.0</td>\n",
       "      <td>7.856306</td>\n",
       "      <td>0.237561</td>\n",
       "    </tr>\n",
       "    <tr>\n",
       "      <th>11</th>\n",
       "      <td>piminus_IP_OWNPV</td>\n",
       "      <td>0.452857</td>\n",
       "      <td>19996.0</td>\n",
       "      <td>0.496575</td>\n",
       "      <td>5558.0</td>\n",
       "      <td>3.947031</td>\n",
       "      <td>0.090523</td>\n",
       "    </tr>\n",
       "    <tr>\n",
       "      <th>5</th>\n",
       "      <td>Kplus_P_x</td>\n",
       "      <td>0.957039</td>\n",
       "      <td>3038.0</td>\n",
       "      <td>0.949450</td>\n",
       "      <td>1802.0</td>\n",
       "      <td>0.381010</td>\n",
       "      <td>0.007662</td>\n",
       "    </tr>\n",
       "    <tr>\n",
       "      <th>8</th>\n",
       "      <td>ThetaH</td>\n",
       "      <td>0.499672</td>\n",
       "      <td>3787.0</td>\n",
       "      <td>0.494344</td>\n",
       "      <td>3084.0</td>\n",
       "      <td>0.230539</td>\n",
       "      <td>0.004408</td>\n",
       "    </tr>\n",
       "    <tr>\n",
       "      <th>10</th>\n",
       "      <td>piminus_ETA</td>\n",
       "      <td>0.611039</td>\n",
       "      <td>2861.0</td>\n",
       "      <td>0.472421</td>\n",
       "      <td>2160.0</td>\n",
       "      <td>0.233798</td>\n",
       "      <td>0.004395</td>\n",
       "    </tr>\n",
       "    <tr>\n",
       "      <th>2</th>\n",
       "      <td>Kplus_ETA</td>\n",
       "      <td>0.499662</td>\n",
       "      <td>423.0</td>\n",
       "      <td>0.472778</td>\n",
       "      <td>180.0</td>\n",
       "      <td>0.079160</td>\n",
       "      <td>0.001524</td>\n",
       "    </tr>\n",
       "    <tr>\n",
       "      <th>4</th>\n",
       "      <td>Kplus_P</td>\n",
       "      <td>0.491295</td>\n",
       "      <td>2986.0</td>\n",
       "      <td>0.486595</td>\n",
       "      <td>2846.0</td>\n",
       "      <td>0.051510</td>\n",
       "      <td>0.000878</td>\n",
       "    </tr>\n",
       "    <tr>\n",
       "      <th>12</th>\n",
       "      <td>random</td>\n",
       "      <td>0.461950</td>\n",
       "      <td>174.0</td>\n",
       "      <td>0.499822</td>\n",
       "      <td>53.0</td>\n",
       "      <td>0.033787</td>\n",
       "      <td>0.000759</td>\n",
       "    </tr>\n",
       "    <tr>\n",
       "      <th>0</th>\n",
       "      <td>B_DIRA_OWNPV</td>\n",
       "      <td>0.475082</td>\n",
       "      <td>981.0</td>\n",
       "      <td>0.484618</td>\n",
       "      <td>878.0</td>\n",
       "      <td>0.025431</td>\n",
       "      <td>0.000646</td>\n",
       "    </tr>\n",
       "    <tr>\n",
       "      <th>3</th>\n",
       "      <td>Kplus_IP_OWNPV</td>\n",
       "      <td>0.494344</td>\n",
       "      <td>3084.0</td>\n",
       "      <td>0.491295</td>\n",
       "      <td>2986.0</td>\n",
       "      <td>0.036083</td>\n",
       "      <td>0.000614</td>\n",
       "    </tr>\n",
       "    <tr>\n",
       "      <th>13</th>\n",
       "      <td>total_mom_sum</td>\n",
       "      <td>0.499822</td>\n",
       "      <td>53.0</td>\n",
       "      <td>0.450612</td>\n",
       "      <td>35.0</td>\n",
       "      <td>0.006721</td>\n",
       "      <td>0.000113</td>\n",
       "    </tr>\n",
       "    <tr>\n",
       "      <th>9</th>\n",
       "      <td>mom_rat_2</td>\n",
       "      <td>0.472778</td>\n",
       "      <td>180.0</td>\n",
       "      <td>0.461950</td>\n",
       "      <td>174.0</td>\n",
       "      <td>0.002960</td>\n",
       "      <td>0.000038</td>\n",
       "    </tr>\n",
       "  </tbody>\n",
       "</table>\n",
       "</div>"
      ],
      "text/plain": [
       "                feature  impurity   samples  imp_child  samples_child  \\\n",
       "6    Kst_892_0_IP_OWNPV  0.930255  122985.0   0.974543        58998.0   \n",
       "1        B_IPCHI2_OWNPV  1.446648   63610.0   1.076973        23798.0   \n",
       "7   Kst_892_0_cosThetaH  0.444889  159496.0   0.480466       121606.0   \n",
       "11     piminus_IP_OWNPV  0.452857   19996.0   0.496575         5558.0   \n",
       "5             Kplus_P_x  0.957039    3038.0   0.949450         1802.0   \n",
       "8                ThetaH  0.499672    3787.0   0.494344         3084.0   \n",
       "10          piminus_ETA  0.611039    2861.0   0.472421         2160.0   \n",
       "2             Kplus_ETA  0.499662     423.0   0.472778          180.0   \n",
       "4               Kplus_P  0.491295    2986.0   0.486595         2846.0   \n",
       "12               random  0.461950     174.0   0.499822           53.0   \n",
       "0          B_DIRA_OWNPV  0.475082     981.0   0.484618          878.0   \n",
       "3        Kplus_IP_OWNPV  0.494344    3084.0   0.491295         2986.0   \n",
       "13        total_mom_sum  0.499822      53.0   0.450612           35.0   \n",
       "9             mom_rat_2  0.472778     180.0   0.461950          174.0   \n",
       "\n",
       "    impurity_gain  samples_gain  \n",
       "6       18.561321      0.401182  \n",
       "1       13.043283      0.249611  \n",
       "7        7.856306      0.237561  \n",
       "11       3.947031      0.090523  \n",
       "5        0.381010      0.007662  \n",
       "8        0.230539      0.004408  \n",
       "10       0.233798      0.004395  \n",
       "2        0.079160      0.001524  \n",
       "4        0.051510      0.000878  \n",
       "12       0.033787      0.000759  \n",
       "0        0.025431      0.000646  \n",
       "3        0.036083      0.000614  \n",
       "13       0.006721      0.000113  \n",
       "9        0.002960      0.000038  "
      ]
     },
     "execution_count": 23,
     "metadata": {},
     "output_type": "execute_result"
    }
   ],
   "source": [
    "res_g = (\n",
    "    return_impurity(dt, X_tr[X_tr.index == random.choice(X_tr.index)])\n",
    "    .groupby(\"feature\", as_index=False)\n",
    "    .sum()\n",
    ")\n",
    "res_g.sort_values('samples_gain',ascending=False)"
   ]
  },
  {
   "cell_type": "code",
   "execution_count": 24,
   "metadata": {
    "ExecuteTime": {
     "end_time": "2020-11-01T14:08:56.899070Z",
     "start_time": "2020-11-01T14:08:56.071518Z"
    },
    "scrolled": false
   },
   "outputs": [
    {
     "data": {
      "image/png": "[encoded data removed]",
      "text/plain": [
       "<Figure size 1152x576 with 1 Axes>"
      ]
     },
     "metadata": {},
     "output_type": "display_data"
    }
   ],
   "source": [
    "\n",
    "pie_plot_filtered(res_g, \"samples_gain\", title=\"Impurity Gain\")"
   ]
  },
  {
   "cell_type": "markdown",
   "metadata": {},
   "source": [
    "## Submission"
   ]
  },
  {
   "cell_type": "raw",
   "metadata": {
    "ExecuteTime": {
     "end_time": "2020-10-25T06:21:59.073057Z",
     "start_time": "2020-10-25T06:21:58.960955Z"
    }
   },
   "source": [
    "test['Predicted'] = cb.predict_proba(test)[:,1]"
   ]
  },
  {
   "cell_type": "raw",
   "metadata": {
    "ExecuteTime": {
     "end_time": "2020-10-25T06:22:16.547088Z",
     "start_time": "2020-10-25T06:22:16.121399Z"
    }
   },
   "source": [
    "test[['Predicted']].to_csv('submissions/cb_feat1.csv')"
   ]
  },
  {
   "cell_type": "code",
   "execution_count": null,
   "metadata": {},
   "outputs": [],
   "source": []
  }
 ],
 "metadata": {
  "kernelspec": {
   "display_name": "Python 3",
   "language": "python",
   "name": "python3"
  },
  "language_info": {
   "codemirror_mode": {
    "name": "ipython",
    "version": 3
   },
   "file_extension": ".py",
   "mimetype": "text/x-python",
   "name": "python",
   "nbconvert_exporter": "python",
   "pygments_lexer": "ipython3",
   "version": "3.7.6"
  }
 },
 "nbformat": 4,
 "nbformat_minor": 4
}
