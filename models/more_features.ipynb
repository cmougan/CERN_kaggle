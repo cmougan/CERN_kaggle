{
 "cells": [
  {
   "cell_type": "code",
   "execution_count": 1,
   "metadata": {},
   "outputs": [],
   "source": [
    "import pandas as pd\n",
    "import numpy as np\n",
    "import random\n",
    "\n",
    "from sklearn.model_selection import train_test_split\n",
    "from sklearn.metrics import roc_auc_score,auc\n",
    "from sklearn.model_selection import GridSearchCV, cross_val_score\n",
    "from sklearn.preprocessing import QuantileTransformer\n",
    "\n",
    "\n",
    "from lightgbm import LGBMClassifier"
   ]
  },
  {
   "cell_type": "code",
   "execution_count": 2,
   "metadata": {},
   "outputs": [],
   "source": [
    "random.seed(42)\n",
    "np.random.seed(42)"
   ]
  },
  {
   "cell_type": "code",
   "execution_count": 27,
   "metadata": {},
   "outputs": [],
   "source": [
    "train_raw = pd.read_csv(\"../data/train.csv\").drop(columns=\"BUTTER\")\n",
    "test_raw = pd.read_csv(\"../data/test.csv\").drop(columns=\"BUTTER\")"
   ]
  },
  {
   "cell_type": "code",
   "execution_count": 28,
   "metadata": {},
   "outputs": [],
   "source": [
    "train_raw['train'] = 1\n",
    "test_raw['train'] = 0"
   ]
  },
  {
   "cell_type": "code",
   "execution_count": 29,
   "metadata": {},
   "outputs": [],
   "source": [
    "all_df = pd.concat([train_raw, test_raw]).reset_index(drop=True)"
   ]
  },
  {
   "cell_type": "code",
   "execution_count": 30,
   "metadata": {},
   "outputs": [],
   "source": [
    "all_df.columns = [col.replace(\" \", \"\") for col in all_df.columns]"
   ]
  },
  {
   "cell_type": "code",
   "execution_count": 31,
   "metadata": {},
   "outputs": [],
   "source": [
    "# cos -> sin transformation\n",
    "all_df[\"Kst_892_0_sinThetaH\"] = np.sqrt(1 - all_df[\"Kst_892_0_cosThetaH\"]**2)\n",
    "all_df[\"B_DIRA_OWNPV_sin\"] = np.sqrt(1 - all_df[\"B_DIRA_OWNPV\"]**2)"
   ]
  },
  {
   "cell_type": "code",
   "execution_count": 32,
   "metadata": {},
   "outputs": [],
   "source": [
    "# x and y P components\n",
    "all_df[\"Kplus_P_x\"] = all_df[\"Kplus_P\"] * all_df[\"Kst_892_0_sinThetaH\"]\n",
    "all_df[\"Kplus_P_y\"] = all_df[\"Kplus_P\"] * all_df[\"Kst_892_0_cosThetaH\"]\n",
    "all_df[\"B_PT_x\"] = all_df[\"B_PT\"] * all_df[\"B_DIRA_OWNPV\"]\n",
    "all_df[\"B_PT_y\"] = all_df[\"B_PT\"] * all_df[\"B_DIRA_OWNPV_sin\"]\n",
    "\n",
    "# things in hbar units\n",
    "all_df[\"B_hbar\"] = all_df[\"B_PT\"] * all_df[\"B_IPCHI2_OWNPV\"]\n",
    "all_df[\"B_hbar_2\"] = all_df[\"B_PT\"] * all_df[\"B_FDCHI2_OWNPV\"]\n",
    "all_df[\"K_hbar\"] = all_df[\"Kplus_P\"] * all_df[\"Kplus_IP_OWNPV\"]\n",
    "all_df[\"p_hbar\"] = all_df[\"piminus_P\"] * all_df[\"piminus_IP_OWNPV\"]\n",
    "\n",
    "# hbar ratios\n",
    "all_df[\"B_hbar_ratio\"] = all_df[\"B_hbar\"] / all_df[\"B_hbar_2\"]\n",
    "all_df[\"K_p_hbar_ratio\"] = all_df[\"K_hbar\"] / all_df[\"p_hbar\"]\n",
    "all_df[\"K_B_hbar_ratio\"] = all_df[\"K_hbar\"] / all_df[\"B_hbar\"]\n",
    "\n",
    "# p ratios\n",
    "all_df[\"gamma_B_PT_ratio\"] = (all_df[\"gamma_PT\"] / all_df['B_PT'])\n",
    "all_df[\"piminus_B_P_ratio\"] = (all_df[\"piminus_P\"] / all_df['B_PT'])\n",
    "all_df[\"kplus_B_P_ratio\"] = (all_df[\"Kplus_P\"] / all_df['B_PT'])\n",
    "all_df[\"kplus_piminus_P_ratio\"] = (all_df[\"Kplus_P\"] / all_df['piminus_P'])\n",
    "\n",
    "# distance ratios\n",
    "all_df[\"b_distance_ratio\"] = all_df['B_IPCHI2_OWNPV'] / all_df['B_FDCHI2_OWNPV']\n",
    "all_df[\"k_p_distance_ratio\"] = all_df['Kplus_IP_OWNPV'] / all_df['piminus_IP_OWNPV']\n",
    "all_df[\"k_b_distance_ratio\"] = all_df['Kplus_IP_OWNPV'] / all_df['B_IPCHI2_OWNPV']\n",
    "all_df[\"p_b_distance_ratio\"] = all_df['piminus_IP_OWNPV'] / all_df['B_IPCHI2_OWNPV']\n",
    "all_df[\"k_kst_distance_ratio\"] = all_df['Kplus_IP_OWNPV'] / all_df['Kst_892_0_IP_OWNPV']\n",
    "\n",
    "# shpere radius\n",
    "all_df[\"sphere_radius_k_b\"] =  all_df['Kplus_IP_OWNPV']**2 + all_df['B_IPCHI2_OWNPV']**2\n",
    "all_df[\"sphere_radius_p_b\"] =  all_df['piminus_IP_OWNPV']**2 + all_df['B_IPCHI2_OWNPV']**2\n",
    "\n",
    "# ANGLE ratios\n",
    "# all_df[\"b_eta\"] = np.arccos(all_df[\"B_DIRA_OWNPV\"])\n",
    "# all_df[\"b_K_ratio\"] = all_df[\"b_eta\"] / all_df[\"Kplus_ETA\"]\n",
    "# all_df[\"b_p_ratio\"] = all_df[\"b_eta\"] / all_df[\"piminus_ETA\"]"
   ]
  },
  {
   "cell_type": "code",
   "execution_count": 33,
   "metadata": {},
   "outputs": [],
   "source": [
    "transformed_values = QuantileTransformer().fit_transform(all_df)\n",
    "transformed_df = pd.DataFrame(transformed_values)\n",
    "\n",
    "keep_cols = [\"Id\", \"signal\", \"train\"]\n",
    "\n",
    "transformed_df.columns = [col if col in keep_cols else f\"{col}_q\" for col in all_df.columns]\n",
    "\n",
    "transformed_df = transformed_df.drop(columns=keep_cols)"
   ]
  },
  {
   "cell_type": "code",
   "execution_count": 34,
   "metadata": {},
   "outputs": [],
   "source": [
    "# full_df = pd.concat([all_df, transformed_df], axis=1)\n",
    "full_df = pd.concat([all_df[keep_cols], transformed_df], axis=1)"
   ]
  },
  {
   "cell_type": "code",
   "execution_count": 35,
   "metadata": {},
   "outputs": [],
   "source": [
    "train = full_df[full_df.train == 1].drop(columns=['train', 'Id'])\n",
    "test = full_df[full_df.train != 1].drop(columns=['train', 'Id', 'signal'])"
   ]
  },
  {
   "cell_type": "code",
   "execution_count": 36,
   "metadata": {},
   "outputs": [],
   "source": [
    "X_full = train.drop(columns=\"signal\")\n",
    "X_test = test.copy()\n",
    "y_full = train.signal\n",
    "\n",
    "X_train, X_valid, y_train, y_valid = train_test_split(\n",
    "    X_full, \n",
    "    y_full, \n",
    "    stratify=train.signal\n",
    ")"
   ]
  },
  {
   "cell_type": "code",
   "execution_count": 37,
   "metadata": {},
   "outputs": [
    {
     "data": {
      "text/plain": [
       "LGBMClassifier(n_estimators=500)"
      ]
     },
     "execution_count": 37,
     "metadata": {},
     "output_type": "execute_result"
    }
   ],
   "source": [
    "lgb = LGBMClassifier(n_estimators=500)\n",
    "lgb.fit(X_train, y_train)"
   ]
  },
  {
   "cell_type": "code",
   "execution_count": 38,
   "metadata": {},
   "outputs": [],
   "source": [
    "pred_valid = lgb.predict_proba(X_valid)[:, 1]\n",
    "pred_train = lgb.predict_proba(X_train)[:, 1]"
   ]
  },
  {
   "cell_type": "code",
   "execution_count": 39,
   "metadata": {},
   "outputs": [
    {
     "data": {
      "text/plain": [
       "0.8808428093634422"
      ]
     },
     "execution_count": 39,
     "metadata": {},
     "output_type": "execute_result"
    }
   ],
   "source": [
    "roc_auc_score(y_valid, pred_valid)\n",
    "\n",
    "# Only quantiles, 500 trees: 865 (cv 864)\n",
    "# Only quantiles + distance ratio, 500 trees: 868 (cv 863)\n",
    "# Only quantiles + many features, 500 trees: 871 (cv 870)\n",
    "# Only quantiles + many features, 1500 trees: 872 (cv 870)\n",
    "# Only quantiles + many features + special distance ratios, 500 trees: 882 (cv 877)\n",
    "# Only quantiles + many features + special distance ratios + b_px + b_py, 500 trees: 8816 (cv 8778)\n",
    "# Only quantiles + many features + special distance ratios + b_px + b_py + hbars, 500 trees: 883 (cv 8772)\n",
    "# Only quantiles + many features + special distance ratios + b_px + b_py + hbars + hbar ratios, 500 trees: 879 (cv 8787)\n",
    "# Only quantiles + many features + special distance ratios + b_px + b_py + hbars + hbar ratios + sphere radius, 500 trees: 883 (cv 877)\n",
    "# Only quantiles, 1500 trees: 866 (cv 865)"
   ]
  },
  {
   "cell_type": "code",
   "execution_count": 40,
   "metadata": {},
   "outputs": [
    {
     "data": {
      "text/plain": [
       "0.9283420118772603"
      ]
     },
     "execution_count": 40,
     "metadata": {},
     "output_type": "execute_result"
    }
   ],
   "source": [
    "roc_auc_score(y_train, pred_train)"
   ]
  },
  {
   "cell_type": "code",
   "execution_count": 41,
   "metadata": {},
   "outputs": [
    {
     "data": {
      "text/plain": [
       "0.8777407219777199"
      ]
     },
     "execution_count": 41,
     "metadata": {},
     "output_type": "execute_result"
    }
   ],
   "source": [
    "cross_val_score(\n",
    "    lgb, \n",
    "    X_train, \n",
    "    y_train, \n",
    "    scoring='roc_auc', \n",
    "    cv=3\n",
    ").mean()\n"
   ]
  },
  {
   "cell_type": "code",
   "execution_count": 18,
   "metadata": {},
   "outputs": [
    {
     "data": {
      "text/plain": [
       "LGBMClassifier(n_estimators=500)"
      ]
     },
     "execution_count": 18,
     "metadata": {},
     "output_type": "execute_result"
    }
   ],
   "source": [
    "lgb.fit(X_full, y_full)"
   ]
  },
  {
   "cell_type": "code",
   "execution_count": 19,
   "metadata": {},
   "outputs": [],
   "source": [
    "test_predictions = lgb.predict_proba(X_test)[:, 1]"
   ]
  },
  {
   "cell_type": "code",
   "execution_count": 20,
   "metadata": {},
   "outputs": [],
   "source": [
    "test_raw['Predicted'] = test_predictions"
   ]
  },
  {
   "cell_type": "code",
   "execution_count": 21,
   "metadata": {},
   "outputs": [
    {
     "data": {
      "text/html": [
       "<div>\n",
       "<style scoped>\n",
       "    .dataframe tbody tr th:only-of-type {\n",
       "        vertical-align: middle;\n",
       "    }\n",
       "\n",
       "    .dataframe tbody tr th {\n",
       "        vertical-align: top;\n",
       "    }\n",
       "\n",
       "    .dataframe thead th {\n",
       "        text-align: right;\n",
       "    }\n",
       "</style>\n",
       "<table border=\"1\" class=\"dataframe\">\n",
       "  <thead>\n",
       "    <tr style=\"text-align: right;\">\n",
       "      <th></th>\n",
       "      <th>Id</th>\n",
       "      <th>B_OWNPV_CHI2</th>\n",
       "      <th>B_IPCHI2_OWNPV</th>\n",
       "      <th>B_FDCHI2_OWNPV</th>\n",
       "      <th>B_DIRA_OWNPV</th>\n",
       "      <th>B_PT</th>\n",
       "      <th>Kst_892_0_IP_OWNPV</th>\n",
       "      <th>Kst_892_0_cosThetaH</th>\n",
       "      <th>Kplus_IP_OWNPV</th>\n",
       "      <th>Kplus_P</th>\n",
       "      <th>piminus_IP_OWNPV</th>\n",
       "      <th>piminus_P</th>\n",
       "      <th>gamma_PT</th>\n",
       "      <th>piminus_ETA</th>\n",
       "      <th>Kplus_ETA</th>\n",
       "      <th>train</th>\n",
       "      <th>Predicted</th>\n",
       "    </tr>\n",
       "  </thead>\n",
       "  <tbody>\n",
       "    <tr>\n",
       "      <th>0</th>\n",
       "      <td>0</td>\n",
       "      <td>20.173445</td>\n",
       "      <td>3.846368</td>\n",
       "      <td>120.871099</td>\n",
       "      <td>0.999868</td>\n",
       "      <td>6160.068877</td>\n",
       "      <td>0.283769</td>\n",
       "      <td>0.784221</td>\n",
       "      <td>0.221518</td>\n",
       "      <td>14938.796613</td>\n",
       "      <td>0.334843</td>\n",
       "      <td>18885.484755</td>\n",
       "      <td>5739.899165</td>\n",
       "      <td>3.395456</td>\n",
       "      <td>3.520709</td>\n",
       "      <td>0</td>\n",
       "      <td>0.025829</td>\n",
       "    </tr>\n",
       "    <tr>\n",
       "      <th>1</th>\n",
       "      <td>1</td>\n",
       "      <td>22.472050</td>\n",
       "      <td>3.463131</td>\n",
       "      <td>23290.089549</td>\n",
       "      <td>1.000000</td>\n",
       "      <td>4421.210474</td>\n",
       "      <td>2.289943</td>\n",
       "      <td>-0.755909</td>\n",
       "      <td>2.675985</td>\n",
       "      <td>27997.248030</td>\n",
       "      <td>1.512916</td>\n",
       "      <td>8658.765482</td>\n",
       "      <td>3511.829361</td>\n",
       "      <td>3.498786</td>\n",
       "      <td>3.427056</td>\n",
       "      <td>0</td>\n",
       "      <td>0.177569</td>\n",
       "    </tr>\n",
       "    <tr>\n",
       "      <th>2</th>\n",
       "      <td>2</td>\n",
       "      <td>13.758772</td>\n",
       "      <td>6.239888</td>\n",
       "      <td>2826.232845</td>\n",
       "      <td>0.999946</td>\n",
       "      <td>6271.957675</td>\n",
       "      <td>0.860737</td>\n",
       "      <td>0.321553</td>\n",
       "      <td>0.964498</td>\n",
       "      <td>8383.679923</td>\n",
       "      <td>0.846215</td>\n",
       "      <td>10310.459345</td>\n",
       "      <td>3211.637797</td>\n",
       "      <td>2.401201</td>\n",
       "      <td>2.224787</td>\n",
       "      <td>0</td>\n",
       "      <td>0.076474</td>\n",
       "    </tr>\n",
       "    <tr>\n",
       "      <th>3</th>\n",
       "      <td>3</td>\n",
       "      <td>39.320282</td>\n",
       "      <td>0.146056</td>\n",
       "      <td>992.465454</td>\n",
       "      <td>0.999998</td>\n",
       "      <td>7440.960902</td>\n",
       "      <td>0.485886</td>\n",
       "      <td>0.371864</td>\n",
       "      <td>0.457798</td>\n",
       "      <td>23595.091189</td>\n",
       "      <td>0.576270</td>\n",
       "      <td>13975.989410</td>\n",
       "      <td>5466.588206</td>\n",
       "      <td>3.203331</td>\n",
       "      <td>3.491705</td>\n",
       "      <td>0</td>\n",
       "      <td>0.361921</td>\n",
       "    </tr>\n",
       "    <tr>\n",
       "      <th>4</th>\n",
       "      <td>4</td>\n",
       "      <td>35.042408</td>\n",
       "      <td>3.912886</td>\n",
       "      <td>830.923177</td>\n",
       "      <td>0.999830</td>\n",
       "      <td>6120.895612</td>\n",
       "      <td>0.620750</td>\n",
       "      <td>0.325027</td>\n",
       "      <td>0.590861</td>\n",
       "      <td>6875.570461</td>\n",
       "      <td>0.721326</td>\n",
       "      <td>5065.980778</td>\n",
       "      <td>5250.449109</td>\n",
       "      <td>2.518374</td>\n",
       "      <td>2.190288</td>\n",
       "      <td>0</td>\n",
       "      <td>0.614534</td>\n",
       "    </tr>\n",
       "    <tr>\n",
       "      <th>...</th>\n",
       "      <td>...</td>\n",
       "      <td>...</td>\n",
       "      <td>...</td>\n",
       "      <td>...</td>\n",
       "      <td>...</td>\n",
       "      <td>...</td>\n",
       "      <td>...</td>\n",
       "      <td>...</td>\n",
       "      <td>...</td>\n",
       "      <td>...</td>\n",
       "      <td>...</td>\n",
       "      <td>...</td>\n",
       "      <td>...</td>\n",
       "      <td>...</td>\n",
       "      <td>...</td>\n",
       "      <td>...</td>\n",
       "      <td>...</td>\n",
       "    </tr>\n",
       "    <tr>\n",
       "      <th>141771</th>\n",
       "      <td>141771</td>\n",
       "      <td>30.533255</td>\n",
       "      <td>1.699120</td>\n",
       "      <td>247.567972</td>\n",
       "      <td>0.999888</td>\n",
       "      <td>8367.474105</td>\n",
       "      <td>0.221315</td>\n",
       "      <td>0.478428</td>\n",
       "      <td>0.300806</td>\n",
       "      <td>10682.845309</td>\n",
       "      <td>0.187368</td>\n",
       "      <td>25552.669086</td>\n",
       "      <td>6022.967681</td>\n",
       "      <td>3.105870</td>\n",
       "      <td>3.033990</td>\n",
       "      <td>0</td>\n",
       "      <td>0.016016</td>\n",
       "    </tr>\n",
       "    <tr>\n",
       "      <th>141772</th>\n",
       "      <td>141772</td>\n",
       "      <td>45.894135</td>\n",
       "      <td>0.304761</td>\n",
       "      <td>98.141535</td>\n",
       "      <td>0.999989</td>\n",
       "      <td>8777.501344</td>\n",
       "      <td>0.265711</td>\n",
       "      <td>-0.512062</td>\n",
       "      <td>0.241356</td>\n",
       "      <td>69159.089014</td>\n",
       "      <td>0.393407</td>\n",
       "      <td>10720.653365</td>\n",
       "      <td>5716.381079</td>\n",
       "      <td>3.508286</td>\n",
       "      <td>3.815329</td>\n",
       "      <td>0</td>\n",
       "      <td>0.436606</td>\n",
       "    </tr>\n",
       "    <tr>\n",
       "      <th>141773</th>\n",
       "      <td>141773</td>\n",
       "      <td>43.790756</td>\n",
       "      <td>2.437984</td>\n",
       "      <td>320.666560</td>\n",
       "      <td>0.999974</td>\n",
       "      <td>6736.548775</td>\n",
       "      <td>0.233608</td>\n",
       "      <td>0.073552</td>\n",
       "      <td>0.239403</td>\n",
       "      <td>37153.397051</td>\n",
       "      <td>0.238732</td>\n",
       "      <td>25575.359107</td>\n",
       "      <td>4168.692210</td>\n",
       "      <td>3.629445</td>\n",
       "      <td>3.312150</td>\n",
       "      <td>0</td>\n",
       "      <td>0.512434</td>\n",
       "    </tr>\n",
       "    <tr>\n",
       "      <th>141774</th>\n",
       "      <td>141774</td>\n",
       "      <td>43.101467</td>\n",
       "      <td>1.530856</td>\n",
       "      <td>3348.540676</td>\n",
       "      <td>0.999987</td>\n",
       "      <td>9328.262997</td>\n",
       "      <td>1.399666</td>\n",
       "      <td>0.435606</td>\n",
       "      <td>0.416667</td>\n",
       "      <td>21874.563688</td>\n",
       "      <td>1.604297</td>\n",
       "      <td>14153.166709</td>\n",
       "      <td>4692.972961</td>\n",
       "      <td>2.453287</td>\n",
       "      <td>2.540912</td>\n",
       "      <td>0</td>\n",
       "      <td>0.644057</td>\n",
       "    </tr>\n",
       "    <tr>\n",
       "      <th>141775</th>\n",
       "      <td>141775</td>\n",
       "      <td>14.745695</td>\n",
       "      <td>3.568444</td>\n",
       "      <td>2754.054142</td>\n",
       "      <td>0.999981</td>\n",
       "      <td>14661.163951</td>\n",
       "      <td>0.749065</td>\n",
       "      <td>0.909373</td>\n",
       "      <td>0.674560</td>\n",
       "      <td>6336.413085</td>\n",
       "      <td>0.791131</td>\n",
       "      <td>13392.586980</td>\n",
       "      <td>11940.155880</td>\n",
       "      <td>2.659108</td>\n",
       "      <td>2.462569</td>\n",
       "      <td>0</td>\n",
       "      <td>0.031393</td>\n",
       "    </tr>\n",
       "  </tbody>\n",
       "</table>\n",
       "<p>141776 rows × 17 columns</p>\n",
       "</div>"
      ],
      "text/plain": [
       "            Id                     B_OWNPV_CHI2   \\\n",
       "0            0                         20.173445   \n",
       "1            1                         22.472050   \n",
       "2            2                         13.758772   \n",
       "3            3                         39.320282   \n",
       "4            4                         35.042408   \n",
       "...        ...                               ...   \n",
       "141771  141771                         30.533255   \n",
       "141772  141772                         45.894135   \n",
       "141773  141773                         43.790756   \n",
       "141774  141774                         43.101467   \n",
       "141775  141775                         14.745695   \n",
       "\n",
       "                         B_IPCHI2_OWNPV                    B_FDCHI2_OWNPV   \\\n",
       "0                               3.846368                        120.871099   \n",
       "1                               3.463131                      23290.089549   \n",
       "2                               6.239888                       2826.232845   \n",
       "3                               0.146056                        992.465454   \n",
       "4                               3.912886                        830.923177   \n",
       "...                                  ...                               ...   \n",
       "141771                          1.699120                        247.567972   \n",
       "141772                          0.304761                         98.141535   \n",
       "141773                          2.437984                        320.666560   \n",
       "141774                          1.530856                       3348.540676   \n",
       "141775                          3.568444                       2754.054142   \n",
       "\n",
       "                           B_DIRA_OWNPV                              B_PT   \\\n",
       "0                               0.999868                       6160.068877   \n",
       "1                               1.000000                       4421.210474   \n",
       "2                               0.999946                       6271.957675   \n",
       "3                               0.999998                       7440.960902   \n",
       "4                               0.999830                       6120.895612   \n",
       "...                                  ...                               ...   \n",
       "141771                          0.999888                       8367.474105   \n",
       "141772                          0.999989                       8777.501344   \n",
       "141773                          0.999974                       6736.548775   \n",
       "141774                          0.999987                       9328.262997   \n",
       "141775                          0.999981                      14661.163951   \n",
       "\n",
       "                     Kst_892_0_IP_OWNPV               Kst_892_0_cosThetaH   \\\n",
       "0                               0.283769                          0.784221   \n",
       "1                               2.289943                         -0.755909   \n",
       "2                               0.860737                          0.321553   \n",
       "3                               0.485886                          0.371864   \n",
       "4                               0.620750                          0.325027   \n",
       "...                                  ...                               ...   \n",
       "141771                          0.221315                          0.478428   \n",
       "141772                          0.265711                         -0.512062   \n",
       "141773                          0.233608                          0.073552   \n",
       "141774                          1.399666                          0.435606   \n",
       "141775                          0.749065                          0.909373   \n",
       "\n",
       "                         Kplus_IP_OWNPV                           Kplus_P   \\\n",
       "0                               0.221518                      14938.796613   \n",
       "1                               2.675985                      27997.248030   \n",
       "2                               0.964498                       8383.679923   \n",
       "3                               0.457798                      23595.091189   \n",
       "4                               0.590861                       6875.570461   \n",
       "...                                  ...                               ...   \n",
       "141771                          0.300806                      10682.845309   \n",
       "141772                          0.241356                      69159.089014   \n",
       "141773                          0.239403                      37153.397051   \n",
       "141774                          0.416667                      21874.563688   \n",
       "141775                          0.674560                       6336.413085   \n",
       "\n",
       "                       piminus_IP_OWNPV                         piminus_P   \\\n",
       "0                               0.334843                      18885.484755   \n",
       "1                               1.512916                       8658.765482   \n",
       "2                               0.846215                      10310.459345   \n",
       "3                               0.576270                      13975.989410   \n",
       "4                               0.721326                       5065.980778   \n",
       "...                                  ...                               ...   \n",
       "141771                          0.187368                      25552.669086   \n",
       "141772                          0.393407                      10720.653365   \n",
       "141773                          0.238732                      25575.359107   \n",
       "141774                          1.604297                      14153.166709   \n",
       "141775                          0.791131                      13392.586980   \n",
       "\n",
       "                               gamma_PT                       piminus_ETA   \\\n",
       "0                            5739.899165                          3.395456   \n",
       "1                            3511.829361                          3.498786   \n",
       "2                            3211.637797                          2.401201   \n",
       "3                            5466.588206                          3.203331   \n",
       "4                            5250.449109                          2.518374   \n",
       "...                                  ...                               ...   \n",
       "141771                       6022.967681                          3.105870   \n",
       "141772                       5716.381079                          3.508286   \n",
       "141773                       4168.692210                          3.629445   \n",
       "141774                       4692.972961                          2.453287   \n",
       "141775                      11940.155880                          2.659108   \n",
       "\n",
       "                              Kplus_ETA   train  Predicted  \n",
       "0                               3.520709      0   0.025829  \n",
       "1                               3.427056      0   0.177569  \n",
       "2                               2.224787      0   0.076474  \n",
       "3                               3.491705      0   0.361921  \n",
       "4                               2.190288      0   0.614534  \n",
       "...                                  ...    ...        ...  \n",
       "141771                          3.033990      0   0.016016  \n",
       "141772                          3.815329      0   0.436606  \n",
       "141773                          3.312150      0   0.512434  \n",
       "141774                          2.540912      0   0.644057  \n",
       "141775                          2.462569      0   0.031393  \n",
       "\n",
       "[141776 rows x 17 columns]"
      ]
     },
     "execution_count": 21,
     "metadata": {},
     "output_type": "execute_result"
    }
   ],
   "source": [
    "test_raw"
   ]
  },
  {
   "cell_type": "code",
   "execution_count": 22,
   "metadata": {},
   "outputs": [],
   "source": [
    "test_raw[['Id', 'Predicted']].to_csv('../submissions/more_features_lgbm.csv', index=False)"
   ]
  },
  {
   "cell_type": "code",
   "execution_count": null,
   "metadata": {},
   "outputs": [],
   "source": []
  }
 ],
 "metadata": {
  "kernelspec": {
   "display_name": "Python [conda env:sk-experiments] *",
   "language": "python",
   "name": "conda-env-sk-experiments-py"
  },
  "language_info": {
   "codemirror_mode": {
    "name": "ipython",
    "version": 3
   },
   "file_extension": ".py",
   "mimetype": "text/x-python",
   "name": "python",
   "nbconvert_exporter": "python",
   "pygments_lexer": "ipython3",
   "version": "3.7.0"
  }
 },
 "nbformat": 4,
 "nbformat_minor": 4
}