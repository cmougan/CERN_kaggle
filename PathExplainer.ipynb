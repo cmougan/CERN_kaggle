{
 "cells": [
  {
   "cell_type": "code",
   "execution_count": 1,
   "metadata": {
    "ExecuteTime": {
     "end_time": "2020-10-31T12:11:53.051111Z",
     "start_time": "2020-10-31T12:11:53.034223Z"
    }
   },
   "outputs": [
    {
     "data": {
      "application/javascript": [
       "utils.load_extension(\"collapsible_headings/main\")\n",
       "utils.load_extension(\"autosavetime/main\")\n",
       "utils.load_extension(\"execute_time/ExecuteTime\")\n"
      ],
      "text/plain": [
       "<IPython.core.display.Javascript object>"
      ]
     },
     "metadata": {},
     "output_type": "display_data"
    }
   ],
   "source": [
    "%%javascript\n",
    "utils.load_extension(\"collapsible_headings/main\")\n",
    "utils.load_extension(\"autosavetime/main\")\n",
    "utils.load_extension(\"execute_time/ExecuteTime\")"
   ]
  },
  {
   "cell_type": "code",
   "execution_count": 2,
   "metadata": {
    "ExecuteTime": {
     "end_time": "2020-10-31T12:11:55.528854Z",
     "start_time": "2020-10-31T12:11:53.055696Z"
    }
   },
   "outputs": [],
   "source": [
    "import pandas as pd\n",
    "from catboost import CatBoostClassifier\n",
    "import numpy as np\n",
    "import matplotlib.pyplot as plt\n",
    "from cern_utils import plot_feature_importance\n",
    "from sklearn.metrics import roc_auc_score,auc\n",
    "from xgboost import XGBClassifier\n",
    "\n",
    "from sklearn.ensemble import RandomForestClassifier\n",
    "from sklearn.model_selection import train_test_split\n",
    "from sklearn.ensemble import VotingClassifier\n",
    "from sklearn.neural_network import MLPClassifier\n",
    "from sklearn.neighbors import KNeighborsClassifier\n",
    "plt.style.use('seaborn')\n",
    "\n",
    "import math\n",
    "\n",
    "import random \n",
    "random.seed(0)\n",
    "from path_utils import return_impurity,pie_plot_filtered"
   ]
  },
  {
   "cell_type": "code",
   "execution_count": 3,
   "metadata": {
    "ExecuteTime": {
     "end_time": "2020-10-31T12:11:56.512230Z",
     "start_time": "2020-10-31T12:11:55.532122Z"
    }
   },
   "outputs": [],
   "source": [
    "train = pd.read_csv(\"train.csv\", index_col=\"Id\")\n",
    "test = pd.read_csv(\"test.csv\", index_col=\"Id\")\n",
    "train = train.drop(columns=\"BUTTER\")\n",
    "test = test.drop(columns=\"BUTTER\")"
   ]
  },
  {
   "cell_type": "markdown",
   "metadata": {},
   "source": [
    "## Feature Engineering"
   ]
  },
  {
   "cell_type": "code",
   "execution_count": 4,
   "metadata": {
    "ExecuteTime": {
     "end_time": "2020-10-31T12:11:56.522399Z",
     "start_time": "2020-10-31T12:11:56.514455Z"
    }
   },
   "outputs": [],
   "source": [
    "train['train']=1\n",
    "test['train']=0\n"
   ]
  },
  {
   "cell_type": "code",
   "execution_count": 5,
   "metadata": {
    "ExecuteTime": {
     "end_time": "2020-10-31T12:11:56.569810Z",
     "start_time": "2020-10-31T12:11:56.524459Z"
    }
   },
   "outputs": [],
   "source": [
    "df = train.append(test)"
   ]
  },
  {
   "cell_type": "code",
   "execution_count": 6,
   "metadata": {
    "ExecuteTime": {
     "end_time": "2020-10-31T12:11:56.575469Z",
     "start_time": "2020-10-31T12:11:56.571726Z"
    }
   },
   "outputs": [],
   "source": [
    "df.columns = df.columns.str.replace(' ', '')"
   ]
  },
  {
   "cell_type": "code",
   "execution_count": 7,
   "metadata": {
    "ExecuteTime": {
     "end_time": "2020-10-31T12:11:56.603018Z",
     "start_time": "2020-10-31T12:11:56.579153Z"
    },
    "scrolled": true
   },
   "outputs": [
    {
     "data": {
      "text/html": [
       "<div>\n",
       "<style scoped>\n",
       "    .dataframe tbody tr th:only-of-type {\n",
       "        vertical-align: middle;\n",
       "    }\n",
       "\n",
       "    .dataframe tbody tr th {\n",
       "        vertical-align: top;\n",
       "    }\n",
       "\n",
       "    .dataframe thead th {\n",
       "        text-align: right;\n",
       "    }\n",
       "</style>\n",
       "<table border=\"1\" class=\"dataframe\">\n",
       "  <thead>\n",
       "    <tr style=\"text-align: right;\">\n",
       "      <th></th>\n",
       "      <th>B_OWNPV_CHI2</th>\n",
       "      <th>B_IPCHI2_OWNPV</th>\n",
       "      <th>B_FDCHI2_OWNPV</th>\n",
       "      <th>B_DIRA_OWNPV</th>\n",
       "      <th>B_PT</th>\n",
       "      <th>Kst_892_0_IP_OWNPV</th>\n",
       "      <th>Kst_892_0_cosThetaH</th>\n",
       "      <th>Kplus_IP_OWNPV</th>\n",
       "      <th>Kplus_P</th>\n",
       "      <th>piminus_IP_OWNPV</th>\n",
       "      <th>piminus_P</th>\n",
       "      <th>gamma_PT</th>\n",
       "      <th>piminus_ETA</th>\n",
       "      <th>Kplus_ETA</th>\n",
       "      <th>signal</th>\n",
       "      <th>train</th>\n",
       "    </tr>\n",
       "    <tr>\n",
       "      <th>Id</th>\n",
       "      <th></th>\n",
       "      <th></th>\n",
       "      <th></th>\n",
       "      <th></th>\n",
       "      <th></th>\n",
       "      <th></th>\n",
       "      <th></th>\n",
       "      <th></th>\n",
       "      <th></th>\n",
       "      <th></th>\n",
       "      <th></th>\n",
       "      <th></th>\n",
       "      <th></th>\n",
       "      <th></th>\n",
       "      <th></th>\n",
       "      <th></th>\n",
       "    </tr>\n",
       "  </thead>\n",
       "  <tbody>\n",
       "    <tr>\n",
       "      <th>0</th>\n",
       "      <td>28.878847</td>\n",
       "      <td>2.662533</td>\n",
       "      <td>2924.690991</td>\n",
       "      <td>0.999997</td>\n",
       "      <td>19085.568945</td>\n",
       "      <td>0.569198</td>\n",
       "      <td>-0.575502</td>\n",
       "      <td>0.581565</td>\n",
       "      <td>66850.893711</td>\n",
       "      <td>0.637969</td>\n",
       "      <td>14298.486178</td>\n",
       "      <td>7940.694301</td>\n",
       "      <td>2.628526</td>\n",
       "      <td>2.680116</td>\n",
       "      <td>1.0</td>\n",
       "      <td>1</td>\n",
       "    </tr>\n",
       "    <tr>\n",
       "      <th>1</th>\n",
       "      <td>34.233566</td>\n",
       "      <td>0.092746</td>\n",
       "      <td>346.948714</td>\n",
       "      <td>0.999997</td>\n",
       "      <td>6631.244546</td>\n",
       "      <td>0.248707</td>\n",
       "      <td>-0.615941</td>\n",
       "      <td>0.277898</td>\n",
       "      <td>39274.475071</td>\n",
       "      <td>0.148815</td>\n",
       "      <td>11553.163934</td>\n",
       "      <td>3904.681337</td>\n",
       "      <td>3.292504</td>\n",
       "      <td>3.085754</td>\n",
       "      <td>1.0</td>\n",
       "      <td>1</td>\n",
       "    </tr>\n",
       "    <tr>\n",
       "      <th>2</th>\n",
       "      <td>36.113632</td>\n",
       "      <td>2.442423</td>\n",
       "      <td>238.553023</td>\n",
       "      <td>0.999986</td>\n",
       "      <td>7740.918989</td>\n",
       "      <td>0.222347</td>\n",
       "      <td>0.249383</td>\n",
       "      <td>0.216576</td>\n",
       "      <td>27757.153899</td>\n",
       "      <td>0.249840</td>\n",
       "      <td>24081.196003</td>\n",
       "      <td>4738.891687</td>\n",
       "      <td>3.433676</td>\n",
       "      <td>3.121906</td>\n",
       "      <td>1.0</td>\n",
       "      <td>1</td>\n",
       "    </tr>\n",
       "    <tr>\n",
       "      <th>3</th>\n",
       "      <td>14.286133</td>\n",
       "      <td>6.337556</td>\n",
       "      <td>227.375132</td>\n",
       "      <td>0.999806</td>\n",
       "      <td>6740.281614</td>\n",
       "      <td>0.347316</td>\n",
       "      <td>0.591884</td>\n",
       "      <td>0.306927</td>\n",
       "      <td>10593.207077</td>\n",
       "      <td>0.400748</td>\n",
       "      <td>11343.521945</td>\n",
       "      <td>3308.943750</td>\n",
       "      <td>2.291867</td>\n",
       "      <td>2.200712</td>\n",
       "      <td>0.0</td>\n",
       "      <td>1</td>\n",
       "    </tr>\n",
       "    <tr>\n",
       "      <th>4</th>\n",
       "      <td>60.474274</td>\n",
       "      <td>7.632751</td>\n",
       "      <td>106.730650</td>\n",
       "      <td>0.999905</td>\n",
       "      <td>5556.388794</td>\n",
       "      <td>0.204273</td>\n",
       "      <td>0.655850</td>\n",
       "      <td>0.196600</td>\n",
       "      <td>11801.249543</td>\n",
       "      <td>0.223101</td>\n",
       "      <td>25940.693317</td>\n",
       "      <td>4026.326871</td>\n",
       "      <td>3.290073</td>\n",
       "      <td>3.281829</td>\n",
       "      <td>0.0</td>\n",
       "      <td>1</td>\n",
       "    </tr>\n",
       "  </tbody>\n",
       "</table>\n",
       "</div>"
      ],
      "text/plain": [
       "    B_OWNPV_CHI2  B_IPCHI2_OWNPV  B_FDCHI2_OWNPV  B_DIRA_OWNPV          B_PT  \\\n",
       "Id                                                                             \n",
       "0      28.878847        2.662533     2924.690991      0.999997  19085.568945   \n",
       "1      34.233566        0.092746      346.948714      0.999997   6631.244546   \n",
       "2      36.113632        2.442423      238.553023      0.999986   7740.918989   \n",
       "3      14.286133        6.337556      227.375132      0.999806   6740.281614   \n",
       "4      60.474274        7.632751      106.730650      0.999905   5556.388794   \n",
       "\n",
       "    Kst_892_0_IP_OWNPV  Kst_892_0_cosThetaH  Kplus_IP_OWNPV       Kplus_P  \\\n",
       "Id                                                                          \n",
       "0             0.569198            -0.575502        0.581565  66850.893711   \n",
       "1             0.248707            -0.615941        0.277898  39274.475071   \n",
       "2             0.222347             0.249383        0.216576  27757.153899   \n",
       "3             0.347316             0.591884        0.306927  10593.207077   \n",
       "4             0.204273             0.655850        0.196600  11801.249543   \n",
       "\n",
       "    piminus_IP_OWNPV     piminus_P     gamma_PT  piminus_ETA  Kplus_ETA  \\\n",
       "Id                                                                        \n",
       "0           0.637969  14298.486178  7940.694301     2.628526   2.680116   \n",
       "1           0.148815  11553.163934  3904.681337     3.292504   3.085754   \n",
       "2           0.249840  24081.196003  4738.891687     3.433676   3.121906   \n",
       "3           0.400748  11343.521945  3308.943750     2.291867   2.200712   \n",
       "4           0.223101  25940.693317  4026.326871     3.290073   3.281829   \n",
       "\n",
       "    signal  train  \n",
       "Id                 \n",
       "0      1.0      1  \n",
       "1      1.0      1  \n",
       "2      1.0      1  \n",
       "3      0.0      1  \n",
       "4      0.0      1  "
      ]
     },
     "execution_count": 7,
     "metadata": {},
     "output_type": "execute_result"
    }
   ],
   "source": [
    "df.head()"
   ]
  },
  {
   "cell_type": "markdown",
   "metadata": {},
   "source": [
    "## Splits"
   ]
  },
  {
   "cell_type": "code",
   "execution_count": 8,
   "metadata": {
    "ExecuteTime": {
     "end_time": "2020-10-31T12:11:56.743606Z",
     "start_time": "2020-10-31T12:11:56.613629Z"
    }
   },
   "outputs": [],
   "source": [
    "train = df[df['train']==1].drop(columns='train')\n",
    "test = df[df['train']==0].drop(columns='train')"
   ]
  },
  {
   "cell_type": "code",
   "execution_count": 9,
   "metadata": {
    "ExecuteTime": {
     "end_time": "2020-10-31T12:11:56.868027Z",
     "start_time": "2020-10-31T12:11:56.748688Z"
    }
   },
   "outputs": [],
   "source": [
    "X_tr, X_te, y_tr, y_te = train_test_split(\n",
    "    train.drop(columns=\"signal\"),\n",
    "    train.signal,\n",
    "    stratify=train.signal,\n",
    "    random_state=0,  # train_size=0.99\n",
    ")"
   ]
  },
  {
   "cell_type": "markdown",
   "metadata": {},
   "source": [
    "## DT"
   ]
  },
  {
   "cell_type": "code",
   "execution_count": 10,
   "metadata": {
    "ExecuteTime": {
     "end_time": "2020-10-31T12:11:56.876325Z",
     "start_time": "2020-10-31T12:11:56.870445Z"
    }
   },
   "outputs": [],
   "source": [
    "from sklearn.tree import DecisionTreeClassifier"
   ]
  },
  {
   "cell_type": "code",
   "execution_count": 11,
   "metadata": {
    "ExecuteTime": {
     "end_time": "2020-10-31T12:11:56.885323Z",
     "start_time": "2020-10-31T12:11:56.879226Z"
    }
   },
   "outputs": [],
   "source": [
    "dt = DecisionTreeClassifier()"
   ]
  },
  {
   "cell_type": "code",
   "execution_count": 12,
   "metadata": {
    "ExecuteTime": {
     "end_time": "2020-10-31T12:12:00.699598Z",
     "start_time": "2020-10-31T12:11:56.888092Z"
    }
   },
   "outputs": [
    {
     "data": {
      "text/plain": [
       "DecisionTreeClassifier(ccp_alpha=0.0, class_weight=None, criterion='gini',\n",
       "                       max_depth=None, max_features=None, max_leaf_nodes=None,\n",
       "                       min_impurity_decrease=0.0, min_impurity_split=None,\n",
       "                       min_samples_leaf=1, min_samples_split=2,\n",
       "                       min_weight_fraction_leaf=0.0, presort='deprecated',\n",
       "                       random_state=None, splitter='best')"
      ]
     },
     "execution_count": 12,
     "metadata": {},
     "output_type": "execute_result"
    }
   ],
   "source": [
    "dt.fit(X_tr,y_tr)"
   ]
  },
  {
   "cell_type": "code",
   "execution_count": 13,
   "metadata": {
    "ExecuteTime": {
     "end_time": "2020-10-31T12:12:00.739704Z",
     "start_time": "2020-10-31T12:12:00.703647Z"
    },
    "scrolled": true
   },
   "outputs": [
    {
     "data": {
      "text/html": [
       "<div>\n",
       "<style scoped>\n",
       "    .dataframe tbody tr th:only-of-type {\n",
       "        vertical-align: middle;\n",
       "    }\n",
       "\n",
       "    .dataframe tbody tr th {\n",
       "        vertical-align: top;\n",
       "    }\n",
       "\n",
       "    .dataframe thead th {\n",
       "        text-align: right;\n",
       "    }\n",
       "</style>\n",
       "<table border=\"1\" class=\"dataframe\">\n",
       "  <thead>\n",
       "    <tr style=\"text-align: right;\">\n",
       "      <th></th>\n",
       "      <th>feature</th>\n",
       "      <th>impurity</th>\n",
       "      <th>samples</th>\n",
       "      <th>imp_child</th>\n",
       "      <th>samples_child</th>\n",
       "      <th>impurity_gain</th>\n",
       "      <th>samples_gain</th>\n",
       "    </tr>\n",
       "  </thead>\n",
       "  <tbody>\n",
       "    <tr>\n",
       "      <th>0</th>\n",
       "      <td>Kst_892_0_cosThetaH</td>\n",
       "      <td>0.444889</td>\n",
       "      <td>159496.0</td>\n",
       "      <td>0.480466</td>\n",
       "      <td>121606.0</td>\n",
       "      <td>7.856306</td>\n",
       "      <td>0.237561</td>\n",
       "    </tr>\n",
       "    <tr>\n",
       "      <th>1</th>\n",
       "      <td>Kst_892_0_IP_OWNPV</td>\n",
       "      <td>0.480466</td>\n",
       "      <td>121606.0</td>\n",
       "      <td>0.416789</td>\n",
       "      <td>63589.0</td>\n",
       "      <td>20.015783</td>\n",
       "      <td>0.363752</td>\n",
       "    </tr>\n",
       "    <tr>\n",
       "      <th>2</th>\n",
       "      <td>B_IPCHI2_OWNPV</td>\n",
       "      <td>0.416789</td>\n",
       "      <td>63589.0</td>\n",
       "      <td>0.295297</td>\n",
       "      <td>26922.0</td>\n",
       "      <td>11.632409</td>\n",
       "      <td>0.229893</td>\n",
       "    </tr>\n",
       "    <tr>\n",
       "      <th>3</th>\n",
       "      <td>B_PT</td>\n",
       "      <td>0.295297</td>\n",
       "      <td>26922.0</td>\n",
       "      <td>0.232056</td>\n",
       "      <td>18921.0</td>\n",
       "      <td>2.231563</td>\n",
       "      <td>0.050164</td>\n",
       "    </tr>\n",
       "    <tr>\n",
       "      <th>4</th>\n",
       "      <td>Kst_892_0_IP_OWNPV</td>\n",
       "      <td>0.232056</td>\n",
       "      <td>18921.0</td>\n",
       "      <td>0.309266</td>\n",
       "      <td>7260.0</td>\n",
       "      <td>1.345149</td>\n",
       "      <td>0.073112</td>\n",
       "    </tr>\n",
       "  </tbody>\n",
       "</table>\n",
       "</div>"
      ],
      "text/plain": [
       "               feature  impurity   samples  imp_child  samples_child  \\\n",
       "0  Kst_892_0_cosThetaH  0.444889  159496.0   0.480466       121606.0   \n",
       "1   Kst_892_0_IP_OWNPV  0.480466  121606.0   0.416789        63589.0   \n",
       "2       B_IPCHI2_OWNPV  0.416789   63589.0   0.295297        26922.0   \n",
       "3                 B_PT  0.295297   26922.0   0.232056        18921.0   \n",
       "4   Kst_892_0_IP_OWNPV  0.232056   18921.0   0.309266         7260.0   \n",
       "\n",
       "   impurity_gain  samples_gain  \n",
       "0       7.856306      0.237561  \n",
       "1      20.015783      0.363752  \n",
       "2      11.632409      0.229893  \n",
       "3       2.231563      0.050164  \n",
       "4       1.345149      0.073112  "
      ]
     },
     "execution_count": 13,
     "metadata": {},
     "output_type": "execute_result"
    }
   ],
   "source": [
    "return_impurity(dt, X_tr[X_tr.index == random.choice(X_tr.index)]).head(5)"
   ]
  },
  {
   "cell_type": "code",
   "execution_count": 14,
   "metadata": {
    "ExecuteTime": {
     "end_time": "2020-10-31T12:12:00.922229Z",
     "start_time": "2020-10-31T12:12:00.742801Z"
    },
    "scrolled": false
   },
   "outputs": [
    {
     "data": {
      "image/png": "[encoded data removed]",
      "text/plain": [
       "<Figure size 1152x576 with 1 Axes>"
      ]
     },
     "metadata": {},
     "output_type": "display_data"
    }
   ],
   "source": [
    "res_g = (\n",
    "    return_impurity(dt, X_tr[X_tr.index == random.choice(X_tr.index)])\n",
    "    .groupby(\"feature\", as_index=False)\n",
    "    .sum()\n",
    ")\n",
    "\n",
    "pie_plot_filtered(res_g, \"samples_gain\", title=\"Impurity Gain\")"
   ]
  },
  {
   "cell_type": "markdown",
   "metadata": {},
   "source": [
    "## Random Forest"
   ]
  },
  {
   "cell_type": "code",
   "execution_count": 15,
   "metadata": {
    "ExecuteTime": {
     "end_time": "2020-10-31T12:12:00.934392Z",
     "start_time": "2020-10-31T12:12:00.929125Z"
    }
   },
   "outputs": [],
   "source": [
    "from sklearn.ensemble import RandomForestClassifier"
   ]
  },
  {
   "cell_type": "code",
   "execution_count": 16,
   "metadata": {
    "ExecuteTime": {
     "end_time": "2020-10-31T12:12:06.709485Z",
     "start_time": "2020-10-31T12:12:00.936672Z"
    },
    "scrolled": true
   },
   "outputs": [],
   "source": [
    "rf = RandomForestClassifier(n_estimators=10)\n",
    "rf.fit(X_tr,y_tr);"
   ]
  },
  {
   "cell_type": "code",
   "execution_count": 17,
   "metadata": {
    "ExecuteTime": {
     "end_time": "2020-10-31T12:12:06.826761Z",
     "start_time": "2020-10-31T12:12:06.711661Z"
    }
   },
   "outputs": [],
   "source": [
    "impurities = [\n",
    "    return_impurity(tree, X_tr[X_tr.index == random.choice(X_tr.index)])\n",
    "    for tree in rf.estimators_\n",
    "]"
   ]
  },
  {
   "cell_type": "code",
   "execution_count": 18,
   "metadata": {
    "ExecuteTime": {
     "end_time": "2020-10-31T12:12:06.860310Z",
     "start_time": "2020-10-31T12:12:06.829755Z"
    }
   },
   "outputs": [],
   "source": [
    "grouped  =[im.groupby('feature',as_index=False).sum() for im in impurities]"
   ]
  },
  {
   "cell_type": "code",
   "execution_count": 19,
   "metadata": {
    "ExecuteTime": {
     "end_time": "2020-10-31T12:12:06.873592Z",
     "start_time": "2020-10-31T12:12:06.862233Z"
    }
   },
   "outputs": [],
   "source": [
    "aux = pd.DataFrame()\n",
    "for group in grouped:\n",
    "    aux = aux.append(group)\n"
   ]
  },
  {
   "cell_type": "code",
   "execution_count": 20,
   "metadata": {
    "ExecuteTime": {
     "end_time": "2020-10-31T12:12:06.880817Z",
     "start_time": "2020-10-31T12:12:06.875515Z"
    }
   },
   "outputs": [],
   "source": [
    "res_rf = aux.groupby('feature',as_index=False).sum()"
   ]
  },
  {
   "cell_type": "code",
   "execution_count": 29,
   "metadata": {
    "ExecuteTime": {
     "end_time": "2020-10-31T12:13:30.650985Z",
     "start_time": "2020-10-31T12:13:30.635820Z"
    }
   },
   "outputs": [
    {
     "data": {
      "text/html": [
       "<div>\n",
       "<style scoped>\n",
       "    .dataframe tbody tr th:only-of-type {\n",
       "        vertical-align: middle;\n",
       "    }\n",
       "\n",
       "    .dataframe tbody tr th {\n",
       "        vertical-align: top;\n",
       "    }\n",
       "\n",
       "    .dataframe thead th {\n",
       "        text-align: right;\n",
       "    }\n",
       "</style>\n",
       "<table border=\"1\" class=\"dataframe\">\n",
       "  <thead>\n",
       "    <tr style=\"text-align: right;\">\n",
       "      <th></th>\n",
       "      <th>feature</th>\n",
       "      <th>impurity</th>\n",
       "      <th>samples</th>\n",
       "      <th>imp_child</th>\n",
       "      <th>samples_child</th>\n",
       "      <th>impurity_gain</th>\n",
       "      <th>samples_gain</th>\n",
       "    </tr>\n",
       "  </thead>\n",
       "  <tbody>\n",
       "    <tr>\n",
       "      <th>2</th>\n",
       "      <td>B_IPCHI2_OWNPV</td>\n",
       "      <td>6.814685</td>\n",
       "      <td>793718.0</td>\n",
       "      <td>6.185455</td>\n",
       "      <td>377657.0</td>\n",
       "      <td>119.625799</td>\n",
       "      <td>2.608598</td>\n",
       "    </tr>\n",
       "    <tr>\n",
       "      <th>1</th>\n",
       "      <td>B_FDCHI2_OWNPV</td>\n",
       "      <td>5.732728</td>\n",
       "      <td>609680.0</td>\n",
       "      <td>4.884232</td>\n",
       "      <td>340015.0</td>\n",
       "      <td>74.937587</td>\n",
       "      <td>1.690732</td>\n",
       "    </tr>\n",
       "    <tr>\n",
       "      <th>6</th>\n",
       "      <td>Kplus_IP_OWNPV</td>\n",
       "      <td>4.486508</td>\n",
       "      <td>479673.0</td>\n",
       "      <td>4.041944</td>\n",
       "      <td>241335.0</td>\n",
       "      <td>75.882156</td>\n",
       "      <td>1.494320</td>\n",
       "    </tr>\n",
       "    <tr>\n",
       "      <th>9</th>\n",
       "      <td>Kst_892_0_cosThetaH</td>\n",
       "      <td>7.092803</td>\n",
       "      <td>765160.0</td>\n",
       "      <td>6.950731</td>\n",
       "      <td>553517.0</td>\n",
       "      <td>47.528842</td>\n",
       "      <td>1.326949</td>\n",
       "    </tr>\n",
       "    <tr>\n",
       "      <th>8</th>\n",
       "      <td>Kst_892_0_IP_OWNPV</td>\n",
       "      <td>4.215597</td>\n",
       "      <td>333576.0</td>\n",
       "      <td>4.107595</td>\n",
       "      <td>181013.0</td>\n",
       "      <td>44.526986</td>\n",
       "      <td>0.956532</td>\n",
       "    </tr>\n",
       "    <tr>\n",
       "      <th>7</th>\n",
       "      <td>Kplus_P</td>\n",
       "      <td>4.905997</td>\n",
       "      <td>206231.0</td>\n",
       "      <td>5.155995</td>\n",
       "      <td>121581.0</td>\n",
       "      <td>19.737765</td>\n",
       "      <td>0.530734</td>\n",
       "    </tr>\n",
       "    <tr>\n",
       "      <th>12</th>\n",
       "      <td>piminus_IP_OWNPV</td>\n",
       "      <td>3.331731</td>\n",
       "      <td>173676.0</td>\n",
       "      <td>2.839096</td>\n",
       "      <td>91814.0</td>\n",
       "      <td>24.009352</td>\n",
       "      <td>0.513254</td>\n",
       "    </tr>\n",
       "    <tr>\n",
       "      <th>4</th>\n",
       "      <td>B_PT</td>\n",
       "      <td>3.810718</td>\n",
       "      <td>126473.0</td>\n",
       "      <td>3.153303</td>\n",
       "      <td>64085.0</td>\n",
       "      <td>17.388788</td>\n",
       "      <td>0.391157</td>\n",
       "    </tr>\n",
       "    <tr>\n",
       "      <th>5</th>\n",
       "      <td>Kplus_ETA</td>\n",
       "      <td>2.847061</td>\n",
       "      <td>57303.0</td>\n",
       "      <td>2.446990</td>\n",
       "      <td>25088.0</td>\n",
       "      <td>10.152885</td>\n",
       "      <td>0.201980</td>\n",
       "    </tr>\n",
       "    <tr>\n",
       "      <th>11</th>\n",
       "      <td>piminus_ETA</td>\n",
       "      <td>5.192299</td>\n",
       "      <td>50528.0</td>\n",
       "      <td>4.629991</td>\n",
       "      <td>23303.0</td>\n",
       "      <td>7.135743</td>\n",
       "      <td>0.167678</td>\n",
       "    </tr>\n",
       "    <tr>\n",
       "      <th>0</th>\n",
       "      <td>B_DIRA_OWNPV</td>\n",
       "      <td>1.906799</td>\n",
       "      <td>168700.0</td>\n",
       "      <td>2.080878</td>\n",
       "      <td>156732.0</td>\n",
       "      <td>2.176341</td>\n",
       "      <td>0.075036</td>\n",
       "    </tr>\n",
       "    <tr>\n",
       "      <th>10</th>\n",
       "      <td>gamma_PT</td>\n",
       "      <td>2.761599</td>\n",
       "      <td>8338.0</td>\n",
       "      <td>2.849937</td>\n",
       "      <td>4111.0</td>\n",
       "      <td>1.255571</td>\n",
       "      <td>0.026502</td>\n",
       "    </tr>\n",
       "    <tr>\n",
       "      <th>13</th>\n",
       "      <td>piminus_P</td>\n",
       "      <td>1.922253</td>\n",
       "      <td>6188.0</td>\n",
       "      <td>1.900495</td>\n",
       "      <td>4412.0</td>\n",
       "      <td>0.505073</td>\n",
       "      <td>0.011135</td>\n",
       "    </tr>\n",
       "    <tr>\n",
       "      <th>3</th>\n",
       "      <td>B_OWNPV_CHI2</td>\n",
       "      <td>1.730528</td>\n",
       "      <td>1954.0</td>\n",
       "      <td>1.075391</td>\n",
       "      <td>1575.0</td>\n",
       "      <td>0.064492</td>\n",
       "      <td>0.002376</td>\n",
       "    </tr>\n",
       "  </tbody>\n",
       "</table>\n",
       "</div>"
      ],
      "text/plain": [
       "                feature  impurity   samples  imp_child  samples_child  \\\n",
       "2        B_IPCHI2_OWNPV  6.814685  793718.0   6.185455       377657.0   \n",
       "1        B_FDCHI2_OWNPV  5.732728  609680.0   4.884232       340015.0   \n",
       "6        Kplus_IP_OWNPV  4.486508  479673.0   4.041944       241335.0   \n",
       "9   Kst_892_0_cosThetaH  7.092803  765160.0   6.950731       553517.0   \n",
       "8    Kst_892_0_IP_OWNPV  4.215597  333576.0   4.107595       181013.0   \n",
       "7               Kplus_P  4.905997  206231.0   5.155995       121581.0   \n",
       "12     piminus_IP_OWNPV  3.331731  173676.0   2.839096        91814.0   \n",
       "4                  B_PT  3.810718  126473.0   3.153303        64085.0   \n",
       "5             Kplus_ETA  2.847061   57303.0   2.446990        25088.0   \n",
       "11          piminus_ETA  5.192299   50528.0   4.629991        23303.0   \n",
       "0          B_DIRA_OWNPV  1.906799  168700.0   2.080878       156732.0   \n",
       "10             gamma_PT  2.761599    8338.0   2.849937         4111.0   \n",
       "13            piminus_P  1.922253    6188.0   1.900495         4412.0   \n",
       "3          B_OWNPV_CHI2  1.730528    1954.0   1.075391         1575.0   \n",
       "\n",
       "    impurity_gain  samples_gain  \n",
       "2      119.625799      2.608598  \n",
       "1       74.937587      1.690732  \n",
       "6       75.882156      1.494320  \n",
       "9       47.528842      1.326949  \n",
       "8       44.526986      0.956532  \n",
       "7       19.737765      0.530734  \n",
       "12      24.009352      0.513254  \n",
       "4       17.388788      0.391157  \n",
       "5       10.152885      0.201980  \n",
       "11       7.135743      0.167678  \n",
       "0        2.176341      0.075036  \n",
       "10       1.255571      0.026502  \n",
       "13       0.505073      0.011135  \n",
       "3        0.064492      0.002376  "
      ]
     },
     "execution_count": 29,
     "metadata": {},
     "output_type": "execute_result"
    }
   ],
   "source": [
    "res_rf.sort_values('samples_gain',ascending=False)"
   ]
  },
  {
   "cell_type": "code",
   "execution_count": 30,
   "metadata": {
    "ExecuteTime": {
     "end_time": "2020-10-31T12:13:42.127127Z",
     "start_time": "2020-10-31T12:13:41.939534Z"
    },
    "scrolled": false
   },
   "outputs": [
    {
     "data": {
      "image/png": "[encoded data removed]",
      "text/plain": [
       "<Figure size 1152x576 with 1 Axes>"
      ]
     },
     "metadata": {},
     "output_type": "display_data"
    }
   ],
   "source": [
    "pie_plot_filtered(res_rf, \"samples_gain\", title=\"Impurity Gain\")"
   ]
  },
  {
   "cell_type": "code",
   "execution_count": null,
   "metadata": {},
   "outputs": [],
   "source": []
  }
 ],
 "metadata": {
  "kernelspec": {
   "display_name": "Python 3",
   "language": "python",
   "name": "python3"
  },
  "language_info": {
   "codemirror_mode": {
    "name": "ipython",
    "version": 3
   },
   "file_extension": ".py",
   "mimetype": "text/x-python",
   "name": "python",
   "nbconvert_exporter": "python",
   "pygments_lexer": "ipython3",
   "version": "3.7.6"
  }
 },
 "nbformat": 4,
 "nbformat_minor": 4
}
