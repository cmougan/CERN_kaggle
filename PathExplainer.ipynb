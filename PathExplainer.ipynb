{
 "cells": [
  {
   "cell_type": "code",
   "execution_count": 1,
   "metadata": {
    "ExecuteTime": {
     "end_time": "2020-10-30T18:56:27.240860Z",
     "start_time": "2020-10-30T18:56:27.223963Z"
    }
   },
   "outputs": [
    {
     "data": {
      "application/javascript": [
       "utils.load_extension(\"collapsible_headings/main\")\n",
       "utils.load_extension(\"autosavetime/main\")\n",
       "utils.load_extension(\"execute_time/ExecuteTime\")\n"
      ],
      "text/plain": [
       "<IPython.core.display.Javascript object>"
      ]
     },
     "metadata": {},
     "output_type": "display_data"
    }
   ],
   "source": [
    "%%javascript\n",
    "utils.load_extension(\"collapsible_headings/main\")\n",
    "utils.load_extension(\"autosavetime/main\")\n",
    "utils.load_extension(\"execute_time/ExecuteTime\")"
   ]
  },
  {
   "cell_type": "code",
   "execution_count": 37,
   "metadata": {
    "ExecuteTime": {
     "end_time": "2020-10-30T19:07:09.011715Z",
     "start_time": "2020-10-30T19:07:09.004992Z"
    }
   },
   "outputs": [],
   "source": [
    "import pandas as pd\n",
    "from catboost import CatBoostClassifier\n",
    "import numpy as np\n",
    "import matplotlib.pyplot as plt\n",
    "from cern_utils import plot_feature_importance\n",
    "from sklearn.metrics import roc_auc_score,auc\n",
    "from xgboost import XGBClassifier\n",
    "\n",
    "from sklearn.ensemble import RandomForestClassifier\n",
    "from sklearn.model_selection import train_test_split\n",
    "from sklearn.ensemble import VotingClassifier\n",
    "from sklearn.neural_network import MLPClassifier\n",
    "from sklearn.neighbors import KNeighborsClassifier\n",
    "plt.style.use('seaborn')\n",
    "\n",
    "import math\n",
    "\n",
    "import random \n",
    "random.seed(0)\n",
    "from path_utils import return_impurity,pie_plot_filtered"
   ]
  },
  {
   "cell_type": "code",
   "execution_count": 3,
   "metadata": {
    "ExecuteTime": {
     "end_time": "2020-10-30T18:56:51.872081Z",
     "start_time": "2020-10-30T18:56:50.853388Z"
    }
   },
   "outputs": [],
   "source": [
    "train = pd.read_csv(\"train.csv\", index_col=\"Id\")\n",
    "test = pd.read_csv(\"test.csv\", index_col=\"Id\")\n",
    "train = train.drop(columns=\"BUTTER\")\n",
    "test = test.drop(columns=\"BUTTER\")"
   ]
  },
  {
   "cell_type": "markdown",
   "metadata": {},
   "source": [
    "## Feature Engineering"
   ]
  },
  {
   "cell_type": "code",
   "execution_count": 4,
   "metadata": {
    "ExecuteTime": {
     "end_time": "2020-10-30T18:56:53.525176Z",
     "start_time": "2020-10-30T18:56:53.518121Z"
    }
   },
   "outputs": [],
   "source": [
    "train['train']=1\n",
    "test['train']=0\n"
   ]
  },
  {
   "cell_type": "code",
   "execution_count": 5,
   "metadata": {
    "ExecuteTime": {
     "end_time": "2020-10-30T18:56:53.736393Z",
     "start_time": "2020-10-30T18:56:53.696166Z"
    }
   },
   "outputs": [],
   "source": [
    "df = train.append(test)"
   ]
  },
  {
   "cell_type": "code",
   "execution_count": 6,
   "metadata": {
    "ExecuteTime": {
     "end_time": "2020-10-30T18:56:54.906131Z",
     "start_time": "2020-10-30T18:56:54.901823Z"
    }
   },
   "outputs": [],
   "source": [
    "df.columns = df.columns.str.replace(' ', '')"
   ]
  },
  {
   "cell_type": "code",
   "execution_count": 7,
   "metadata": {
    "ExecuteTime": {
     "end_time": "2020-10-30T18:56:55.169716Z",
     "start_time": "2020-10-30T18:56:55.138741Z"
    },
    "scrolled": true
   },
   "outputs": [
    {
     "data": {
      "text/html": [
       "<div>\n",
       "<style scoped>\n",
       "    .dataframe tbody tr th:only-of-type {\n",
       "        vertical-align: middle;\n",
       "    }\n",
       "\n",
       "    .dataframe tbody tr th {\n",
       "        vertical-align: top;\n",
       "    }\n",
       "\n",
       "    .dataframe thead th {\n",
       "        text-align: right;\n",
       "    }\n",
       "</style>\n",
       "<table border=\"1\" class=\"dataframe\">\n",
       "  <thead>\n",
       "    <tr style=\"text-align: right;\">\n",
       "      <th></th>\n",
       "      <th>B_OWNPV_CHI2</th>\n",
       "      <th>B_IPCHI2_OWNPV</th>\n",
       "      <th>B_FDCHI2_OWNPV</th>\n",
       "      <th>B_DIRA_OWNPV</th>\n",
       "      <th>B_PT</th>\n",
       "      <th>Kst_892_0_IP_OWNPV</th>\n",
       "      <th>Kst_892_0_cosThetaH</th>\n",
       "      <th>Kplus_IP_OWNPV</th>\n",
       "      <th>Kplus_P</th>\n",
       "      <th>piminus_IP_OWNPV</th>\n",
       "      <th>piminus_P</th>\n",
       "      <th>gamma_PT</th>\n",
       "      <th>piminus_ETA</th>\n",
       "      <th>Kplus_ETA</th>\n",
       "      <th>signal</th>\n",
       "      <th>train</th>\n",
       "    </tr>\n",
       "    <tr>\n",
       "      <th>Id</th>\n",
       "      <th></th>\n",
       "      <th></th>\n",
       "      <th></th>\n",
       "      <th></th>\n",
       "      <th></th>\n",
       "      <th></th>\n",
       "      <th></th>\n",
       "      <th></th>\n",
       "      <th></th>\n",
       "      <th></th>\n",
       "      <th></th>\n",
       "      <th></th>\n",
       "      <th></th>\n",
       "      <th></th>\n",
       "      <th></th>\n",
       "      <th></th>\n",
       "    </tr>\n",
       "  </thead>\n",
       "  <tbody>\n",
       "    <tr>\n",
       "      <th>0</th>\n",
       "      <td>28.878847</td>\n",
       "      <td>2.662533</td>\n",
       "      <td>2924.690991</td>\n",
       "      <td>0.999997</td>\n",
       "      <td>19085.568945</td>\n",
       "      <td>0.569198</td>\n",
       "      <td>-0.575502</td>\n",
       "      <td>0.581565</td>\n",
       "      <td>66850.893711</td>\n",
       "      <td>0.637969</td>\n",
       "      <td>14298.486178</td>\n",
       "      <td>7940.694301</td>\n",
       "      <td>2.628526</td>\n",
       "      <td>2.680116</td>\n",
       "      <td>1.0</td>\n",
       "      <td>1</td>\n",
       "    </tr>\n",
       "    <tr>\n",
       "      <th>1</th>\n",
       "      <td>34.233566</td>\n",
       "      <td>0.092746</td>\n",
       "      <td>346.948714</td>\n",
       "      <td>0.999997</td>\n",
       "      <td>6631.244546</td>\n",
       "      <td>0.248707</td>\n",
       "      <td>-0.615941</td>\n",
       "      <td>0.277898</td>\n",
       "      <td>39274.475071</td>\n",
       "      <td>0.148815</td>\n",
       "      <td>11553.163934</td>\n",
       "      <td>3904.681337</td>\n",
       "      <td>3.292504</td>\n",
       "      <td>3.085754</td>\n",
       "      <td>1.0</td>\n",
       "      <td>1</td>\n",
       "    </tr>\n",
       "    <tr>\n",
       "      <th>2</th>\n",
       "      <td>36.113632</td>\n",
       "      <td>2.442423</td>\n",
       "      <td>238.553023</td>\n",
       "      <td>0.999986</td>\n",
       "      <td>7740.918989</td>\n",
       "      <td>0.222347</td>\n",
       "      <td>0.249383</td>\n",
       "      <td>0.216576</td>\n",
       "      <td>27757.153899</td>\n",
       "      <td>0.249840</td>\n",
       "      <td>24081.196003</td>\n",
       "      <td>4738.891687</td>\n",
       "      <td>3.433676</td>\n",
       "      <td>3.121906</td>\n",
       "      <td>1.0</td>\n",
       "      <td>1</td>\n",
       "    </tr>\n",
       "    <tr>\n",
       "      <th>3</th>\n",
       "      <td>14.286133</td>\n",
       "      <td>6.337556</td>\n",
       "      <td>227.375132</td>\n",
       "      <td>0.999806</td>\n",
       "      <td>6740.281614</td>\n",
       "      <td>0.347316</td>\n",
       "      <td>0.591884</td>\n",
       "      <td>0.306927</td>\n",
       "      <td>10593.207077</td>\n",
       "      <td>0.400748</td>\n",
       "      <td>11343.521945</td>\n",
       "      <td>3308.943750</td>\n",
       "      <td>2.291867</td>\n",
       "      <td>2.200712</td>\n",
       "      <td>0.0</td>\n",
       "      <td>1</td>\n",
       "    </tr>\n",
       "    <tr>\n",
       "      <th>4</th>\n",
       "      <td>60.474274</td>\n",
       "      <td>7.632751</td>\n",
       "      <td>106.730650</td>\n",
       "      <td>0.999905</td>\n",
       "      <td>5556.388794</td>\n",
       "      <td>0.204273</td>\n",
       "      <td>0.655850</td>\n",
       "      <td>0.196600</td>\n",
       "      <td>11801.249543</td>\n",
       "      <td>0.223101</td>\n",
       "      <td>25940.693317</td>\n",
       "      <td>4026.326871</td>\n",
       "      <td>3.290073</td>\n",
       "      <td>3.281829</td>\n",
       "      <td>0.0</td>\n",
       "      <td>1</td>\n",
       "    </tr>\n",
       "  </tbody>\n",
       "</table>\n",
       "</div>"
      ],
      "text/plain": [
       "    B_OWNPV_CHI2  B_IPCHI2_OWNPV  B_FDCHI2_OWNPV  B_DIRA_OWNPV          B_PT  \\\n",
       "Id                                                                             \n",
       "0      28.878847        2.662533     2924.690991      0.999997  19085.568945   \n",
       "1      34.233566        0.092746      346.948714      0.999997   6631.244546   \n",
       "2      36.113632        2.442423      238.553023      0.999986   7740.918989   \n",
       "3      14.286133        6.337556      227.375132      0.999806   6740.281614   \n",
       "4      60.474274        7.632751      106.730650      0.999905   5556.388794   \n",
       "\n",
       "    Kst_892_0_IP_OWNPV  Kst_892_0_cosThetaH  Kplus_IP_OWNPV       Kplus_P  \\\n",
       "Id                                                                          \n",
       "0             0.569198            -0.575502        0.581565  66850.893711   \n",
       "1             0.248707            -0.615941        0.277898  39274.475071   \n",
       "2             0.222347             0.249383        0.216576  27757.153899   \n",
       "3             0.347316             0.591884        0.306927  10593.207077   \n",
       "4             0.204273             0.655850        0.196600  11801.249543   \n",
       "\n",
       "    piminus_IP_OWNPV     piminus_P     gamma_PT  piminus_ETA  Kplus_ETA  \\\n",
       "Id                                                                        \n",
       "0           0.637969  14298.486178  7940.694301     2.628526   2.680116   \n",
       "1           0.148815  11553.163934  3904.681337     3.292504   3.085754   \n",
       "2           0.249840  24081.196003  4738.891687     3.433676   3.121906   \n",
       "3           0.400748  11343.521945  3308.943750     2.291867   2.200712   \n",
       "4           0.223101  25940.693317  4026.326871     3.290073   3.281829   \n",
       "\n",
       "    signal  train  \n",
       "Id                 \n",
       "0      1.0      1  \n",
       "1      1.0      1  \n",
       "2      1.0      1  \n",
       "3      0.0      1  \n",
       "4      0.0      1  "
      ]
     },
     "execution_count": 7,
     "metadata": {},
     "output_type": "execute_result"
    }
   ],
   "source": [
    "df.head()"
   ]
  },
  {
   "cell_type": "markdown",
   "metadata": {},
   "source": [
    "## Splits"
   ]
  },
  {
   "cell_type": "code",
   "execution_count": 8,
   "metadata": {
    "ExecuteTime": {
     "end_time": "2020-10-30T18:56:55.674229Z",
     "start_time": "2020-10-30T18:56:55.525611Z"
    }
   },
   "outputs": [],
   "source": [
    "train = df[df['train']==1].drop(columns='train')\n",
    "test = df[df['train']==0].drop(columns='train')"
   ]
  },
  {
   "cell_type": "code",
   "execution_count": 9,
   "metadata": {
    "ExecuteTime": {
     "end_time": "2020-10-30T18:56:55.829431Z",
     "start_time": "2020-10-30T18:56:55.703797Z"
    }
   },
   "outputs": [],
   "source": [
    "X_tr, X_te, y_tr, y_te = train_test_split(\n",
    "    train.drop(columns=\"signal\"),\n",
    "    train.signal,\n",
    "    stratify=train.signal,\n",
    "    random_state=0,  # train_size=0.99\n",
    ")"
   ]
  },
  {
   "cell_type": "markdown",
   "metadata": {},
   "source": [
    "## DT"
   ]
  },
  {
   "cell_type": "code",
   "execution_count": 10,
   "metadata": {
    "ExecuteTime": {
     "end_time": "2020-10-30T18:57:15.251704Z",
     "start_time": "2020-10-30T18:57:15.247795Z"
    }
   },
   "outputs": [],
   "source": [
    "from sklearn.tree import DecisionTreeClassifier"
   ]
  },
  {
   "cell_type": "code",
   "execution_count": 11,
   "metadata": {
    "ExecuteTime": {
     "end_time": "2020-10-30T18:57:26.303256Z",
     "start_time": "2020-10-30T18:57:26.298734Z"
    }
   },
   "outputs": [],
   "source": [
    "dt = DecisionTreeClassifier()"
   ]
  },
  {
   "cell_type": "code",
   "execution_count": 13,
   "metadata": {
    "ExecuteTime": {
     "end_time": "2020-10-30T18:57:59.403456Z",
     "start_time": "2020-10-30T18:57:55.526601Z"
    }
   },
   "outputs": [
    {
     "data": {
      "text/plain": [
       "DecisionTreeClassifier(ccp_alpha=0.0, class_weight=None, criterion='gini',\n",
       "                       max_depth=None, max_features=None, max_leaf_nodes=None,\n",
       "                       min_impurity_decrease=0.0, min_impurity_split=None,\n",
       "                       min_samples_leaf=1, min_samples_split=2,\n",
       "                       min_weight_fraction_leaf=0.0, presort='deprecated',\n",
       "                       random_state=None, splitter='best')"
      ]
     },
     "execution_count": 13,
     "metadata": {},
     "output_type": "execute_result"
    }
   ],
   "source": [
    "dt.fit(X_tr,y_tr)"
   ]
  },
  {
   "cell_type": "code",
   "execution_count": 36,
   "metadata": {
    "ExecuteTime": {
     "end_time": "2020-10-30T19:00:24.297248Z",
     "start_time": "2020-10-30T19:00:24.267128Z"
    },
    "scrolled": true
   },
   "outputs": [
    {
     "data": {
      "text/html": [
       "<div>\n",
       "<style scoped>\n",
       "    .dataframe tbody tr th:only-of-type {\n",
       "        vertical-align: middle;\n",
       "    }\n",
       "\n",
       "    .dataframe tbody tr th {\n",
       "        vertical-align: top;\n",
       "    }\n",
       "\n",
       "    .dataframe thead th {\n",
       "        text-align: right;\n",
       "    }\n",
       "</style>\n",
       "<table border=\"1\" class=\"dataframe\">\n",
       "  <thead>\n",
       "    <tr style=\"text-align: right;\">\n",
       "      <th></th>\n",
       "      <th>feature</th>\n",
       "      <th>impurity</th>\n",
       "      <th>samples</th>\n",
       "      <th>imp_child</th>\n",
       "      <th>samples_child</th>\n",
       "      <th>impurity_gain</th>\n",
       "      <th>samples_gain</th>\n",
       "    </tr>\n",
       "  </thead>\n",
       "  <tbody>\n",
       "    <tr>\n",
       "      <th>0</th>\n",
       "      <td>Kst_892_0_cosThetaH</td>\n",
       "      <td>0.444889</td>\n",
       "      <td>159496.0</td>\n",
       "      <td>0.480466</td>\n",
       "      <td>121606.0</td>\n",
       "      <td>7.856306</td>\n",
       "      <td>0.237561</td>\n",
       "    </tr>\n",
       "    <tr>\n",
       "      <th>1</th>\n",
       "      <td>Kst_892_0_IP_OWNPV</td>\n",
       "      <td>0.480466</td>\n",
       "      <td>121606.0</td>\n",
       "      <td>0.416789</td>\n",
       "      <td>63589.0</td>\n",
       "      <td>20.015783</td>\n",
       "      <td>0.363752</td>\n",
       "    </tr>\n",
       "    <tr>\n",
       "      <th>2</th>\n",
       "      <td>B_IPCHI2_OWNPV</td>\n",
       "      <td>0.416789</td>\n",
       "      <td>63589.0</td>\n",
       "      <td>0.295297</td>\n",
       "      <td>26922.0</td>\n",
       "      <td>11.632409</td>\n",
       "      <td>0.229893</td>\n",
       "    </tr>\n",
       "    <tr>\n",
       "      <th>3</th>\n",
       "      <td>B_PT</td>\n",
       "      <td>0.295297</td>\n",
       "      <td>26922.0</td>\n",
       "      <td>0.232056</td>\n",
       "      <td>18921.0</td>\n",
       "      <td>2.231563</td>\n",
       "      <td>0.050164</td>\n",
       "    </tr>\n",
       "    <tr>\n",
       "      <th>4</th>\n",
       "      <td>Kst_892_0_IP_OWNPV</td>\n",
       "      <td>0.232056</td>\n",
       "      <td>18921.0</td>\n",
       "      <td>0.309266</td>\n",
       "      <td>7260.0</td>\n",
       "      <td>1.345149</td>\n",
       "      <td>0.073112</td>\n",
       "    </tr>\n",
       "  </tbody>\n",
       "</table>\n",
       "</div>"
      ],
      "text/plain": [
       "               feature  impurity   samples  imp_child  samples_child  \\\n",
       "0  Kst_892_0_cosThetaH  0.444889  159496.0   0.480466       121606.0   \n",
       "1   Kst_892_0_IP_OWNPV  0.480466  121606.0   0.416789        63589.0   \n",
       "2       B_IPCHI2_OWNPV  0.416789   63589.0   0.295297        26922.0   \n",
       "3                 B_PT  0.295297   26922.0   0.232056        18921.0   \n",
       "4   Kst_892_0_IP_OWNPV  0.232056   18921.0   0.309266         7260.0   \n",
       "\n",
       "   impurity_gain  samples_gain  \n",
       "0       7.856306      0.237561  \n",
       "1      20.015783      0.363752  \n",
       "2      11.632409      0.229893  \n",
       "3       2.231563      0.050164  \n",
       "4       1.345149      0.073112  "
      ]
     },
     "execution_count": 36,
     "metadata": {},
     "output_type": "execute_result"
    }
   ],
   "source": [
    "return_impurity(dt, X_tr[X_tr.index == random.choice(X_tr.index)]).head(5)"
   ]
  },
  {
   "cell_type": "code",
   "execution_count": 88,
   "metadata": {
    "ExecuteTime": {
     "end_time": "2020-10-30T19:23:46.122537Z",
     "start_time": "2020-10-30T19:23:46.005615Z"
    },
    "scrolled": false
   },
   "outputs": [
    {
     "data": {
      "image/png": "[encoded data removed]",
      "text/plain": [
       "<Figure size 576x396 with 1 Axes>"
      ]
     },
     "metadata": {},
     "output_type": "display_data"
    }
   ],
   "source": [
    "res_g = (\n",
    "    return_impurity(dt, X_tr[X_tr.index == random.choice(X_tr.index)])\n",
    "    .groupby(\"feature\", as_index=False)\n",
    "    .sum()\n",
    ")\n",
    "\n",
    "pie_plot_filtered(res_g, \"samples_gain\", title=\"Impurity Gain\")"
   ]
  },
  {
   "cell_type": "code",
   "execution_count": null,
   "metadata": {},
   "outputs": [],
   "source": []
  },
  {
   "cell_type": "code",
   "execution_count": null,
   "metadata": {},
   "outputs": [],
   "source": []
  }
 ],
 "metadata": {
  "kernelspec": {
   "display_name": "Python 3",
   "language": "python",
   "name": "python3"
  },
  "language_info": {
   "codemirror_mode": {
    "name": "ipython",
    "version": 3
   },
   "file_extension": ".py",
   "mimetype": "text/x-python",
   "name": "python",
   "nbconvert_exporter": "python",
   "pygments_lexer": "ipython3",
   "version": "3.7.6"
  }
 },
 "nbformat": 4,
 "nbformat_minor": 4
}
