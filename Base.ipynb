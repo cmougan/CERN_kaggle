{
 "cells": [
  {
   "cell_type": "code",
   "execution_count": 1,
   "metadata": {
    "ExecuteTime": {
     "end_time": "2020-10-26T14:24:30.373840Z",
     "start_time": "2020-10-26T14:24:30.362317Z"
    }
   },
   "outputs": [
    {
     "data": {
      "application/javascript": [
       "utils.load_extension(\"collapsible_headings/main\")\n",
       "utils.load_extension(\"autosavetime/main\")\n",
       "utils.load_extension(\"execute_time/ExecuteTime\")\n"
      ],
      "text/plain": [
       "<IPython.core.display.Javascript object>"
      ]
     },
     "metadata": {},
     "output_type": "display_data"
    }
   ],
   "source": [
    "%%javascript\n",
    "utils.load_extension(\"collapsible_headings/main\")\n",
    "utils.load_extension(\"autosavetime/main\")\n",
    "utils.load_extension(\"execute_time/ExecuteTime\")"
   ]
  },
  {
   "cell_type": "code",
   "execution_count": 68,
   "metadata": {
    "ExecuteTime": {
     "end_time": "2020-10-26T14:33:53.804295Z",
     "start_time": "2020-10-26T14:33:53.797445Z"
    }
   },
   "outputs": [],
   "source": [
    "import pandas as pd\n",
    "from catboost import CatBoostClassifier\n",
    "import numpy as np\n",
    "import matplotlib.pyplot as plt\n",
    "from cern_utils import plot_feature_importance\n",
    "from sklearn.metrics import roc_auc_score,auc\n",
    "from xgboost import XGBClassifier\n",
    "\n",
    "from sklearn.ensemble import RandomForestClassifier\n",
    "from sklearn.model_selection import train_test_split\n",
    "from sklearn.ensemble import VotingClassifier\n",
    "from sklearn.neural_network import MLPClassifier\n",
    "from sklearn.neighbors import KNeighborsClassifier\n",
    "plt.style.use('seaborn')\n",
    "\n",
    "import math\n",
    "\n",
    "import random \n",
    "random.seed(0)"
   ]
  },
  {
   "cell_type": "code",
   "execution_count": 69,
   "metadata": {
    "ExecuteTime": {
     "end_time": "2020-10-26T14:33:55.124516Z",
     "start_time": "2020-10-26T14:33:54.034178Z"
    }
   },
   "outputs": [],
   "source": [
    "train = pd.read_csv(\"train.csv\", index_col=\"Id\")\n",
    "test = pd.read_csv(\"test.csv\", index_col=\"Id\")\n",
    "train = train.drop(columns=\"BUTTER\")\n",
    "test = test.drop(columns=\"BUTTER\")"
   ]
  },
  {
   "cell_type": "markdown",
   "metadata": {},
   "source": [
    "## Feature Engineering"
   ]
  },
  {
   "cell_type": "code",
   "execution_count": 70,
   "metadata": {
    "ExecuteTime": {
     "end_time": "2020-10-26T14:33:55.138714Z",
     "start_time": "2020-10-26T14:33:55.127176Z"
    }
   },
   "outputs": [],
   "source": [
    "train['train']=1\n",
    "test['train']=0\n"
   ]
  },
  {
   "cell_type": "code",
   "execution_count": 71,
   "metadata": {
    "ExecuteTime": {
     "end_time": "2020-10-26T14:33:55.197861Z",
     "start_time": "2020-10-26T14:33:55.141781Z"
    }
   },
   "outputs": [],
   "source": [
    "df = train.append(test)"
   ]
  },
  {
   "cell_type": "code",
   "execution_count": 48,
   "metadata": {
    "ExecuteTime": {
     "end_time": "2020-10-26T14:32:24.103130Z",
     "start_time": "2020-10-26T14:32:24.099150Z"
    }
   },
   "outputs": [],
   "source": [
    "df.columns = df.columns.str.replace(' ', '')"
   ]
  },
  {
   "cell_type": "code",
   "execution_count": 51,
   "metadata": {
    "ExecuteTime": {
     "end_time": "2020-10-26T14:32:29.480419Z",
     "start_time": "2020-10-26T14:32:29.461561Z"
    },
    "scrolled": true
   },
   "outputs": [
    {
     "data": {
      "text/html": [
       "<div>\n",
       "<style scoped>\n",
       "    .dataframe tbody tr th:only-of-type {\n",
       "        vertical-align: middle;\n",
       "    }\n",
       "\n",
       "    .dataframe tbody tr th {\n",
       "        vertical-align: top;\n",
       "    }\n",
       "\n",
       "    .dataframe thead th {\n",
       "        text-align: right;\n",
       "    }\n",
       "</style>\n",
       "<table border=\"1\" class=\"dataframe\">\n",
       "  <thead>\n",
       "    <tr style=\"text-align: right;\">\n",
       "      <th></th>\n",
       "      <th>B_OWNPV_CHI2</th>\n",
       "      <th>B_IPCHI2_OWNPV</th>\n",
       "      <th>B_FDCHI2_OWNPV</th>\n",
       "      <th>B_DIRA_OWNPV</th>\n",
       "      <th>B_PT</th>\n",
       "      <th>Kst_892_0_IP_OWNPV</th>\n",
       "      <th>Kst_892_0_cosThetaH</th>\n",
       "      <th>Kplus_IP_OWNPV</th>\n",
       "      <th>Kplus_P</th>\n",
       "      <th>piminus_IP_OWNPV</th>\n",
       "      <th>piminus_P</th>\n",
       "      <th>gamma_PT</th>\n",
       "      <th>piminus_ETA</th>\n",
       "      <th>Kplus_ETA</th>\n",
       "      <th>signal</th>\n",
       "      <th>train</th>\n",
       "      <th>Kplu_p_div_Kst_892costheta</th>\n",
       "    </tr>\n",
       "    <tr>\n",
       "      <th>Id</th>\n",
       "      <th></th>\n",
       "      <th></th>\n",
       "      <th></th>\n",
       "      <th></th>\n",
       "      <th></th>\n",
       "      <th></th>\n",
       "      <th></th>\n",
       "      <th></th>\n",
       "      <th></th>\n",
       "      <th></th>\n",
       "      <th></th>\n",
       "      <th></th>\n",
       "      <th></th>\n",
       "      <th></th>\n",
       "      <th></th>\n",
       "      <th></th>\n",
       "      <th></th>\n",
       "    </tr>\n",
       "  </thead>\n",
       "  <tbody>\n",
       "    <tr>\n",
       "      <th>0</th>\n",
       "      <td>28.878847</td>\n",
       "      <td>2.662533</td>\n",
       "      <td>2924.690991</td>\n",
       "      <td>0.999997</td>\n",
       "      <td>19085.568945</td>\n",
       "      <td>0.569198</td>\n",
       "      <td>-0.575502</td>\n",
       "      <td>0.581565</td>\n",
       "      <td>66850.893711</td>\n",
       "      <td>0.637969</td>\n",
       "      <td>14298.486178</td>\n",
       "      <td>7940.694301</td>\n",
       "      <td>2.628526</td>\n",
       "      <td>2.680116</td>\n",
       "      <td>1.0</td>\n",
       "      <td>1</td>\n",
       "      <td>-116160.914011</td>\n",
       "    </tr>\n",
       "    <tr>\n",
       "      <th>1</th>\n",
       "      <td>34.233566</td>\n",
       "      <td>0.092746</td>\n",
       "      <td>346.948714</td>\n",
       "      <td>0.999997</td>\n",
       "      <td>6631.244546</td>\n",
       "      <td>0.248707</td>\n",
       "      <td>-0.615941</td>\n",
       "      <td>0.277898</td>\n",
       "      <td>39274.475071</td>\n",
       "      <td>0.148815</td>\n",
       "      <td>11553.163934</td>\n",
       "      <td>3904.681337</td>\n",
       "      <td>3.292504</td>\n",
       "      <td>3.085754</td>\n",
       "      <td>1.0</td>\n",
       "      <td>1</td>\n",
       "      <td>-63763.390991</td>\n",
       "    </tr>\n",
       "    <tr>\n",
       "      <th>2</th>\n",
       "      <td>36.113632</td>\n",
       "      <td>2.442423</td>\n",
       "      <td>238.553023</td>\n",
       "      <td>0.999986</td>\n",
       "      <td>7740.918989</td>\n",
       "      <td>0.222347</td>\n",
       "      <td>0.249383</td>\n",
       "      <td>0.216576</td>\n",
       "      <td>27757.153899</td>\n",
       "      <td>0.249840</td>\n",
       "      <td>24081.196003</td>\n",
       "      <td>4738.891687</td>\n",
       "      <td>3.433676</td>\n",
       "      <td>3.121906</td>\n",
       "      <td>1.0</td>\n",
       "      <td>1</td>\n",
       "      <td>111303.379111</td>\n",
       "    </tr>\n",
       "    <tr>\n",
       "      <th>3</th>\n",
       "      <td>14.286133</td>\n",
       "      <td>6.337556</td>\n",
       "      <td>227.375132</td>\n",
       "      <td>0.999806</td>\n",
       "      <td>6740.281614</td>\n",
       "      <td>0.347316</td>\n",
       "      <td>0.591884</td>\n",
       "      <td>0.306927</td>\n",
       "      <td>10593.207077</td>\n",
       "      <td>0.400748</td>\n",
       "      <td>11343.521945</td>\n",
       "      <td>3308.943750</td>\n",
       "      <td>2.291867</td>\n",
       "      <td>2.200712</td>\n",
       "      <td>0.0</td>\n",
       "      <td>1</td>\n",
       "      <td>17897.441655</td>\n",
       "    </tr>\n",
       "    <tr>\n",
       "      <th>4</th>\n",
       "      <td>60.474274</td>\n",
       "      <td>7.632751</td>\n",
       "      <td>106.730650</td>\n",
       "      <td>0.999905</td>\n",
       "      <td>5556.388794</td>\n",
       "      <td>0.204273</td>\n",
       "      <td>0.655850</td>\n",
       "      <td>0.196600</td>\n",
       "      <td>11801.249543</td>\n",
       "      <td>0.223101</td>\n",
       "      <td>25940.693317</td>\n",
       "      <td>4026.326871</td>\n",
       "      <td>3.290073</td>\n",
       "      <td>3.281829</td>\n",
       "      <td>0.0</td>\n",
       "      <td>1</td>\n",
       "      <td>17993.825663</td>\n",
       "    </tr>\n",
       "  </tbody>\n",
       "</table>\n",
       "</div>"
      ],
      "text/plain": [
       "    B_OWNPV_CHI2  B_IPCHI2_OWNPV  B_FDCHI2_OWNPV  B_DIRA_OWNPV          B_PT  \\\n",
       "Id                                                                             \n",
       "0      28.878847        2.662533     2924.690991      0.999997  19085.568945   \n",
       "1      34.233566        0.092746      346.948714      0.999997   6631.244546   \n",
       "2      36.113632        2.442423      238.553023      0.999986   7740.918989   \n",
       "3      14.286133        6.337556      227.375132      0.999806   6740.281614   \n",
       "4      60.474274        7.632751      106.730650      0.999905   5556.388794   \n",
       "\n",
       "    Kst_892_0_IP_OWNPV  Kst_892_0_cosThetaH  Kplus_IP_OWNPV       Kplus_P  \\\n",
       "Id                                                                          \n",
       "0             0.569198            -0.575502        0.581565  66850.893711   \n",
       "1             0.248707            -0.615941        0.277898  39274.475071   \n",
       "2             0.222347             0.249383        0.216576  27757.153899   \n",
       "3             0.347316             0.591884        0.306927  10593.207077   \n",
       "4             0.204273             0.655850        0.196600  11801.249543   \n",
       "\n",
       "    piminus_IP_OWNPV     piminus_P     gamma_PT  piminus_ETA  Kplus_ETA  \\\n",
       "Id                                                                        \n",
       "0           0.637969  14298.486178  7940.694301     2.628526   2.680116   \n",
       "1           0.148815  11553.163934  3904.681337     3.292504   3.085754   \n",
       "2           0.249840  24081.196003  4738.891687     3.433676   3.121906   \n",
       "3           0.400748  11343.521945  3308.943750     2.291867   2.200712   \n",
       "4           0.223101  25940.693317  4026.326871     3.290073   3.281829   \n",
       "\n",
       "    signal  train  Kplu_p_div_Kst_892costheta  \n",
       "Id                                             \n",
       "0      1.0      1              -116160.914011  \n",
       "1      1.0      1               -63763.390991  \n",
       "2      1.0      1               111303.379111  \n",
       "3      0.0      1                17897.441655  \n",
       "4      0.0      1                17993.825663  "
      ]
     },
     "execution_count": 51,
     "metadata": {},
     "output_type": "execute_result"
    }
   ],
   "source": [
    "df.head()"
   ]
  },
  {
   "cell_type": "code",
   "execution_count": null,
   "metadata": {
    "ExecuteTime": {
     "end_time": "2020-10-26T08:35:31.738857Z",
     "start_time": "2020-10-26T08:35:31.702982Z"
    }
   },
   "outputs": [],
   "source": []
  },
  {
   "cell_type": "markdown",
   "metadata": {},
   "source": [
    "### Features"
   ]
  },
  {
   "cell_type": "code",
   "execution_count": 62,
   "metadata": {
    "ExecuteTime": {
     "end_time": "2020-10-26T14:33:45.449269Z",
     "start_time": "2020-10-26T14:33:45.412878Z"
    }
   },
   "outputs": [],
   "source": [
    "# Did not work\n",
    "df['Kst_892_0_cosThetaH_arc'] = np.arccos(df['Kst_892_0_cosThetaH'])\n",
    "df['Kst_892_0_cosThetaH_arc_sin'] = np.sin(df.Kst_892_0_cosThetaH_arc)\n",
    "\n",
    "df['Kplu_pXKst_892costheta'] = df['Kplus_P'] * df['Kst_892_0_cosThetaH']\n",
    "\n",
    "\n",
    "df['momentum_by_shortest_dist'] = df['Kplus_P']/df['Kplus_IP_OWNPV']\n",
    "\n",
    "df['momentum_sum'] = df['B_PT'] + df['Kplus_P'] + df['gamma_PT']"
   ]
  },
  {
   "cell_type": "code",
   "execution_count": 63,
   "metadata": {
    "ExecuteTime": {
     "end_time": "2020-10-26T14:33:45.705278Z",
     "start_time": "2020-10-26T14:33:45.695048Z"
    }
   },
   "outputs": [],
   "source": [
    "# Worked individually\n",
    "df['Kplu_p_div_Kst_892costheta'] = df['Kplus_P'] / df['Kst_892_0_cosThetaH']"
   ]
  },
  {
   "cell_type": "code",
   "execution_count": 64,
   "metadata": {
    "ExecuteTime": {
     "end_time": "2020-10-26T14:33:45.950067Z",
     "start_time": "2020-10-26T14:33:45.928445Z"
    }
   },
   "outputs": [],
   "source": [
    "# All mom ratios worked together\n",
    "df[\"mom_rat_1\"] = df[\"B_PT\"] / df[\"Kplus_P\"]\n",
    "df[\"mom_rat_2\"] = df[\"B_PT\"] / df[\"gamma_PT\"]\n",
    "\n",
    "\n",
    "df[\"mom_rat_3\"] = df[\"gamma_PT\"] / df[\"B_PT\"]\n",
    "df[\"mom_rat_4\"] = df[\"gamma_PT\"] / df[\"Kplus_P\"]\n",
    "\n",
    "df[\"mom_rat_5\"] = df[\"Kplus_P\"] / df[\"B_PT\"]\n",
    "df[\"mom_rat_6\"] = df[\"Kplus_P\"] / df[\"gamma_PT\"]"
   ]
  },
  {
   "cell_type": "code",
   "execution_count": 65,
   "metadata": {
    "ExecuteTime": {
     "end_time": "2020-10-26T14:33:46.103998Z",
     "start_time": "2020-10-26T14:33:46.087418Z"
    }
   },
   "outputs": [],
   "source": [
    "# B meson ratios\n",
    "df['mesB_ratio_1'] = df['B_FDCHI2_OWNPV']/df['B_IPCHI2_OWNPV']\n",
    "df['mesB_ratio_2'] = df['B_FDCHI2_OWNPV']/df['B_PT']\n",
    "\n",
    "df['mesB_ratio_3'] = df['B_IPCHI2_OWNPV']/df['B_PT']\n",
    "df['mesB_ratio_4'] = df['B_IPCHI2_OWNPV']/df['B_PT']\n",
    "\n",
    "df['mesB_ratio_5'] = df['B_PT']/df['B_IPCHI2_OWNPV']\n",
    "df['mesB_ratio_6'] = df['B_PT']/df['B_FDCHI2_OWNPV']\n"
   ]
  },
  {
   "cell_type": "code",
   "execution_count": 66,
   "metadata": {
    "ExecuteTime": {
     "end_time": "2020-10-26T14:33:46.541370Z",
     "start_time": "2020-10-26T14:33:46.361802Z"
    }
   },
   "outputs": [],
   "source": [
    "# Neither Improved neither worst\n",
    "df[\"kst_thetaH\"] = np.arccos(df.Kst_892_0_cosThetaH) * 180 / np.pi\n",
    "df[\"kst_thetaH_sin\"] = np.sin(df[\"kst_thetaH\"])\n",
    "df[\"kst_thetaH_cos\"] = np.cos(df[\"kst_thetaH\"])\n",
    "df[\"kst_thetaH_sin_cos\"] = np.sin(df[\"kst_thetaH\"]) - np.cos(df[\"kst_thetaH\"])\n",
    "df[\"kst_thetaH_tan\"] = np.tan(df[\"kst_thetaH\"])\n",
    "df[\"kst_thetaH_exp\"] = np.exp(df[\"kst_thetaH\"])\n",
    "df[\"kst_thetaH_exp_1\"] = np.exp(-df[\"kst_thetaH\"])\n",
    "\n",
    "\n",
    "df[\"B_DIRA_OWNPV_angle\"] = np.arccos(df[\"B_DIRA_OWNPV\"]) * 180 / np.pi\n",
    "df[\"B_DIRA_OWNPV__cos\"] = np.cos(df[\"B_DIRA_OWNPV_angle\"])\n",
    "df[\"B_DIRA_OWNPV__sin\"] = np.sin(df[\"B_DIRA_OWNPV_angle\"])\n",
    "df[\"B_DIRA_OWNPV__tan\"] = np.tan(df[\"B_DIRA_OWNPV_angle\"])\n",
    "df[\"B_DIRA_OWNPV__sin_cos\"] = np.sin(df[\"B_DIRA_OWNPV_angle\"]) - np.cos(\n",
    "    df[\"B_DIRA_OWNPV_angle\"]\n",
    ")\n",
    "df[\"B_DIRA_OWNPV_exp\"] = np.exp(df[\"B_DIRA_OWNPV_angle\"])\n",
    "df[\"B_DIRA_OWNPV_exp_1\"] = np.exp(-df[\"B_DIRA_OWNPV_angle\"])\n",
    "\n",
    "# Momentum multiplication\n",
    "df['mom1_exp'] = df[\"mom_rat_1\"] * df[\"B_DIRA_OWNPV_exp\"] \n",
    "df['mom2_exp'] = df[\"mom_rat_2\"] * df[\"B_DIRA_OWNPV_exp\"] \n",
    "df['mom3_exp'] = df[\"mom_rat_3\"] * df[\"B_DIRA_OWNPV_exp\"] \n",
    "df['mom4_exp'] = df[\"mom_rat_4\"] * df[\"B_DIRA_OWNPV_exp\"] \n",
    "df['mom5_exp'] = df[\"mom_rat_5\"] * df[\"B_DIRA_OWNPV_exp\"] \n",
    "df['mom6_exp'] = df[\"mom_rat_6\"] * df[\"B_DIRA_OWNPV_exp\"] \n",
    "df['mom7_exp'] = df[\"B_PT\"] * df[\"B_DIRA_OWNPV_exp\"] \n",
    "df['mom8_exp'] = df[\"Kplus_P\"] * df[\"B_DIRA_OWNPV_exp\"] \n",
    "df['mom9_exp'] = df[\"gamma_PT\"] * df[\"B_DIRA_OWNPV_exp\"] \n",
    "\n",
    "\n",
    "\n",
    "df['mom11_exp'] = df[\"mom_rat_1\"] * df[\"kst_thetaH\"] \n",
    "df['mom22_exp'] = df[\"mom_rat_2\"] * df[\"kst_thetaH\"] \n",
    "df['mom33_exp'] = df[\"mom_rat_3\"] * df[\"kst_thetaH\"] \n",
    "df['mom44_exp'] = df[\"mom_rat_4\"] * df[\"kst_thetaH\"] \n",
    "df['mom55_exp'] = df[\"mom_rat_5\"] * df[\"kst_thetaH\"] \n",
    "df['mom66_exp'] = df[\"mom_rat_6\"] * df[\"kst_thetaH\"] \n",
    "df['mom77_exp'] = df[\"B_PT\"] * df[\"kst_thetaH\"] \n",
    "df['mom88_exp'] = df[\"Kplus_P\"] * df[\"kst_thetaH\"] \n",
    "df['mom99_exp'] = df[\"gamma_PT\"] * df[\"kst_thetaH\"] \n",
    "\n",
    "\n",
    "\n",
    "df['Kplus_ETA_2'] = df['Kplus_ETA']**2\n",
    "df['Kplus_ETA_exp'] = np.exp(df['Kplus_ETA'])\n",
    "df['Kplus_ETA_theta'] = df['Kplus_ETA'] * df[\"kst_thetaH\"]\n",
    "df['Kplus_ETA_div_theta'] = df['Kplus_ETA'] / df[\"kst_thetaH\"]\n",
    "df['Kplus_ETA_theta_sin'] = df['Kplus_ETA'] * df[\"kst_thetaH_sin\"]\n",
    "df['Kplus_ETA_theta_tan'] = df['Kplus_ETA'] * df[\"kst_thetaH_tan\"]\n",
    "\n",
    "df['piminus_ETA_2'] = df['piminus_ETA']**2\n",
    "df['piminus_ETA_exp'] = np.exp(df['piminus_ETA'])\n",
    "df['piminus_ETA_theta'] = df['piminus_ETA'] * df[\"kst_thetaH\"]\n",
    "df['piminus_ETA_div_theta'] = df['piminus_ETA'] / df[\"kst_thetaH\"]\n",
    "df['piminus_ETA_theta_sin'] = df['piminus_ETA'] * df[\"kst_thetaH_sin\"]\n",
    "df['piminus_ETA_theta_tan'] = df['piminus_ETA'] * df[\"kst_thetaH_tan\"]"
   ]
  },
  {
   "cell_type": "markdown",
   "metadata": {},
   "source": [
    "## Splits"
   ]
  },
  {
   "cell_type": "code",
   "execution_count": 58,
   "metadata": {
    "ExecuteTime": {
     "end_time": "2020-10-26T14:32:36.221992Z",
     "start_time": "2020-10-26T14:32:35.390604Z"
    }
   },
   "outputs": [],
   "source": [
    "train = df[df['train']==1].drop(columns='train')\n",
    "test = df[df['train']==0].drop(columns='train')"
   ]
  },
  {
   "cell_type": "code",
   "execution_count": 59,
   "metadata": {
    "ExecuteTime": {
     "end_time": "2020-10-26T14:32:36.481426Z",
     "start_time": "2020-10-26T14:32:36.224437Z"
    }
   },
   "outputs": [],
   "source": [
    "X_tr, X_te, y_tr, y_te = train_test_split(\n",
    "    train.drop(columns=\"signal\"),\n",
    "    train.signal,\n",
    "    stratify=train.signal,\n",
    "    random_state=0,  # train_size=0.99\n",
    ")"
   ]
  },
  {
   "cell_type": "markdown",
   "metadata": {},
   "source": [
    "## Catboost"
   ]
  },
  {
   "cell_type": "code",
   "execution_count": 60,
   "metadata": {
    "ExecuteTime": {
     "end_time": "2020-10-26T14:32:48.322118Z",
     "start_time": "2020-10-26T14:32:38.590978Z"
    }
   },
   "outputs": [
    {
     "data": {
      "text/plain": [
       "<catboost.core.CatBoostClassifier at 0x7fa1902c5610>"
      ]
     },
     "execution_count": 60,
     "metadata": {},
     "output_type": "execute_result"
    }
   ],
   "source": [
    "cb = CatBoostClassifier(verbose=0, eval_metric=\"AUC\", iterations=200,\n",
    "                        random_seed=0)\n",
    "cb.fit(X_tr, y_tr)"
   ]
  },
  {
   "cell_type": "code",
   "execution_count": 61,
   "metadata": {
    "ExecuteTime": {
     "end_time": "2020-10-26T14:32:48.485703Z",
     "start_time": "2020-10-26T14:32:48.324783Z"
    },
    "scrolled": true
   },
   "outputs": [
    {
     "name": "stdout",
     "output_type": "stream",
     "text": [
      "train 0.8964654719794009\n",
      "test 0.8682442062479099\n"
     ]
    }
   ],
   "source": [
    "print(\"train\", roc_auc_score(y_tr.values,cb.predict_proba(X_tr)[:,1]))\n",
    "print(\"test\", roc_auc_score( y_te,cb.predict_proba(X_te)[:,1]))"
   ]
  },
  {
   "cell_type": "code",
   "execution_count": 41,
   "metadata": {
    "ExecuteTime": {
     "end_time": "2020-10-26T14:30:32.297373Z",
     "start_time": "2020-10-26T14:30:32.082474Z"
    },
    "scrolled": false
   },
   "outputs": [
    {
     "name": "stdout",
     "output_type": "stream",
     "text": [
      "65 features, reduction of 0.00%\n"
     ]
    },
    {
     "data": {
      "image/png": "[encoded data removed]",
      "text/plain": [
       "<Figure size 1296x432 with 1 Axes>"
      ]
     },
     "metadata": {},
     "output_type": "display_data"
    }
   ],
   "source": [
    "plot_feature_importance(X_tr.columns,cb.get_feature_importance())"
   ]
  },
  {
   "cell_type": "markdown",
   "metadata": {},
   "source": [
    "## Xgb"
   ]
  },
  {
   "cell_type": "code",
   "execution_count": 9,
   "metadata": {
    "ExecuteTime": {
     "end_time": "2020-10-24T10:22:34.560417Z",
     "start_time": "2020-10-24T10:22:17.548664Z"
    }
   },
   "outputs": [
    {
     "data": {
      "text/plain": [
       "XGBClassifier(base_score=0.5, booster='gbtree', colsample_bylevel=1,\n",
       "              colsample_bynode=1, colsample_bytree=1, gamma=0, gpu_id=-1,\n",
       "              importance_type='gain', interaction_constraints='',\n",
       "              learning_rate=0.300000012, max_delta_step=0, max_depth=6,\n",
       "              min_child_weight=1, missing=nan, monotone_constraints='()',\n",
       "              n_estimators=100, n_jobs=0, num_parallel_tree=1,\n",
       "              objective='binary:logistic', random_state=0, reg_alpha=0,\n",
       "              reg_lambda=1, scale_pos_weight=1, subsample=1,\n",
       "              tree_method='exact', validate_parameters=1, verbosity=None)"
      ]
     },
     "execution_count": 9,
     "metadata": {},
     "output_type": "execute_result"
    }
   ],
   "source": [
    "xgb = XGBClassifier()\n",
    "xgb.fit(X_tr, y_tr)"
   ]
  },
  {
   "cell_type": "code",
   "execution_count": 10,
   "metadata": {
    "ExecuteTime": {
     "end_time": "2020-10-24T10:22:35.154328Z",
     "start_time": "2020-10-24T10:22:34.564293Z"
    }
   },
   "outputs": [
    {
     "name": "stdout",
     "output_type": "stream",
     "text": [
      "train 0.9040068124561615\n",
      "test 0.8589757476528211\n"
     ]
    }
   ],
   "source": [
    "print(\"train\", roc_auc_score(y_tr.values,xgb.predict_proba(X_tr)[:,1]))\n",
    "print(\"test\", roc_auc_score( y_te,xgb.predict_proba(X_te)[:,1]))"
   ]
  },
  {
   "cell_type": "markdown",
   "metadata": {},
   "source": [
    "## Random Forest"
   ]
  },
  {
   "cell_type": "code",
   "execution_count": 22,
   "metadata": {
    "ExecuteTime": {
     "end_time": "2020-10-24T10:34:23.589193Z",
     "start_time": "2020-10-24T10:33:58.650315Z"
    }
   },
   "outputs": [
    {
     "data": {
      "text/plain": [
       "RandomForestClassifier(bootstrap=True, ccp_alpha=0.0, class_weight=None,\n",
       "                       criterion='gini', max_depth=None, max_features='auto',\n",
       "                       max_leaf_nodes=None, max_samples=None,\n",
       "                       min_impurity_decrease=0.0, min_impurity_split=None,\n",
       "                       min_samples_leaf=10, min_samples_split=2,\n",
       "                       min_weight_fraction_leaf=0.0, n_estimators=50,\n",
       "                       n_jobs=None, oob_score=False, random_state=None,\n",
       "                       verbose=0, warm_start=False)"
      ]
     },
     "execution_count": 22,
     "metadata": {},
     "output_type": "execute_result"
    }
   ],
   "source": [
    "rf = RandomForestClassifier(n_estimators=50,min_samples_leaf=10)\n",
    "rf.fit(X_tr,y_tr)"
   ]
  },
  {
   "cell_type": "code",
   "execution_count": 23,
   "metadata": {
    "ExecuteTime": {
     "end_time": "2020-10-24T10:34:27.494863Z",
     "start_time": "2020-10-24T10:34:25.363510Z"
    },
    "scrolled": true
   },
   "outputs": [
    {
     "name": "stdout",
     "output_type": "stream",
     "text": [
      "train 0.9494586020732473\n",
      "test 0.8351622265789387\n"
     ]
    }
   ],
   "source": [
    "print(\"train\", roc_auc_score(y_tr.values,rf.predict_proba(X_tr)[:,1]))\n",
    "print(\"test\", roc_auc_score( y_te,rf.predict_proba(X_te)[:,1]))"
   ]
  },
  {
   "cell_type": "markdown",
   "metadata": {},
   "source": [
    "## Voting Classifier"
   ]
  },
  {
   "cell_type": "raw",
   "metadata": {
    "ExecuteTime": {
     "end_time": "2020-10-23T21:55:02.972655Z",
     "start_time": "2020-10-23T21:55:02.968550Z"
    }
   },
   "source": [
    "vc = VotingClassifier(estimators=[(\"cb\", cb), (\"xgb\", xgb), (\"rf\", rf)], voting=\"soft\")\n",
    "\n",
    "vc.fit(X_tr, y_tr)\n",
    "\n",
    "print(\"train\", roc_auc_score(y_tr.values, vc.predict_proba(X_tr)[:, 1]))\n",
    "print(\"test\", roc_auc_score(y_te, vc.predict_proba(X_te)[:, 1]))"
   ]
  },
  {
   "cell_type": "code",
   "execution_count": null,
   "metadata": {},
   "outputs": [],
   "source": []
  },
  {
   "cell_type": "markdown",
   "metadata": {},
   "source": [
    "## Own Ensemble"
   ]
  },
  {
   "cell_type": "raw",
   "metadata": {
    "ExecuteTime": {
     "end_time": "2020-10-24T10:30:17.653556Z",
     "start_time": "2020-10-24T10:23:12.763324Z"
    }
   },
   "source": [
    "mlp = MLPClassifier(random_state=1, max_iter=300).fit(X_tr, y_tr)\n",
    "\n",
    "print(\"train\", roc_auc_score(y_tr.values,mlp.predict_proba(X_tr)[:,1]))\n",
    "print(\"test\", roc_auc_score( y_te,mlp.predict_proba(X_te)[:,1]))\n",
    "\n",
    "# test 0.78"
   ]
  },
  {
   "cell_type": "markdown",
   "metadata": {},
   "source": [
    "## KNN"
   ]
  },
  {
   "cell_type": "code",
   "execution_count": 16,
   "metadata": {
    "ExecuteTime": {
     "end_time": "2020-10-25T09:50:48.202453Z",
     "start_time": "2020-10-25T09:50:47.233808Z"
    }
   },
   "outputs": [
    {
     "data": {
      "text/plain": [
       "KNeighborsClassifier(algorithm='auto', leaf_size=30, metric='minkowski',\n",
       "                     metric_params=None, n_jobs=None, n_neighbors=10, p=2,\n",
       "                     weights='uniform')"
      ]
     },
     "execution_count": 16,
     "metadata": {},
     "output_type": "execute_result"
    }
   ],
   "source": [
    "knn = KNeighborsClassifier(n_neighbors=10)\n",
    "\n",
    "knn.fit(X_tr, y_tr)\n"
   ]
  },
  {
   "cell_type": "code",
   "execution_count": 17,
   "metadata": {
    "ExecuteTime": {
     "end_time": "2020-10-25T09:51:30.917678Z",
     "start_time": "2020-10-25T09:50:48.205573Z"
    }
   },
   "outputs": [
    {
     "name": "stdout",
     "output_type": "stream",
     "text": [
      "train 0.8311094479804438\n",
      "test 0.746261194549087\n"
     ]
    }
   ],
   "source": [
    "print(\"train\", roc_auc_score(y_tr.values, knn.predict_proba(X_tr)[:, 1]))\n",
    "print(\"test\", roc_auc_score(y_te, knn.predict_proba(X_te)[:, 1]))"
   ]
  },
  {
   "cell_type": "markdown",
   "metadata": {},
   "source": [
    "## Submission"
   ]
  },
  {
   "cell_type": "code",
   "execution_count": 196,
   "metadata": {
    "ExecuteTime": {
     "end_time": "2020-10-25T06:21:59.073057Z",
     "start_time": "2020-10-25T06:21:58.960955Z"
    }
   },
   "outputs": [],
   "source": [
    "test['Predicted'] = cb.predict_proba(test)[:,1]"
   ]
  },
  {
   "cell_type": "code",
   "execution_count": 197,
   "metadata": {
    "ExecuteTime": {
     "end_time": "2020-10-25T06:22:16.547088Z",
     "start_time": "2020-10-25T06:22:16.121399Z"
    }
   },
   "outputs": [],
   "source": [
    "test[['Predicted']].to_csv('submissions/cb_feat1.csv')"
   ]
  },
  {
   "cell_type": "code",
   "execution_count": null,
   "metadata": {},
   "outputs": [],
   "source": []
  }
 ],
 "metadata": {
  "kernelspec": {
   "display_name": "Python 3",
   "language": "python",
   "name": "python3"
  },
  "language_info": {
   "codemirror_mode": {
    "name": "ipython",
    "version": 3
   },
   "file_extension": ".py",
   "mimetype": "text/x-python",
   "name": "python",
   "nbconvert_exporter": "python",
   "pygments_lexer": "ipython3",
   "version": "3.7.6"
  }
 },
 "nbformat": 4,
 "nbformat_minor": 4
}
